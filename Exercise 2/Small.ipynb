{
 "cells": [
  {
   "cell_type": "markdown",
   "source": [
    "# Exercise PPM Part 2 - Small dataset\n",
    "\n",
    "Imports"
   ],
   "metadata": {
    "collapsed": false
   },
   "id": "500d825bcbfeff98"
  },
  {
   "cell_type": "code",
   "execution_count": 2,
   "outputs": [],
   "source": [
    "import pandas as pd"
   ],
   "metadata": {
    "collapsed": false,
    "ExecuteTime": {
     "end_time": "2023-12-05T11:11:32.153179Z",
     "start_time": "2023-12-05T11:11:31.926728Z"
    }
   },
   "id": "20987f95a08935b1"
  },
  {
   "cell_type": "markdown",
   "source": [
    "Import an event log as a pandas dataframe"
   ],
   "metadata": {
    "collapsed": false
   },
   "id": "9380261200e4714c"
  },
  {
   "cell_type": "code",
   "execution_count": 3,
   "outputs": [
    {
     "data": {
      "text/plain": "           Case  Event    Activity            Timestamp  \\\n0        case_0   9367  Activity A  1970-01-01 09:00:00   \n1        case_0   9368  Activity B  1970-01-01 10:00:00   \n2        case_0   9369  Activity C  1970-01-01 11:00:00   \n3        case_0   9370  Activity D  1970-01-01 12:00:00   \n4        case_0   9371  Activity E  1970-01-01 13:00:00   \n...         ...    ...         ...                  ...   \n45842  case_999  31364  Activity E  1970-01-01 13:00:00   \n45843  case_999  31365  Activity K  1970-01-01 14:00:00   \n45844  case_999  31366  Activity Q  1970-01-01 15:00:00   \n45845  case_999  31367  Activity L  1970-01-01 16:00:00   \n45846  case_999  31368  Activity F  1970-01-01 17:00:00   \n\n                    Resource  Resource_failure_rate  Resource_Pass/Fail  \\\n0      Resource_Group2_res_1               0.026984                   0   \n1      Resource_Group0_res_0               0.018454                   0   \n2      Resource_Group1_res_0               0.002551                   0   \n3      Resource_Group2_res_2               0.029775                   0   \n4      Resource_Group0_res_0               0.018454                   0   \n...                      ...                    ...                 ...   \n45842  Resource_Group0_res_0               0.018454                   0   \n45843  Resource_Group1_res_1               0.007068                   0   \n45844  Resource_Group0_res_0               0.018454                   0   \n45845  Resource_Group0_res_0               0.018454                   0   \n45846  Resource_Group0_res_0               0.018454                   0   \n\n       order resource_anomaly_type resource_parameter  trace_change_resource  \\\n0          1                normal                NaN                      0   \n1          2                normal                NaN                      0   \n2          3                normal                NaN                      0   \n3          4                normal                NaN                      0   \n4          5                normal                NaN                      0   \n...      ...                   ...                ...                    ...   \n45842      5                normal                NaN                      0   \n45843      6                normal                NaN                      0   \n45844      7                normal                NaN                      0   \n45845      8                normal                NaN                      0   \n45846      9                normal                NaN                      0   \n\n      variant_num  \n0         var_358  \n1         var_358  \n2         var_358  \n3         var_358  \n4         var_358  \n...           ...  \n45842     var_171  \n45843     var_171  \n45844     var_171  \n45845     var_171  \n45846     var_171  \n\n[45847 rows x 12 columns]",
      "text/html": "<div>\n<style scoped>\n    .dataframe tbody tr th:only-of-type {\n        vertical-align: middle;\n    }\n\n    .dataframe tbody tr th {\n        vertical-align: top;\n    }\n\n    .dataframe thead th {\n        text-align: right;\n    }\n</style>\n<table border=\"1\" class=\"dataframe\">\n  <thead>\n    <tr style=\"text-align: right;\">\n      <th></th>\n      <th>Case</th>\n      <th>Event</th>\n      <th>Activity</th>\n      <th>Timestamp</th>\n      <th>Resource</th>\n      <th>Resource_failure_rate</th>\n      <th>Resource_Pass/Fail</th>\n      <th>order</th>\n      <th>resource_anomaly_type</th>\n      <th>resource_parameter</th>\n      <th>trace_change_resource</th>\n      <th>variant_num</th>\n    </tr>\n  </thead>\n  <tbody>\n    <tr>\n      <th>0</th>\n      <td>case_0</td>\n      <td>9367</td>\n      <td>Activity A</td>\n      <td>1970-01-01 09:00:00</td>\n      <td>Resource_Group2_res_1</td>\n      <td>0.026984</td>\n      <td>0</td>\n      <td>1</td>\n      <td>normal</td>\n      <td>NaN</td>\n      <td>0</td>\n      <td>var_358</td>\n    </tr>\n    <tr>\n      <th>1</th>\n      <td>case_0</td>\n      <td>9368</td>\n      <td>Activity B</td>\n      <td>1970-01-01 10:00:00</td>\n      <td>Resource_Group0_res_0</td>\n      <td>0.018454</td>\n      <td>0</td>\n      <td>2</td>\n      <td>normal</td>\n      <td>NaN</td>\n      <td>0</td>\n      <td>var_358</td>\n    </tr>\n    <tr>\n      <th>2</th>\n      <td>case_0</td>\n      <td>9369</td>\n      <td>Activity C</td>\n      <td>1970-01-01 11:00:00</td>\n      <td>Resource_Group1_res_0</td>\n      <td>0.002551</td>\n      <td>0</td>\n      <td>3</td>\n      <td>normal</td>\n      <td>NaN</td>\n      <td>0</td>\n      <td>var_358</td>\n    </tr>\n    <tr>\n      <th>3</th>\n      <td>case_0</td>\n      <td>9370</td>\n      <td>Activity D</td>\n      <td>1970-01-01 12:00:00</td>\n      <td>Resource_Group2_res_2</td>\n      <td>0.029775</td>\n      <td>0</td>\n      <td>4</td>\n      <td>normal</td>\n      <td>NaN</td>\n      <td>0</td>\n      <td>var_358</td>\n    </tr>\n    <tr>\n      <th>4</th>\n      <td>case_0</td>\n      <td>9371</td>\n      <td>Activity E</td>\n      <td>1970-01-01 13:00:00</td>\n      <td>Resource_Group0_res_0</td>\n      <td>0.018454</td>\n      <td>0</td>\n      <td>5</td>\n      <td>normal</td>\n      <td>NaN</td>\n      <td>0</td>\n      <td>var_358</td>\n    </tr>\n    <tr>\n      <th>...</th>\n      <td>...</td>\n      <td>...</td>\n      <td>...</td>\n      <td>...</td>\n      <td>...</td>\n      <td>...</td>\n      <td>...</td>\n      <td>...</td>\n      <td>...</td>\n      <td>...</td>\n      <td>...</td>\n      <td>...</td>\n    </tr>\n    <tr>\n      <th>45842</th>\n      <td>case_999</td>\n      <td>31364</td>\n      <td>Activity E</td>\n      <td>1970-01-01 13:00:00</td>\n      <td>Resource_Group0_res_0</td>\n      <td>0.018454</td>\n      <td>0</td>\n      <td>5</td>\n      <td>normal</td>\n      <td>NaN</td>\n      <td>0</td>\n      <td>var_171</td>\n    </tr>\n    <tr>\n      <th>45843</th>\n      <td>case_999</td>\n      <td>31365</td>\n      <td>Activity K</td>\n      <td>1970-01-01 14:00:00</td>\n      <td>Resource_Group1_res_1</td>\n      <td>0.007068</td>\n      <td>0</td>\n      <td>6</td>\n      <td>normal</td>\n      <td>NaN</td>\n      <td>0</td>\n      <td>var_171</td>\n    </tr>\n    <tr>\n      <th>45844</th>\n      <td>case_999</td>\n      <td>31366</td>\n      <td>Activity Q</td>\n      <td>1970-01-01 15:00:00</td>\n      <td>Resource_Group0_res_0</td>\n      <td>0.018454</td>\n      <td>0</td>\n      <td>7</td>\n      <td>normal</td>\n      <td>NaN</td>\n      <td>0</td>\n      <td>var_171</td>\n    </tr>\n    <tr>\n      <th>45845</th>\n      <td>case_999</td>\n      <td>31367</td>\n      <td>Activity L</td>\n      <td>1970-01-01 16:00:00</td>\n      <td>Resource_Group0_res_0</td>\n      <td>0.018454</td>\n      <td>0</td>\n      <td>8</td>\n      <td>normal</td>\n      <td>NaN</td>\n      <td>0</td>\n      <td>var_171</td>\n    </tr>\n    <tr>\n      <th>45846</th>\n      <td>case_999</td>\n      <td>31368</td>\n      <td>Activity F</td>\n      <td>1970-01-01 17:00:00</td>\n      <td>Resource_Group0_res_0</td>\n      <td>0.018454</td>\n      <td>0</td>\n      <td>9</td>\n      <td>normal</td>\n      <td>NaN</td>\n      <td>0</td>\n      <td>var_171</td>\n    </tr>\n  </tbody>\n</table>\n<p>45847 rows × 12 columns</p>\n</div>"
     },
     "execution_count": 3,
     "metadata": {},
     "output_type": "execute_result"
    }
   ],
   "source": [
    "df = pd.read_csv(\"Event_Logs/small3insert.csv\")\n",
    "df"
   ],
   "metadata": {
    "collapsed": false,
    "ExecuteTime": {
     "end_time": "2023-12-05T11:11:33.953334Z",
     "start_time": "2023-12-05T11:11:33.881738Z"
    }
   },
   "id": "bb3713fda1840703"
  },
  {
   "cell_type": "markdown",
   "source": [
    "Create an event log that retains only the attributes caseid, activity, timestamp, resource and outcome."
   ],
   "metadata": {
    "collapsed": false
   },
   "id": "6326c9942ea8c45f"
  },
  {
   "cell_type": "code",
   "execution_count": 6,
   "outputs": [
    {
     "data": {
      "text/plain": "         caseid    activity            timestamp               resource  \\\n0        case_0  Activity A  1970-01-01 09:00:00  Resource_Group2_res_1   \n1        case_0  Activity B  1970-01-01 10:00:00  Resource_Group0_res_0   \n2        case_0  Activity C  1970-01-01 11:00:00  Resource_Group1_res_0   \n3        case_0  Activity D  1970-01-01 12:00:00  Resource_Group2_res_2   \n4        case_0  Activity E  1970-01-01 13:00:00  Resource_Group0_res_0   \n...         ...         ...                  ...                    ...   \n45842  case_999  Activity E  1970-01-01 13:00:00  Resource_Group0_res_0   \n45843  case_999  Activity K  1970-01-01 14:00:00  Resource_Group1_res_1   \n45844  case_999  Activity Q  1970-01-01 15:00:00  Resource_Group0_res_0   \n45845  case_999  Activity L  1970-01-01 16:00:00  Resource_Group0_res_0   \n45846  case_999  Activity F  1970-01-01 17:00:00  Resource_Group0_res_0   \n\n      outcome  \n0      normal  \n1      normal  \n2      normal  \n3      normal  \n4      normal  \n...       ...  \n45842  normal  \n45843  normal  \n45844  normal  \n45845  normal  \n45846  normal  \n\n[45847 rows x 5 columns]",
      "text/html": "<div>\n<style scoped>\n    .dataframe tbody tr th:only-of-type {\n        vertical-align: middle;\n    }\n\n    .dataframe tbody tr th {\n        vertical-align: top;\n    }\n\n    .dataframe thead th {\n        text-align: right;\n    }\n</style>\n<table border=\"1\" class=\"dataframe\">\n  <thead>\n    <tr style=\"text-align: right;\">\n      <th></th>\n      <th>caseid</th>\n      <th>activity</th>\n      <th>timestamp</th>\n      <th>resource</th>\n      <th>outcome</th>\n    </tr>\n  </thead>\n  <tbody>\n    <tr>\n      <th>0</th>\n      <td>case_0</td>\n      <td>Activity A</td>\n      <td>1970-01-01 09:00:00</td>\n      <td>Resource_Group2_res_1</td>\n      <td>normal</td>\n    </tr>\n    <tr>\n      <th>1</th>\n      <td>case_0</td>\n      <td>Activity B</td>\n      <td>1970-01-01 10:00:00</td>\n      <td>Resource_Group0_res_0</td>\n      <td>normal</td>\n    </tr>\n    <tr>\n      <th>2</th>\n      <td>case_0</td>\n      <td>Activity C</td>\n      <td>1970-01-01 11:00:00</td>\n      <td>Resource_Group1_res_0</td>\n      <td>normal</td>\n    </tr>\n    <tr>\n      <th>3</th>\n      <td>case_0</td>\n      <td>Activity D</td>\n      <td>1970-01-01 12:00:00</td>\n      <td>Resource_Group2_res_2</td>\n      <td>normal</td>\n    </tr>\n    <tr>\n      <th>4</th>\n      <td>case_0</td>\n      <td>Activity E</td>\n      <td>1970-01-01 13:00:00</td>\n      <td>Resource_Group0_res_0</td>\n      <td>normal</td>\n    </tr>\n    <tr>\n      <th>...</th>\n      <td>...</td>\n      <td>...</td>\n      <td>...</td>\n      <td>...</td>\n      <td>...</td>\n    </tr>\n    <tr>\n      <th>45842</th>\n      <td>case_999</td>\n      <td>Activity E</td>\n      <td>1970-01-01 13:00:00</td>\n      <td>Resource_Group0_res_0</td>\n      <td>normal</td>\n    </tr>\n    <tr>\n      <th>45843</th>\n      <td>case_999</td>\n      <td>Activity K</td>\n      <td>1970-01-01 14:00:00</td>\n      <td>Resource_Group1_res_1</td>\n      <td>normal</td>\n    </tr>\n    <tr>\n      <th>45844</th>\n      <td>case_999</td>\n      <td>Activity Q</td>\n      <td>1970-01-01 15:00:00</td>\n      <td>Resource_Group0_res_0</td>\n      <td>normal</td>\n    </tr>\n    <tr>\n      <th>45845</th>\n      <td>case_999</td>\n      <td>Activity L</td>\n      <td>1970-01-01 16:00:00</td>\n      <td>Resource_Group0_res_0</td>\n      <td>normal</td>\n    </tr>\n    <tr>\n      <th>45846</th>\n      <td>case_999</td>\n      <td>Activity F</td>\n      <td>1970-01-01 17:00:00</td>\n      <td>Resource_Group0_res_0</td>\n      <td>normal</td>\n    </tr>\n  </tbody>\n</table>\n<p>45847 rows × 5 columns</p>\n</div>"
     },
     "execution_count": 6,
     "metadata": {},
     "output_type": "execute_result"
    }
   ],
   "source": [
    "df = df.rename(columns={\"Case\":\"caseid\", \"Activity\":\"activity\", \"Timestamp\":\"timestamp\", \"Resource\":\"resource\", \"resource_anomaly_type\":\"outcome\"})\n",
    "df_2 = df[[\"caseid\", \"activity\", \"timestamp\", \"resource\", \"outcome\"]].copy()\n",
    "df_2"
   ],
   "metadata": {
    "collapsed": false,
    "ExecuteTime": {
     "end_time": "2023-12-05T11:16:13.770533Z",
     "start_time": "2023-12-05T11:16:13.751824Z"
    }
   },
   "id": "2d1c1d2dbfed8cdb"
  },
  {
   "cell_type": "code",
   "execution_count": null,
   "outputs": [],
   "source": [],
   "metadata": {
    "collapsed": false
   },
   "id": "5626827904273637"
  }
 ],
 "metadata": {
  "kernelspec": {
   "display_name": "Python 3",
   "language": "python",
   "name": "python3"
  },
  "language_info": {
   "codemirror_mode": {
    "name": "ipython",
    "version": 2
   },
   "file_extension": ".py",
   "mimetype": "text/x-python",
   "name": "python",
   "nbconvert_exporter": "python",
   "pygments_lexer": "ipython2",
   "version": "2.7.6"
  }
 },
 "nbformat": 4,
 "nbformat_minor": 5
}
