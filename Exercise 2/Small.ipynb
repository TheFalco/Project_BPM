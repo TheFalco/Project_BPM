{
 "cells": [
  {
   "cell_type": "markdown",
   "source": [
    "# Exercise PPM Part 2 - Small dataset\n",
    "\n",
    "Imports"
   ],
   "metadata": {
    "collapsed": false
   },
   "id": "500d825bcbfeff98"
  },
  {
   "cell_type": "code",
   "execution_count": 1,
   "outputs": [],
   "source": [
    "import pandas as pd\n",
    "import warnings\n",
    "import numpy as np\n",
    "from datetime import datetime\n",
    "import calendar\n",
    "import time\n",
    "from sklearn.ensemble import RandomForestClassifier\n",
    "from sklearn.tree import DecisionTreeClassifier\n",
    "from sklearn.metrics import precision_score, recall_score, f1_score\n",
    "from sklearn.model_selection import train_test_split\n",
    "warnings.simplefilter(\"ignore\")"
   ],
   "metadata": {
    "collapsed": false,
    "ExecuteTime": {
     "end_time": "2024-01-11T13:36:50.667309Z",
     "start_time": "2024-01-11T13:36:35.767701Z"
    }
   },
   "id": "20987f95a08935b1"
  },
  {
   "cell_type": "markdown",
   "source": [
    "Import an event log as a pandas dataframe"
   ],
   "metadata": {
    "collapsed": false
   },
   "id": "9380261200e4714c"
  },
  {
   "cell_type": "code",
   "execution_count": 2,
   "outputs": [
    {
     "data": {
      "text/plain": "           Case  Event    Activity            Timestamp  \\\n0        case_0   9367  Activity A  1970-01-01 09:00:00   \n1        case_0   9368  Activity B  1970-01-01 10:00:00   \n2        case_0   9369  Activity C  1970-01-01 11:00:00   \n3        case_0   9370  Activity D  1970-01-01 12:00:00   \n4        case_0   9371  Activity E  1970-01-01 13:00:00   \n...         ...    ...         ...                  ...   \n45842  case_999  31364  Activity E  1970-01-01 13:00:00   \n45843  case_999  31365  Activity K  1970-01-01 14:00:00   \n45844  case_999  31366  Activity Q  1970-01-01 15:00:00   \n45845  case_999  31367  Activity L  1970-01-01 16:00:00   \n45846  case_999  31368  Activity F  1970-01-01 17:00:00   \n\n                    Resource  Resource_failure_rate  Resource_Pass/Fail  \\\n0      Resource_Group2_res_1               0.026984                   0   \n1      Resource_Group0_res_0               0.018454                   0   \n2      Resource_Group1_res_0               0.002551                   0   \n3      Resource_Group2_res_2               0.029775                   0   \n4      Resource_Group0_res_0               0.018454                   0   \n...                      ...                    ...                 ...   \n45842  Resource_Group0_res_0               0.018454                   0   \n45843  Resource_Group1_res_1               0.007068                   0   \n45844  Resource_Group0_res_0               0.018454                   0   \n45845  Resource_Group0_res_0               0.018454                   0   \n45846  Resource_Group0_res_0               0.018454                   0   \n\n       order resource_anomaly_type resource_parameter  trace_change_resource  \\\n0          1                normal                NaN                      0   \n1          2                normal                NaN                      0   \n2          3                normal                NaN                      0   \n3          4                normal                NaN                      0   \n4          5                normal                NaN                      0   \n...      ...                   ...                ...                    ...   \n45842      5                normal                NaN                      0   \n45843      6                normal                NaN                      0   \n45844      7                normal                NaN                      0   \n45845      8                normal                NaN                      0   \n45846      9                normal                NaN                      0   \n\n      variant_num  \n0         var_358  \n1         var_358  \n2         var_358  \n3         var_358  \n4         var_358  \n...           ...  \n45842     var_171  \n45843     var_171  \n45844     var_171  \n45845     var_171  \n45846     var_171  \n\n[45847 rows x 12 columns]",
      "text/html": "<div>\n<style scoped>\n    .dataframe tbody tr th:only-of-type {\n        vertical-align: middle;\n    }\n\n    .dataframe tbody tr th {\n        vertical-align: top;\n    }\n\n    .dataframe thead th {\n        text-align: right;\n    }\n</style>\n<table border=\"1\" class=\"dataframe\">\n  <thead>\n    <tr style=\"text-align: right;\">\n      <th></th>\n      <th>Case</th>\n      <th>Event</th>\n      <th>Activity</th>\n      <th>Timestamp</th>\n      <th>Resource</th>\n      <th>Resource_failure_rate</th>\n      <th>Resource_Pass/Fail</th>\n      <th>order</th>\n      <th>resource_anomaly_type</th>\n      <th>resource_parameter</th>\n      <th>trace_change_resource</th>\n      <th>variant_num</th>\n    </tr>\n  </thead>\n  <tbody>\n    <tr>\n      <th>0</th>\n      <td>case_0</td>\n      <td>9367</td>\n      <td>Activity A</td>\n      <td>1970-01-01 09:00:00</td>\n      <td>Resource_Group2_res_1</td>\n      <td>0.026984</td>\n      <td>0</td>\n      <td>1</td>\n      <td>normal</td>\n      <td>NaN</td>\n      <td>0</td>\n      <td>var_358</td>\n    </tr>\n    <tr>\n      <th>1</th>\n      <td>case_0</td>\n      <td>9368</td>\n      <td>Activity B</td>\n      <td>1970-01-01 10:00:00</td>\n      <td>Resource_Group0_res_0</td>\n      <td>0.018454</td>\n      <td>0</td>\n      <td>2</td>\n      <td>normal</td>\n      <td>NaN</td>\n      <td>0</td>\n      <td>var_358</td>\n    </tr>\n    <tr>\n      <th>2</th>\n      <td>case_0</td>\n      <td>9369</td>\n      <td>Activity C</td>\n      <td>1970-01-01 11:00:00</td>\n      <td>Resource_Group1_res_0</td>\n      <td>0.002551</td>\n      <td>0</td>\n      <td>3</td>\n      <td>normal</td>\n      <td>NaN</td>\n      <td>0</td>\n      <td>var_358</td>\n    </tr>\n    <tr>\n      <th>3</th>\n      <td>case_0</td>\n      <td>9370</td>\n      <td>Activity D</td>\n      <td>1970-01-01 12:00:00</td>\n      <td>Resource_Group2_res_2</td>\n      <td>0.029775</td>\n      <td>0</td>\n      <td>4</td>\n      <td>normal</td>\n      <td>NaN</td>\n      <td>0</td>\n      <td>var_358</td>\n    </tr>\n    <tr>\n      <th>4</th>\n      <td>case_0</td>\n      <td>9371</td>\n      <td>Activity E</td>\n      <td>1970-01-01 13:00:00</td>\n      <td>Resource_Group0_res_0</td>\n      <td>0.018454</td>\n      <td>0</td>\n      <td>5</td>\n      <td>normal</td>\n      <td>NaN</td>\n      <td>0</td>\n      <td>var_358</td>\n    </tr>\n    <tr>\n      <th>...</th>\n      <td>...</td>\n      <td>...</td>\n      <td>...</td>\n      <td>...</td>\n      <td>...</td>\n      <td>...</td>\n      <td>...</td>\n      <td>...</td>\n      <td>...</td>\n      <td>...</td>\n      <td>...</td>\n      <td>...</td>\n    </tr>\n    <tr>\n      <th>45842</th>\n      <td>case_999</td>\n      <td>31364</td>\n      <td>Activity E</td>\n      <td>1970-01-01 13:00:00</td>\n      <td>Resource_Group0_res_0</td>\n      <td>0.018454</td>\n      <td>0</td>\n      <td>5</td>\n      <td>normal</td>\n      <td>NaN</td>\n      <td>0</td>\n      <td>var_171</td>\n    </tr>\n    <tr>\n      <th>45843</th>\n      <td>case_999</td>\n      <td>31365</td>\n      <td>Activity K</td>\n      <td>1970-01-01 14:00:00</td>\n      <td>Resource_Group1_res_1</td>\n      <td>0.007068</td>\n      <td>0</td>\n      <td>6</td>\n      <td>normal</td>\n      <td>NaN</td>\n      <td>0</td>\n      <td>var_171</td>\n    </tr>\n    <tr>\n      <th>45844</th>\n      <td>case_999</td>\n      <td>31366</td>\n      <td>Activity Q</td>\n      <td>1970-01-01 15:00:00</td>\n      <td>Resource_Group0_res_0</td>\n      <td>0.018454</td>\n      <td>0</td>\n      <td>7</td>\n      <td>normal</td>\n      <td>NaN</td>\n      <td>0</td>\n      <td>var_171</td>\n    </tr>\n    <tr>\n      <th>45845</th>\n      <td>case_999</td>\n      <td>31367</td>\n      <td>Activity L</td>\n      <td>1970-01-01 16:00:00</td>\n      <td>Resource_Group0_res_0</td>\n      <td>0.018454</td>\n      <td>0</td>\n      <td>8</td>\n      <td>normal</td>\n      <td>NaN</td>\n      <td>0</td>\n      <td>var_171</td>\n    </tr>\n    <tr>\n      <th>45846</th>\n      <td>case_999</td>\n      <td>31368</td>\n      <td>Activity F</td>\n      <td>1970-01-01 17:00:00</td>\n      <td>Resource_Group0_res_0</td>\n      <td>0.018454</td>\n      <td>0</td>\n      <td>9</td>\n      <td>normal</td>\n      <td>NaN</td>\n      <td>0</td>\n      <td>var_171</td>\n    </tr>\n  </tbody>\n</table>\n<p>45847 rows × 12 columns</p>\n</div>"
     },
     "execution_count": 2,
     "metadata": {},
     "output_type": "execute_result"
    }
   ],
   "source": [
    "df = pd.read_csv(\"Event_Logs/small3insert.csv\")\n",
    "df"
   ],
   "metadata": {
    "collapsed": false,
    "ExecuteTime": {
     "end_time": "2024-01-11T13:36:53.159651Z",
     "start_time": "2024-01-11T13:36:53.096611Z"
    }
   },
   "id": "bb3713fda1840703"
  },
  {
   "cell_type": "markdown",
   "source": [
    "Create an event log that retains only the attributes caseid, activity, timestamp, resource and outcome."
   ],
   "metadata": {
    "collapsed": false
   },
   "id": "6326c9942ea8c45f"
  },
  {
   "cell_type": "code",
   "execution_count": 3,
   "outputs": [
    {
     "data": {
      "text/plain": "         caseid    activity                   ts               resource  \\\n0        case_0  Activity A  1970-01-01 09:00:00  Resource_Group2_res_1   \n1        case_0  Activity B  1970-01-01 10:00:00  Resource_Group0_res_0   \n2        case_0  Activity C  1970-01-01 11:00:00  Resource_Group1_res_0   \n3        case_0  Activity D  1970-01-01 12:00:00  Resource_Group2_res_2   \n4        case_0  Activity E  1970-01-01 13:00:00  Resource_Group0_res_0   \n...         ...         ...                  ...                    ...   \n45842  case_999  Activity E  1970-01-01 13:00:00  Resource_Group0_res_0   \n45843  case_999  Activity K  1970-01-01 14:00:00  Resource_Group1_res_1   \n45844  case_999  Activity Q  1970-01-01 15:00:00  Resource_Group0_res_0   \n45845  case_999  Activity L  1970-01-01 16:00:00  Resource_Group0_res_0   \n45846  case_999  Activity F  1970-01-01 17:00:00  Resource_Group0_res_0   \n\n      outcome  \n0      normal  \n1      normal  \n2      normal  \n3      normal  \n4      normal  \n...       ...  \n45842  normal  \n45843  normal  \n45844  normal  \n45845  normal  \n45846  normal  \n\n[45847 rows x 5 columns]",
      "text/html": "<div>\n<style scoped>\n    .dataframe tbody tr th:only-of-type {\n        vertical-align: middle;\n    }\n\n    .dataframe tbody tr th {\n        vertical-align: top;\n    }\n\n    .dataframe thead th {\n        text-align: right;\n    }\n</style>\n<table border=\"1\" class=\"dataframe\">\n  <thead>\n    <tr style=\"text-align: right;\">\n      <th></th>\n      <th>caseid</th>\n      <th>activity</th>\n      <th>ts</th>\n      <th>resource</th>\n      <th>outcome</th>\n    </tr>\n  </thead>\n  <tbody>\n    <tr>\n      <th>0</th>\n      <td>case_0</td>\n      <td>Activity A</td>\n      <td>1970-01-01 09:00:00</td>\n      <td>Resource_Group2_res_1</td>\n      <td>normal</td>\n    </tr>\n    <tr>\n      <th>1</th>\n      <td>case_0</td>\n      <td>Activity B</td>\n      <td>1970-01-01 10:00:00</td>\n      <td>Resource_Group0_res_0</td>\n      <td>normal</td>\n    </tr>\n    <tr>\n      <th>2</th>\n      <td>case_0</td>\n      <td>Activity C</td>\n      <td>1970-01-01 11:00:00</td>\n      <td>Resource_Group1_res_0</td>\n      <td>normal</td>\n    </tr>\n    <tr>\n      <th>3</th>\n      <td>case_0</td>\n      <td>Activity D</td>\n      <td>1970-01-01 12:00:00</td>\n      <td>Resource_Group2_res_2</td>\n      <td>normal</td>\n    </tr>\n    <tr>\n      <th>4</th>\n      <td>case_0</td>\n      <td>Activity E</td>\n      <td>1970-01-01 13:00:00</td>\n      <td>Resource_Group0_res_0</td>\n      <td>normal</td>\n    </tr>\n    <tr>\n      <th>...</th>\n      <td>...</td>\n      <td>...</td>\n      <td>...</td>\n      <td>...</td>\n      <td>...</td>\n    </tr>\n    <tr>\n      <th>45842</th>\n      <td>case_999</td>\n      <td>Activity E</td>\n      <td>1970-01-01 13:00:00</td>\n      <td>Resource_Group0_res_0</td>\n      <td>normal</td>\n    </tr>\n    <tr>\n      <th>45843</th>\n      <td>case_999</td>\n      <td>Activity K</td>\n      <td>1970-01-01 14:00:00</td>\n      <td>Resource_Group1_res_1</td>\n      <td>normal</td>\n    </tr>\n    <tr>\n      <th>45844</th>\n      <td>case_999</td>\n      <td>Activity Q</td>\n      <td>1970-01-01 15:00:00</td>\n      <td>Resource_Group0_res_0</td>\n      <td>normal</td>\n    </tr>\n    <tr>\n      <th>45845</th>\n      <td>case_999</td>\n      <td>Activity L</td>\n      <td>1970-01-01 16:00:00</td>\n      <td>Resource_Group0_res_0</td>\n      <td>normal</td>\n    </tr>\n    <tr>\n      <th>45846</th>\n      <td>case_999</td>\n      <td>Activity F</td>\n      <td>1970-01-01 17:00:00</td>\n      <td>Resource_Group0_res_0</td>\n      <td>normal</td>\n    </tr>\n  </tbody>\n</table>\n<p>45847 rows × 5 columns</p>\n</div>"
     },
     "execution_count": 3,
     "metadata": {},
     "output_type": "execute_result"
    }
   ],
   "source": [
    "df = df.rename(columns={\"Case\":\"caseid\", \"Activity\":\"activity\", \"Timestamp\":\"ts\", \"Resource\":\"resource\", \"resource_anomaly_type\":\"outcome\"})\n",
    "df_2 = df[[\"caseid\", \"activity\", \"ts\", \"resource\", \"outcome\"]].copy()\n",
    "df_2"
   ],
   "metadata": {
    "collapsed": false,
    "ExecuteTime": {
     "end_time": "2024-01-11T13:36:55.338507Z",
     "start_time": "2024-01-11T13:36:55.327064Z"
    }
   },
   "id": "2d1c1d2dbfed8cdb"
  },
  {
   "cell_type": "markdown",
   "source": [
    " Create a function to extract the prefixes of length L from the event log."
   ],
   "metadata": {
    "collapsed": false
   },
   "id": "917568008ce18c1c"
  },
  {
   "cell_type": "code",
   "execution_count": 4,
   "outputs": [],
   "source": [
    "def create_prefix(df, L):\n",
    "    res0 = df.sort_values(by=['caseid','ts']).groupby('caseid', as_index=False)['activity'].apply(list)    \n",
    "    res1 = df.sort_values(by=['caseid','ts']).groupby('caseid', as_index=False)['ts'].apply(list)\n",
    "    res2 = df.sort_values(by=['caseid','ts']).groupby('caseid', as_index=False)['resource'].apply(list)\n",
    "    \n",
    "    res = pd.merge(res0, pd.merge(res1, res2, on=\"caseid\") , on=\"caseid\")\n",
    "    res[\"outcome\"] = df[\"outcome\"]\n",
    "\n",
    "    \n",
    "    event_num = df.groupby('caseid')['activity'].count().to_frame('event_number')\n",
    "    res = pd.merge(res, event_num, on=\"caseid\")\n",
    "    \n",
    "    res[res[\"event_number\"] < L] = np.nan\n",
    "    res = res.dropna()\n",
    "    \n",
    "    def function(row, label):\n",
    "        activity_array = row[label][0:L]\n",
    "        return activity_array\n",
    "    \n",
    "    for c in [\"activity\", \"ts\", \"resource\"]:\n",
    "        res[c] = res.apply(lambda row: function(row, c), axis=1)\n",
    "    \n",
    "    res = res.drop(columns=[\"event_number\"])\n",
    "    return res\n",
    "    "
   ],
   "metadata": {
    "collapsed": false,
    "ExecuteTime": {
     "end_time": "2024-01-11T13:36:57.163147Z",
     "start_time": "2024-01-11T13:36:57.160362Z"
    }
   },
   "id": "1c7f256149399de5"
  },
  {
   "cell_type": "code",
   "execution_count": 72,
   "outputs": [
    {
     "data": {
      "text/plain": "         caseid                                           activity  \\\n1        case_1  [Activity A, Activity B, Activity C, Activity ...   \n7     case_1003  [Activity A, Activity B, Activity C, Activity ...   \n10    case_1006  [Activity A, Activity B, Activity M, Activity ...   \n29    case_1023  [Activity A, Activity S, Activity R, Activity ...   \n45    case_1038  [Activity A, Activity B, Activity C, Activity ...   \n...         ...                                                ...   \n4941   case_946  [Activity A, Activity B, Activity C, Activity ...   \n4944   case_949  [Activity A, Activity B, Activity C, Activity ...   \n4956    case_96  [Activity A, Activity B, Activity C, Activity ...   \n4965   case_968  [Activity A, Activity B, Activity C, Activity ...   \n4988   case_989  [Activity A, Activity B, Activity C, Activity ...   \n\n                                                     ts  \\\n1     [1970-01-01 09:00:00, 1970-01-01 10:00:00, 197...   \n7     [1970-01-01 09:00:00, 1970-01-01 10:00:00, 197...   \n10    [1970-01-01 09:00:00, 1970-01-01 10:00:00, 197...   \n29    [1970-01-01 09:00:00, 1970-01-01 09:28:09, 197...   \n45    [1970-01-01 09:00:00, 1970-01-01 10:00:00, 197...   \n...                                                 ...   \n4941  [1970-01-01 09:00:00, 1970-01-01 10:00:00, 197...   \n4944  [1970-01-01 09:00:00, 1970-01-01 10:00:00, 197...   \n4956  [1970-01-01 09:00:00, 1970-01-01 10:00:00, 197...   \n4965  [1970-01-01 09:00:00, 1970-01-01 10:00:00, 197...   \n4988  [1970-01-01 09:00:00, 1970-01-01 10:00:00, 197...   \n\n                                               resource outcome  \n1     [Resource_Group2_res_0, Resource_Group0_res_0,...  normal  \n7     [Resource_Group2_res_0, Resource_Group0_res_0,...  insert  \n10    [Resource_Group2_res_2, Resource_Group0_res_0,...  insert  \n29    [Resource_Group2_res_2, Resource_Group1_res_1,...  normal  \n45    [Resource_Group2_res_0, Resource_Group0_res_0,...  normal  \n...                                                 ...     ...  \n4941  [Resource_Group2_res_0, Resource_Group0_res_0,...  normal  \n4944  [Resource_Group2_res_1, Resource_Group0_res_0,...  normal  \n4956  [Resource_Group2_res_0, Resource_Group0_res_0,...  normal  \n4965  [Resource_Group2_res_2, Resource_Group0_res_0,...  normal  \n4988  [Resource_Group2_res_1, Resource_Group0_res_0,...  normal  \n\n[445 rows x 5 columns]",
      "text/html": "<div>\n<style scoped>\n    .dataframe tbody tr th:only-of-type {\n        vertical-align: middle;\n    }\n\n    .dataframe tbody tr th {\n        vertical-align: top;\n    }\n\n    .dataframe thead th {\n        text-align: right;\n    }\n</style>\n<table border=\"1\" class=\"dataframe\">\n  <thead>\n    <tr style=\"text-align: right;\">\n      <th></th>\n      <th>caseid</th>\n      <th>activity</th>\n      <th>ts</th>\n      <th>resource</th>\n      <th>outcome</th>\n    </tr>\n  </thead>\n  <tbody>\n    <tr>\n      <th>1</th>\n      <td>case_1</td>\n      <td>[Activity A, Activity B, Activity C, Activity ...</td>\n      <td>[1970-01-01 09:00:00, 1970-01-01 10:00:00, 197...</td>\n      <td>[Resource_Group2_res_0, Resource_Group0_res_0,...</td>\n      <td>normal</td>\n    </tr>\n    <tr>\n      <th>7</th>\n      <td>case_1003</td>\n      <td>[Activity A, Activity B, Activity C, Activity ...</td>\n      <td>[1970-01-01 09:00:00, 1970-01-01 10:00:00, 197...</td>\n      <td>[Resource_Group2_res_0, Resource_Group0_res_0,...</td>\n      <td>insert</td>\n    </tr>\n    <tr>\n      <th>10</th>\n      <td>case_1006</td>\n      <td>[Activity A, Activity B, Activity M, Activity ...</td>\n      <td>[1970-01-01 09:00:00, 1970-01-01 10:00:00, 197...</td>\n      <td>[Resource_Group2_res_2, Resource_Group0_res_0,...</td>\n      <td>insert</td>\n    </tr>\n    <tr>\n      <th>29</th>\n      <td>case_1023</td>\n      <td>[Activity A, Activity S, Activity R, Activity ...</td>\n      <td>[1970-01-01 09:00:00, 1970-01-01 09:28:09, 197...</td>\n      <td>[Resource_Group2_res_2, Resource_Group1_res_1,...</td>\n      <td>normal</td>\n    </tr>\n    <tr>\n      <th>45</th>\n      <td>case_1038</td>\n      <td>[Activity A, Activity B, Activity C, Activity ...</td>\n      <td>[1970-01-01 09:00:00, 1970-01-01 10:00:00, 197...</td>\n      <td>[Resource_Group2_res_0, Resource_Group0_res_0,...</td>\n      <td>normal</td>\n    </tr>\n    <tr>\n      <th>...</th>\n      <td>...</td>\n      <td>...</td>\n      <td>...</td>\n      <td>...</td>\n      <td>...</td>\n    </tr>\n    <tr>\n      <th>4941</th>\n      <td>case_946</td>\n      <td>[Activity A, Activity B, Activity C, Activity ...</td>\n      <td>[1970-01-01 09:00:00, 1970-01-01 10:00:00, 197...</td>\n      <td>[Resource_Group2_res_0, Resource_Group0_res_0,...</td>\n      <td>normal</td>\n    </tr>\n    <tr>\n      <th>4944</th>\n      <td>case_949</td>\n      <td>[Activity A, Activity B, Activity C, Activity ...</td>\n      <td>[1970-01-01 09:00:00, 1970-01-01 10:00:00, 197...</td>\n      <td>[Resource_Group2_res_1, Resource_Group0_res_0,...</td>\n      <td>normal</td>\n    </tr>\n    <tr>\n      <th>4956</th>\n      <td>case_96</td>\n      <td>[Activity A, Activity B, Activity C, Activity ...</td>\n      <td>[1970-01-01 09:00:00, 1970-01-01 10:00:00, 197...</td>\n      <td>[Resource_Group2_res_0, Resource_Group0_res_0,...</td>\n      <td>normal</td>\n    </tr>\n    <tr>\n      <th>4965</th>\n      <td>case_968</td>\n      <td>[Activity A, Activity B, Activity C, Activity ...</td>\n      <td>[1970-01-01 09:00:00, 1970-01-01 10:00:00, 197...</td>\n      <td>[Resource_Group2_res_2, Resource_Group0_res_0,...</td>\n      <td>normal</td>\n    </tr>\n    <tr>\n      <th>4988</th>\n      <td>case_989</td>\n      <td>[Activity A, Activity B, Activity C, Activity ...</td>\n      <td>[1970-01-01 09:00:00, 1970-01-01 10:00:00, 197...</td>\n      <td>[Resource_Group2_res_1, Resource_Group0_res_0,...</td>\n      <td>normal</td>\n    </tr>\n  </tbody>\n</table>\n<p>445 rows × 5 columns</p>\n</div>"
     },
     "execution_count": 72,
     "metadata": {},
     "output_type": "execute_result"
    }
   ],
   "source": [
    "x = create_prefix(df, 11)\n",
    "x"
   ],
   "metadata": {
    "collapsed": false,
    "ExecuteTime": {
     "end_time": "2024-01-11T15:40:01.356388Z",
     "start_time": "2024-01-11T15:40:01.215853Z"
    }
   },
   "id": "fcb5af55afdfd62d"
  },
  {
   "cell_type": "markdown",
   "source": [
    "Create a function that does aggregation encoding of a prefix extracted from the event log"
   ],
   "metadata": {
    "collapsed": false
   },
   "id": "57b7480f92642f21"
  },
  {
   "cell_type": "code",
   "execution_count": 114,
   "outputs": [],
   "source": [
    "def one_hot(x, label, fun):\n",
    "    unique_val = []\n",
    "    #Extract unique values of label\n",
    "    for element in x[label]:\n",
    "        for e in element:\n",
    "            if e not in unique_val:\n",
    "                unique_val.append(e)\n",
    "    \n",
    "    result = x[[\"caseid\"]].copy()\n",
    "    \n",
    "    if fun == \"index\":\n",
    "        #Create columns\n",
    "        L = len(x[label][1]) # Length of the prefix\n",
    "        for e in unique_val:\n",
    "            for i in range(1, L+1): \n",
    "                result[label + \"_\" + str(i)+ \"_\" + e] = 0\n",
    "        \n",
    "        for index, row in x.iterrows():\n",
    "            k = 1\n",
    "            for e in row[label]:\n",
    "                result.at[index, label + \"_\" + str(k) + \"_\" + e] += 1\n",
    "                k +=1\n",
    "    \n",
    "    else:\n",
    "        #Create columns\n",
    "        for t in unique_val:\n",
    "            result[t] = 0\n",
    "        \n",
    "        #Add one to the right column if value is in row\n",
    "        for index, row in x.iterrows():\n",
    "            for element in row[label]:\n",
    "                result.at[index, element] += 1\n",
    "\n",
    "    return result\n",
    "\n",
    "def average_timestamp(df, label):\n",
    "\n",
    "    result = df[[\"caseid\"]].copy()\n",
    "    result[\"avg_\"+label] = 0\n",
    "\n",
    "    L = len(df[label][1])\n",
    "    \n",
    "    for index, row in df.iterrows():\n",
    "        temp = 0\n",
    "        for element in row[label]:\n",
    "            temp += calendar.timegm(datetime.strptime(element, '%Y-%m-%d %H:%M:%S').timetuple())\n",
    "        result.at[index, \"avg_\" + label] = time.strftime('%Y-%m-%d %H:%M:%S', time.gmtime(temp/L))\n",
    "    \n",
    "    return result\n"
   ],
   "metadata": {
    "collapsed": false,
    "ExecuteTime": {
     "end_time": "2024-01-11T16:07:22.824619Z",
     "start_time": "2024-01-11T16:07:22.814316Z"
    }
   },
   "id": "af2ecbf8d20f7398"
  },
  {
   "cell_type": "code",
   "execution_count": 115,
   "outputs": [
    {
     "data": {
      "text/plain": "         caseid               avg_ts\n0        case_0  1970-01-01 11:00:00\n1        case_1  1970-01-01 10:35:44\n2       case_10  1970-01-01 11:00:00\n3      case_100  1970-01-01 11:00:00\n4     case_1000  1970-01-01 11:00:00\n...         ...                  ...\n4995   case_995  1970-01-01 11:00:00\n4996   case_996  1970-01-01 11:00:00\n4997   case_997  1970-01-01 11:00:00\n4998   case_998  1970-01-01 11:00:00\n4999   case_999  1970-01-01 11:00:00\n\n[5000 rows x 2 columns]",
      "text/html": "<div>\n<style scoped>\n    .dataframe tbody tr th:only-of-type {\n        vertical-align: middle;\n    }\n\n    .dataframe tbody tr th {\n        vertical-align: top;\n    }\n\n    .dataframe thead th {\n        text-align: right;\n    }\n</style>\n<table border=\"1\" class=\"dataframe\">\n  <thead>\n    <tr style=\"text-align: right;\">\n      <th></th>\n      <th>caseid</th>\n      <th>avg_ts</th>\n    </tr>\n  </thead>\n  <tbody>\n    <tr>\n      <th>0</th>\n      <td>case_0</td>\n      <td>1970-01-01 11:00:00</td>\n    </tr>\n    <tr>\n      <th>1</th>\n      <td>case_1</td>\n      <td>1970-01-01 10:35:44</td>\n    </tr>\n    <tr>\n      <th>2</th>\n      <td>case_10</td>\n      <td>1970-01-01 11:00:00</td>\n    </tr>\n    <tr>\n      <th>3</th>\n      <td>case_100</td>\n      <td>1970-01-01 11:00:00</td>\n    </tr>\n    <tr>\n      <th>4</th>\n      <td>case_1000</td>\n      <td>1970-01-01 11:00:00</td>\n    </tr>\n    <tr>\n      <th>...</th>\n      <td>...</td>\n      <td>...</td>\n    </tr>\n    <tr>\n      <th>4995</th>\n      <td>case_995</td>\n      <td>1970-01-01 11:00:00</td>\n    </tr>\n    <tr>\n      <th>4996</th>\n      <td>case_996</td>\n      <td>1970-01-01 11:00:00</td>\n    </tr>\n    <tr>\n      <th>4997</th>\n      <td>case_997</td>\n      <td>1970-01-01 11:00:00</td>\n    </tr>\n    <tr>\n      <th>4998</th>\n      <td>case_998</td>\n      <td>1970-01-01 11:00:00</td>\n    </tr>\n    <tr>\n      <th>4999</th>\n      <td>case_999</td>\n      <td>1970-01-01 11:00:00</td>\n    </tr>\n  </tbody>\n</table>\n<p>5000 rows × 2 columns</p>\n</div>"
     },
     "execution_count": 115,
     "metadata": {},
     "output_type": "execute_result"
    }
   ],
   "source": [
    "average_timestamp(x, \"ts\")"
   ],
   "metadata": {
    "collapsed": false,
    "ExecuteTime": {
     "end_time": "2024-01-11T16:07:23.731455Z",
     "start_time": "2024-01-11T16:07:23.531288Z"
    }
   },
   "id": "116b8d7006a4ad1c"
  },
  {
   "cell_type": "code",
   "execution_count": 111,
   "outputs": [
    {
     "data": {
      "text/plain": "         caseid  Activity A  Activity B  Activity C  Activity D  Activity E  \\\n0        case_0           1           1           1           1           1   \n1        case_1           1           1           1           0           0   \n2       case_10           1           1           1           1           1   \n3      case_100           1           1           1           1           1   \n4     case_1000           1           1           1           1           1   \n...         ...         ...         ...         ...         ...         ...   \n4995   case_995           1           1           1           1           1   \n4996   case_996           1           1           1           1           1   \n4997   case_997           1           1           1           1           1   \n4998   case_998           1           1           1           1           1   \n4999   case_999           1           1           1           1           1   \n\n      Activity G  Activity R  Activity O  Activity P  Activity M  Activity S  \\\n0              0           0           0           0           0           0   \n1              1           1           0           0           0           0   \n2              0           0           0           0           0           0   \n3              0           0           0           0           0           0   \n4              0           0           0           0           0           0   \n...          ...         ...         ...         ...         ...         ...   \n4995           0           0           0           0           0           0   \n4996           0           0           0           0           0           0   \n4997           0           0           0           0           0           0   \n4998           0           0           0           0           0           0   \n4999           0           0           0           0           0           0   \n\n      Activity K  Activity Q  Activity I  Activity N  Activity L  Activity J  \\\n0              0           0           0           0           0           0   \n1              0           0           0           0           0           0   \n2              0           0           0           0           0           0   \n3              0           0           0           0           0           0   \n4              0           0           0           0           0           0   \n...          ...         ...         ...         ...         ...         ...   \n4995           0           0           0           0           0           0   \n4996           0           0           0           0           0           0   \n4997           0           0           0           0           0           0   \n4998           0           0           0           0           0           0   \n4999           0           0           0           0           0           0   \n\n      Activity H  Activity T  \n0              0           0  \n1              0           0  \n2              0           0  \n3              0           0  \n4              0           0  \n...          ...         ...  \n4995           0           0  \n4996           0           0  \n4997           0           0  \n4998           0           0  \n4999           0           0  \n\n[5000 rows x 20 columns]",
      "text/html": "<div>\n<style scoped>\n    .dataframe tbody tr th:only-of-type {\n        vertical-align: middle;\n    }\n\n    .dataframe tbody tr th {\n        vertical-align: top;\n    }\n\n    .dataframe thead th {\n        text-align: right;\n    }\n</style>\n<table border=\"1\" class=\"dataframe\">\n  <thead>\n    <tr style=\"text-align: right;\">\n      <th></th>\n      <th>caseid</th>\n      <th>Activity A</th>\n      <th>Activity B</th>\n      <th>Activity C</th>\n      <th>Activity D</th>\n      <th>Activity E</th>\n      <th>Activity G</th>\n      <th>Activity R</th>\n      <th>Activity O</th>\n      <th>Activity P</th>\n      <th>Activity M</th>\n      <th>Activity S</th>\n      <th>Activity K</th>\n      <th>Activity Q</th>\n      <th>Activity I</th>\n      <th>Activity N</th>\n      <th>Activity L</th>\n      <th>Activity J</th>\n      <th>Activity H</th>\n      <th>Activity T</th>\n    </tr>\n  </thead>\n  <tbody>\n    <tr>\n      <th>0</th>\n      <td>case_0</td>\n      <td>1</td>\n      <td>1</td>\n      <td>1</td>\n      <td>1</td>\n      <td>1</td>\n      <td>0</td>\n      <td>0</td>\n      <td>0</td>\n      <td>0</td>\n      <td>0</td>\n      <td>0</td>\n      <td>0</td>\n      <td>0</td>\n      <td>0</td>\n      <td>0</td>\n      <td>0</td>\n      <td>0</td>\n      <td>0</td>\n      <td>0</td>\n    </tr>\n    <tr>\n      <th>1</th>\n      <td>case_1</td>\n      <td>1</td>\n      <td>1</td>\n      <td>1</td>\n      <td>0</td>\n      <td>0</td>\n      <td>1</td>\n      <td>1</td>\n      <td>0</td>\n      <td>0</td>\n      <td>0</td>\n      <td>0</td>\n      <td>0</td>\n      <td>0</td>\n      <td>0</td>\n      <td>0</td>\n      <td>0</td>\n      <td>0</td>\n      <td>0</td>\n      <td>0</td>\n    </tr>\n    <tr>\n      <th>2</th>\n      <td>case_10</td>\n      <td>1</td>\n      <td>1</td>\n      <td>1</td>\n      <td>1</td>\n      <td>1</td>\n      <td>0</td>\n      <td>0</td>\n      <td>0</td>\n      <td>0</td>\n      <td>0</td>\n      <td>0</td>\n      <td>0</td>\n      <td>0</td>\n      <td>0</td>\n      <td>0</td>\n      <td>0</td>\n      <td>0</td>\n      <td>0</td>\n      <td>0</td>\n    </tr>\n    <tr>\n      <th>3</th>\n      <td>case_100</td>\n      <td>1</td>\n      <td>1</td>\n      <td>1</td>\n      <td>1</td>\n      <td>1</td>\n      <td>0</td>\n      <td>0</td>\n      <td>0</td>\n      <td>0</td>\n      <td>0</td>\n      <td>0</td>\n      <td>0</td>\n      <td>0</td>\n      <td>0</td>\n      <td>0</td>\n      <td>0</td>\n      <td>0</td>\n      <td>0</td>\n      <td>0</td>\n    </tr>\n    <tr>\n      <th>4</th>\n      <td>case_1000</td>\n      <td>1</td>\n      <td>1</td>\n      <td>1</td>\n      <td>1</td>\n      <td>1</td>\n      <td>0</td>\n      <td>0</td>\n      <td>0</td>\n      <td>0</td>\n      <td>0</td>\n      <td>0</td>\n      <td>0</td>\n      <td>0</td>\n      <td>0</td>\n      <td>0</td>\n      <td>0</td>\n      <td>0</td>\n      <td>0</td>\n      <td>0</td>\n    </tr>\n    <tr>\n      <th>...</th>\n      <td>...</td>\n      <td>...</td>\n      <td>...</td>\n      <td>...</td>\n      <td>...</td>\n      <td>...</td>\n      <td>...</td>\n      <td>...</td>\n      <td>...</td>\n      <td>...</td>\n      <td>...</td>\n      <td>...</td>\n      <td>...</td>\n      <td>...</td>\n      <td>...</td>\n      <td>...</td>\n      <td>...</td>\n      <td>...</td>\n      <td>...</td>\n      <td>...</td>\n    </tr>\n    <tr>\n      <th>4995</th>\n      <td>case_995</td>\n      <td>1</td>\n      <td>1</td>\n      <td>1</td>\n      <td>1</td>\n      <td>1</td>\n      <td>0</td>\n      <td>0</td>\n      <td>0</td>\n      <td>0</td>\n      <td>0</td>\n      <td>0</td>\n      <td>0</td>\n      <td>0</td>\n      <td>0</td>\n      <td>0</td>\n      <td>0</td>\n      <td>0</td>\n      <td>0</td>\n      <td>0</td>\n    </tr>\n    <tr>\n      <th>4996</th>\n      <td>case_996</td>\n      <td>1</td>\n      <td>1</td>\n      <td>1</td>\n      <td>1</td>\n      <td>1</td>\n      <td>0</td>\n      <td>0</td>\n      <td>0</td>\n      <td>0</td>\n      <td>0</td>\n      <td>0</td>\n      <td>0</td>\n      <td>0</td>\n      <td>0</td>\n      <td>0</td>\n      <td>0</td>\n      <td>0</td>\n      <td>0</td>\n      <td>0</td>\n    </tr>\n    <tr>\n      <th>4997</th>\n      <td>case_997</td>\n      <td>1</td>\n      <td>1</td>\n      <td>1</td>\n      <td>1</td>\n      <td>1</td>\n      <td>0</td>\n      <td>0</td>\n      <td>0</td>\n      <td>0</td>\n      <td>0</td>\n      <td>0</td>\n      <td>0</td>\n      <td>0</td>\n      <td>0</td>\n      <td>0</td>\n      <td>0</td>\n      <td>0</td>\n      <td>0</td>\n      <td>0</td>\n    </tr>\n    <tr>\n      <th>4998</th>\n      <td>case_998</td>\n      <td>1</td>\n      <td>1</td>\n      <td>1</td>\n      <td>1</td>\n      <td>1</td>\n      <td>0</td>\n      <td>0</td>\n      <td>0</td>\n      <td>0</td>\n      <td>0</td>\n      <td>0</td>\n      <td>0</td>\n      <td>0</td>\n      <td>0</td>\n      <td>0</td>\n      <td>0</td>\n      <td>0</td>\n      <td>0</td>\n      <td>0</td>\n    </tr>\n    <tr>\n      <th>4999</th>\n      <td>case_999</td>\n      <td>1</td>\n      <td>1</td>\n      <td>1</td>\n      <td>1</td>\n      <td>1</td>\n      <td>0</td>\n      <td>0</td>\n      <td>0</td>\n      <td>0</td>\n      <td>0</td>\n      <td>0</td>\n      <td>0</td>\n      <td>0</td>\n      <td>0</td>\n      <td>0</td>\n      <td>0</td>\n      <td>0</td>\n      <td>0</td>\n      <td>0</td>\n    </tr>\n  </tbody>\n</table>\n<p>5000 rows × 20 columns</p>\n</div>"
     },
     "execution_count": 111,
     "metadata": {},
     "output_type": "execute_result"
    }
   ],
   "source": [
    "one_hot(x, \"activity\", \"aggr\")"
   ],
   "metadata": {
    "collapsed": false,
    "ExecuteTime": {
     "end_time": "2024-01-11T16:02:19.085219Z",
     "start_time": "2024-01-11T16:02:18.703390Z"
    }
   },
   "id": "25a82834321a951e"
  },
  {
   "cell_type": "code",
   "execution_count": 84,
   "outputs": [
    {
     "data": {
      "text/plain": "         caseid  Resource_Group2_res_0  Resource_Group0_res_0  \\\n1        case_1                      1                      5   \n7     case_1003                      1                      3   \n10    case_1006                      1                      6   \n29    case_1023                      1                      5   \n45    case_1038                      2                      6   \n...         ...                    ...                    ...   \n4941   case_946                      1                      4   \n4944   case_949                      2                      5   \n4956    case_96                      1                      3   \n4965   case_968                      0                      3   \n4988   case_989                      0                      6   \n\n      Resource_Group1_res_1  Resource_Group2_res_1  Resource_Group1_res_0  \\\n1                         3                      2                      0   \n7                         2                      2                      3   \n10                        1                      0                      1   \n29                        2                      0                      2   \n45                        1                      1                      1   \n...                     ...                    ...                    ...   \n4941                      2                      2                      2   \n4944                      2                      1                      1   \n4956                      1                      0                      4   \n4965                      3                      0                      2   \n4988                      0                      1                      2   \n\n      Resource_Group2_res_2  \n1                         0  \n7                         0  \n10                        2  \n29                        1  \n45                        0  \n...                     ...  \n4941                      0  \n4944                      0  \n4956                      2  \n4965                      3  \n4988                      2  \n\n[445 rows x 7 columns]",
      "text/html": "<div>\n<style scoped>\n    .dataframe tbody tr th:only-of-type {\n        vertical-align: middle;\n    }\n\n    .dataframe tbody tr th {\n        vertical-align: top;\n    }\n\n    .dataframe thead th {\n        text-align: right;\n    }\n</style>\n<table border=\"1\" class=\"dataframe\">\n  <thead>\n    <tr style=\"text-align: right;\">\n      <th></th>\n      <th>caseid</th>\n      <th>Resource_Group2_res_0</th>\n      <th>Resource_Group0_res_0</th>\n      <th>Resource_Group1_res_1</th>\n      <th>Resource_Group2_res_1</th>\n      <th>Resource_Group1_res_0</th>\n      <th>Resource_Group2_res_2</th>\n    </tr>\n  </thead>\n  <tbody>\n    <tr>\n      <th>1</th>\n      <td>case_1</td>\n      <td>1</td>\n      <td>5</td>\n      <td>3</td>\n      <td>2</td>\n      <td>0</td>\n      <td>0</td>\n    </tr>\n    <tr>\n      <th>7</th>\n      <td>case_1003</td>\n      <td>1</td>\n      <td>3</td>\n      <td>2</td>\n      <td>2</td>\n      <td>3</td>\n      <td>0</td>\n    </tr>\n    <tr>\n      <th>10</th>\n      <td>case_1006</td>\n      <td>1</td>\n      <td>6</td>\n      <td>1</td>\n      <td>0</td>\n      <td>1</td>\n      <td>2</td>\n    </tr>\n    <tr>\n      <th>29</th>\n      <td>case_1023</td>\n      <td>1</td>\n      <td>5</td>\n      <td>2</td>\n      <td>0</td>\n      <td>2</td>\n      <td>1</td>\n    </tr>\n    <tr>\n      <th>45</th>\n      <td>case_1038</td>\n      <td>2</td>\n      <td>6</td>\n      <td>1</td>\n      <td>1</td>\n      <td>1</td>\n      <td>0</td>\n    </tr>\n    <tr>\n      <th>...</th>\n      <td>...</td>\n      <td>...</td>\n      <td>...</td>\n      <td>...</td>\n      <td>...</td>\n      <td>...</td>\n      <td>...</td>\n    </tr>\n    <tr>\n      <th>4941</th>\n      <td>case_946</td>\n      <td>1</td>\n      <td>4</td>\n      <td>2</td>\n      <td>2</td>\n      <td>2</td>\n      <td>0</td>\n    </tr>\n    <tr>\n      <th>4944</th>\n      <td>case_949</td>\n      <td>2</td>\n      <td>5</td>\n      <td>2</td>\n      <td>1</td>\n      <td>1</td>\n      <td>0</td>\n    </tr>\n    <tr>\n      <th>4956</th>\n      <td>case_96</td>\n      <td>1</td>\n      <td>3</td>\n      <td>1</td>\n      <td>0</td>\n      <td>4</td>\n      <td>2</td>\n    </tr>\n    <tr>\n      <th>4965</th>\n      <td>case_968</td>\n      <td>0</td>\n      <td>3</td>\n      <td>3</td>\n      <td>0</td>\n      <td>2</td>\n      <td>3</td>\n    </tr>\n    <tr>\n      <th>4988</th>\n      <td>case_989</td>\n      <td>0</td>\n      <td>6</td>\n      <td>0</td>\n      <td>1</td>\n      <td>2</td>\n      <td>2</td>\n    </tr>\n  </tbody>\n</table>\n<p>445 rows × 7 columns</p>\n</div>"
     },
     "execution_count": 84,
     "metadata": {},
     "output_type": "execute_result"
    }
   ],
   "source": [
    "one_hot(x, \"resource\", \"aggr\")"
   ],
   "metadata": {
    "collapsed": false,
    "ExecuteTime": {
     "end_time": "2024-01-11T15:49:19.659139Z",
     "start_time": "2024-01-11T15:49:19.629837Z"
    }
   },
   "id": "19099fc3ce123283"
  },
  {
   "cell_type": "code",
   "execution_count": 87,
   "outputs": [],
   "source": [
    "def aggregation_enc(df):\n",
    "    res0 = one_hot(df, \"activity\", \"aggr\")\n",
    "    res1 = one_hot(df, \"resource\", \"aggr\")\n",
    "    res2 = average_timestamp(df, \"ts\")\n",
    "    \n",
    "    res = pd.merge(res0, pd.merge(res1, res2), on=\"caseid\")\n",
    "    \n",
    "    temp = df[[\"caseid\", \"outcome\"]].copy()\n",
    "    res = pd.merge(res, temp, on=\"caseid\")\n",
    "\n",
    "    return res"
   ],
   "metadata": {
    "collapsed": false,
    "ExecuteTime": {
     "end_time": "2024-01-11T15:51:26.093227Z",
     "start_time": "2024-01-11T15:51:26.079253Z"
    }
   },
   "id": "e2e9b7072259ab3d"
  },
  {
   "cell_type": "code",
   "execution_count": 88,
   "outputs": [
    {
     "data": {
      "text/plain": "        caseid  Activity A  Activity B  Activity C  Activity G  Activity R  \\\n0       case_1           1           1           1           1           1   \n1    case_1003           1           1           1           1           0   \n2    case_1006           1           1           1           1           0   \n3    case_1023           1           1           1           0           1   \n4    case_1038           1           1           1           1           0   \n..         ...         ...         ...         ...         ...         ...   \n440   case_946           1           1           1           1           0   \n441   case_949           1           1           1           1           0   \n442    case_96           1           1           1           1           0   \n443   case_968           1           1           1           1           1   \n444   case_989           1           1           1           1           0   \n\n     Activity D  Activity E  Activity K  Activity M  ...  Activity J  \\\n0             1           1           1           1  ...           0   \n1             1           1           0           0  ...           0   \n2             1           1           1           1  ...           0   \n3             1           1           1           0  ...           0   \n4             1           1           1           1  ...           0   \n..          ...         ...         ...         ...  ...         ...   \n440           1           1           0           0  ...           0   \n441           1           1           0           1  ...           0   \n442           1           1           1           0  ...           0   \n443           1           1           1           0  ...           0   \n444           1           1           0           0  ...           0   \n\n     Activity T  Resource_Group2_res_0  Resource_Group0_res_0  \\\n0             0                      1                      5   \n1             0                      1                      3   \n2             0                      1                      6   \n3             0                      1                      5   \n4             0                      2                      6   \n..          ...                    ...                    ...   \n440           0                      1                      4   \n441           1                      2                      5   \n442           0                      1                      3   \n443           0                      0                      3   \n444           1                      0                      6   \n\n     Resource_Group1_res_1  Resource_Group2_res_1  Resource_Group1_res_0  \\\n0                        3                      2                      0   \n1                        2                      2                      3   \n2                        1                      0                      1   \n3                        2                      0                      2   \n4                        1                      1                      1   \n..                     ...                    ...                    ...   \n440                      2                      2                      2   \n441                      2                      1                      1   \n442                      1                      0                      4   \n443                      3                      0                      2   \n444                      0                      1                      2   \n\n     Resource_Group2_res_2               avg_ts  outcome  \n0                        0  1970-01-01 12:43:31   normal  \n1                        0  1970-01-01 12:11:50   insert  \n2                        2  1970-01-01 12:30:13   insert  \n3                        1  1970-01-01 12:22:11   normal  \n4                        0  1970-01-01 13:43:38   normal  \n..                     ...                  ...      ...  \n440                      0  1970-01-01 12:31:20   normal  \n441                      0  1970-01-01 12:44:33   normal  \n442                      2  1970-01-01 12:31:22   normal  \n443                      3  1970-01-01 13:45:51   normal  \n444                      2  1970-01-01 12:49:19   normal  \n\n[445 rows x 29 columns]",
      "text/html": "<div>\n<style scoped>\n    .dataframe tbody tr th:only-of-type {\n        vertical-align: middle;\n    }\n\n    .dataframe tbody tr th {\n        vertical-align: top;\n    }\n\n    .dataframe thead th {\n        text-align: right;\n    }\n</style>\n<table border=\"1\" class=\"dataframe\">\n  <thead>\n    <tr style=\"text-align: right;\">\n      <th></th>\n      <th>caseid</th>\n      <th>Activity A</th>\n      <th>Activity B</th>\n      <th>Activity C</th>\n      <th>Activity G</th>\n      <th>Activity R</th>\n      <th>Activity D</th>\n      <th>Activity E</th>\n      <th>Activity K</th>\n      <th>Activity M</th>\n      <th>...</th>\n      <th>Activity J</th>\n      <th>Activity T</th>\n      <th>Resource_Group2_res_0</th>\n      <th>Resource_Group0_res_0</th>\n      <th>Resource_Group1_res_1</th>\n      <th>Resource_Group2_res_1</th>\n      <th>Resource_Group1_res_0</th>\n      <th>Resource_Group2_res_2</th>\n      <th>avg_ts</th>\n      <th>outcome</th>\n    </tr>\n  </thead>\n  <tbody>\n    <tr>\n      <th>0</th>\n      <td>case_1</td>\n      <td>1</td>\n      <td>1</td>\n      <td>1</td>\n      <td>1</td>\n      <td>1</td>\n      <td>1</td>\n      <td>1</td>\n      <td>1</td>\n      <td>1</td>\n      <td>...</td>\n      <td>0</td>\n      <td>0</td>\n      <td>1</td>\n      <td>5</td>\n      <td>3</td>\n      <td>2</td>\n      <td>0</td>\n      <td>0</td>\n      <td>1970-01-01 12:43:31</td>\n      <td>normal</td>\n    </tr>\n    <tr>\n      <th>1</th>\n      <td>case_1003</td>\n      <td>1</td>\n      <td>1</td>\n      <td>1</td>\n      <td>1</td>\n      <td>0</td>\n      <td>1</td>\n      <td>1</td>\n      <td>0</td>\n      <td>0</td>\n      <td>...</td>\n      <td>0</td>\n      <td>0</td>\n      <td>1</td>\n      <td>3</td>\n      <td>2</td>\n      <td>2</td>\n      <td>3</td>\n      <td>0</td>\n      <td>1970-01-01 12:11:50</td>\n      <td>insert</td>\n    </tr>\n    <tr>\n      <th>2</th>\n      <td>case_1006</td>\n      <td>1</td>\n      <td>1</td>\n      <td>1</td>\n      <td>1</td>\n      <td>0</td>\n      <td>1</td>\n      <td>1</td>\n      <td>1</td>\n      <td>1</td>\n      <td>...</td>\n      <td>0</td>\n      <td>0</td>\n      <td>1</td>\n      <td>6</td>\n      <td>1</td>\n      <td>0</td>\n      <td>1</td>\n      <td>2</td>\n      <td>1970-01-01 12:30:13</td>\n      <td>insert</td>\n    </tr>\n    <tr>\n      <th>3</th>\n      <td>case_1023</td>\n      <td>1</td>\n      <td>1</td>\n      <td>1</td>\n      <td>0</td>\n      <td>1</td>\n      <td>1</td>\n      <td>1</td>\n      <td>1</td>\n      <td>0</td>\n      <td>...</td>\n      <td>0</td>\n      <td>0</td>\n      <td>1</td>\n      <td>5</td>\n      <td>2</td>\n      <td>0</td>\n      <td>2</td>\n      <td>1</td>\n      <td>1970-01-01 12:22:11</td>\n      <td>normal</td>\n    </tr>\n    <tr>\n      <th>4</th>\n      <td>case_1038</td>\n      <td>1</td>\n      <td>1</td>\n      <td>1</td>\n      <td>1</td>\n      <td>0</td>\n      <td>1</td>\n      <td>1</td>\n      <td>1</td>\n      <td>1</td>\n      <td>...</td>\n      <td>0</td>\n      <td>0</td>\n      <td>2</td>\n      <td>6</td>\n      <td>1</td>\n      <td>1</td>\n      <td>1</td>\n      <td>0</td>\n      <td>1970-01-01 13:43:38</td>\n      <td>normal</td>\n    </tr>\n    <tr>\n      <th>...</th>\n      <td>...</td>\n      <td>...</td>\n      <td>...</td>\n      <td>...</td>\n      <td>...</td>\n      <td>...</td>\n      <td>...</td>\n      <td>...</td>\n      <td>...</td>\n      <td>...</td>\n      <td>...</td>\n      <td>...</td>\n      <td>...</td>\n      <td>...</td>\n      <td>...</td>\n      <td>...</td>\n      <td>...</td>\n      <td>...</td>\n      <td>...</td>\n      <td>...</td>\n      <td>...</td>\n    </tr>\n    <tr>\n      <th>440</th>\n      <td>case_946</td>\n      <td>1</td>\n      <td>1</td>\n      <td>1</td>\n      <td>1</td>\n      <td>0</td>\n      <td>1</td>\n      <td>1</td>\n      <td>0</td>\n      <td>0</td>\n      <td>...</td>\n      <td>0</td>\n      <td>0</td>\n      <td>1</td>\n      <td>4</td>\n      <td>2</td>\n      <td>2</td>\n      <td>2</td>\n      <td>0</td>\n      <td>1970-01-01 12:31:20</td>\n      <td>normal</td>\n    </tr>\n    <tr>\n      <th>441</th>\n      <td>case_949</td>\n      <td>1</td>\n      <td>1</td>\n      <td>1</td>\n      <td>1</td>\n      <td>0</td>\n      <td>1</td>\n      <td>1</td>\n      <td>0</td>\n      <td>1</td>\n      <td>...</td>\n      <td>0</td>\n      <td>1</td>\n      <td>2</td>\n      <td>5</td>\n      <td>2</td>\n      <td>1</td>\n      <td>1</td>\n      <td>0</td>\n      <td>1970-01-01 12:44:33</td>\n      <td>normal</td>\n    </tr>\n    <tr>\n      <th>442</th>\n      <td>case_96</td>\n      <td>1</td>\n      <td>1</td>\n      <td>1</td>\n      <td>1</td>\n      <td>0</td>\n      <td>1</td>\n      <td>1</td>\n      <td>1</td>\n      <td>0</td>\n      <td>...</td>\n      <td>0</td>\n      <td>0</td>\n      <td>1</td>\n      <td>3</td>\n      <td>1</td>\n      <td>0</td>\n      <td>4</td>\n      <td>2</td>\n      <td>1970-01-01 12:31:22</td>\n      <td>normal</td>\n    </tr>\n    <tr>\n      <th>443</th>\n      <td>case_968</td>\n      <td>1</td>\n      <td>1</td>\n      <td>1</td>\n      <td>1</td>\n      <td>1</td>\n      <td>1</td>\n      <td>1</td>\n      <td>1</td>\n      <td>0</td>\n      <td>...</td>\n      <td>0</td>\n      <td>0</td>\n      <td>0</td>\n      <td>3</td>\n      <td>3</td>\n      <td>0</td>\n      <td>2</td>\n      <td>3</td>\n      <td>1970-01-01 13:45:51</td>\n      <td>normal</td>\n    </tr>\n    <tr>\n      <th>444</th>\n      <td>case_989</td>\n      <td>1</td>\n      <td>1</td>\n      <td>1</td>\n      <td>1</td>\n      <td>0</td>\n      <td>1</td>\n      <td>1</td>\n      <td>0</td>\n      <td>0</td>\n      <td>...</td>\n      <td>0</td>\n      <td>1</td>\n      <td>0</td>\n      <td>6</td>\n      <td>0</td>\n      <td>1</td>\n      <td>2</td>\n      <td>2</td>\n      <td>1970-01-01 12:49:19</td>\n      <td>normal</td>\n    </tr>\n  </tbody>\n</table>\n<p>445 rows × 29 columns</p>\n</div>"
     },
     "execution_count": 88,
     "metadata": {},
     "output_type": "execute_result"
    }
   ],
   "source": [
    "aggregation_enc(x)"
   ],
   "metadata": {
    "collapsed": false,
    "ExecuteTime": {
     "end_time": "2024-01-11T15:51:27.373498Z",
     "start_time": "2024-01-11T15:51:27.192184Z"
    }
   },
   "id": "810bbdc67b6e2b86"
  },
  {
   "cell_type": "markdown",
   "source": [
    "Create a function that does index-based encoding of a prefix extracted from the event log."
   ],
   "metadata": {
    "collapsed": false
   },
   "id": "d9a5b52120b780ad"
  },
  {
   "cell_type": "code",
   "execution_count": 100,
   "outputs": [],
   "source": [
    "def index_label(df, label):\n",
    "\n",
    "    L = len(df[label][1])\n",
    "    result = x[[\"caseid\"]].copy()\n",
    "    \n",
    "    # Create the column and put them to 0\n",
    "    for i in range(1, L+1):\n",
    "        result[label + \"_\" + str(i)] = 0\n",
    "        \n",
    "    for index, row in x.iterrows():\n",
    "        k = 1\n",
    "        for e in row[label]:\n",
    "            result.at[index, label + \"_\" + str(k)] = e\n",
    "            k +=1\n",
    "    \n",
    "    return result"
   ],
   "metadata": {
    "collapsed": false,
    "ExecuteTime": {
     "end_time": "2024-01-11T15:59:26.822102Z",
     "start_time": "2024-01-11T15:59:26.803184Z"
    }
   },
   "id": "eb043ef85602da3a"
  },
  {
   "cell_type": "code",
   "execution_count": 90,
   "outputs": [
    {
     "data": {
      "text/plain": "         caseid  activity_1_Activity A  activity_2_Activity A  \\\n1        case_1                      1                      0   \n7     case_1003                      1                      0   \n10    case_1006                      1                      0   \n29    case_1023                      1                      0   \n45    case_1038                      1                      0   \n...         ...                    ...                    ...   \n4941   case_946                      1                      0   \n4944   case_949                      1                      0   \n4956    case_96                      1                      0   \n4965   case_968                      1                      0   \n4988   case_989                      1                      0   \n\n      activity_3_Activity A  activity_4_Activity A  activity_5_Activity A  \\\n1                         0                      0                      0   \n7                         0                      0                      0   \n10                        0                      0                      0   \n29                        0                      0                      0   \n45                        0                      0                      0   \n...                     ...                    ...                    ...   \n4941                      0                      0                      0   \n4944                      0                      0                      0   \n4956                      0                      0                      0   \n4965                      0                      0                      0   \n4988                      0                      0                      0   \n\n      activity_6_Activity A  activity_7_Activity A  activity_8_Activity A  \\\n1                         0                      0                      0   \n7                         0                      0                      0   \n10                        0                      0                      0   \n29                        0                      0                      0   \n45                        0                      0                      0   \n...                     ...                    ...                    ...   \n4941                      0                      0                      0   \n4944                      0                      0                      0   \n4956                      0                      0                      0   \n4965                      0                      0                      0   \n4988                      0                      0                      0   \n\n      activity_9_Activity A  ...  activity_2_Activity T  \\\n1                         0  ...                      0   \n7                         0  ...                      0   \n10                        0  ...                      0   \n29                        0  ...                      0   \n45                        0  ...                      0   \n...                     ...  ...                    ...   \n4941                      0  ...                      0   \n4944                      0  ...                      0   \n4956                      0  ...                      0   \n4965                      0  ...                      0   \n4988                      0  ...                      0   \n\n      activity_3_Activity T  activity_4_Activity T  activity_5_Activity T  \\\n1                         0                      0                      0   \n7                         0                      0                      0   \n10                        0                      0                      0   \n29                        0                      0                      0   \n45                        0                      0                      0   \n...                     ...                    ...                    ...   \n4941                      0                      0                      0   \n4944                      0                      0                      0   \n4956                      0                      0                      0   \n4965                      0                      0                      0   \n4988                      0                      0                      0   \n\n      activity_6_Activity T  activity_7_Activity T  activity_8_Activity T  \\\n1                         0                      0                      0   \n7                         0                      0                      0   \n10                        0                      0                      0   \n29                        0                      0                      0   \n45                        0                      0                      0   \n...                     ...                    ...                    ...   \n4941                      0                      0                      0   \n4944                      0                      1                      0   \n4956                      0                      0                      0   \n4965                      0                      0                      0   \n4988                      0                      1                      0   \n\n      activity_9_Activity T  activity_10_Activity T  activity_11_Activity T  \n1                         0                       0                       0  \n7                         0                       0                       0  \n10                        0                       0                       0  \n29                        0                       0                       0  \n45                        0                       0                       0  \n...                     ...                     ...                     ...  \n4941                      0                       0                       0  \n4944                      0                       0                       0  \n4956                      0                       0                       0  \n4965                      0                       0                       0  \n4988                      0                       0                       0  \n\n[445 rows x 221 columns]",
      "text/html": "<div>\n<style scoped>\n    .dataframe tbody tr th:only-of-type {\n        vertical-align: middle;\n    }\n\n    .dataframe tbody tr th {\n        vertical-align: top;\n    }\n\n    .dataframe thead th {\n        text-align: right;\n    }\n</style>\n<table border=\"1\" class=\"dataframe\">\n  <thead>\n    <tr style=\"text-align: right;\">\n      <th></th>\n      <th>caseid</th>\n      <th>activity_1_Activity A</th>\n      <th>activity_2_Activity A</th>\n      <th>activity_3_Activity A</th>\n      <th>activity_4_Activity A</th>\n      <th>activity_5_Activity A</th>\n      <th>activity_6_Activity A</th>\n      <th>activity_7_Activity A</th>\n      <th>activity_8_Activity A</th>\n      <th>activity_9_Activity A</th>\n      <th>...</th>\n      <th>activity_2_Activity T</th>\n      <th>activity_3_Activity T</th>\n      <th>activity_4_Activity T</th>\n      <th>activity_5_Activity T</th>\n      <th>activity_6_Activity T</th>\n      <th>activity_7_Activity T</th>\n      <th>activity_8_Activity T</th>\n      <th>activity_9_Activity T</th>\n      <th>activity_10_Activity T</th>\n      <th>activity_11_Activity T</th>\n    </tr>\n  </thead>\n  <tbody>\n    <tr>\n      <th>1</th>\n      <td>case_1</td>\n      <td>1</td>\n      <td>0</td>\n      <td>0</td>\n      <td>0</td>\n      <td>0</td>\n      <td>0</td>\n      <td>0</td>\n      <td>0</td>\n      <td>0</td>\n      <td>...</td>\n      <td>0</td>\n      <td>0</td>\n      <td>0</td>\n      <td>0</td>\n      <td>0</td>\n      <td>0</td>\n      <td>0</td>\n      <td>0</td>\n      <td>0</td>\n      <td>0</td>\n    </tr>\n    <tr>\n      <th>7</th>\n      <td>case_1003</td>\n      <td>1</td>\n      <td>0</td>\n      <td>0</td>\n      <td>0</td>\n      <td>0</td>\n      <td>0</td>\n      <td>0</td>\n      <td>0</td>\n      <td>0</td>\n      <td>...</td>\n      <td>0</td>\n      <td>0</td>\n      <td>0</td>\n      <td>0</td>\n      <td>0</td>\n      <td>0</td>\n      <td>0</td>\n      <td>0</td>\n      <td>0</td>\n      <td>0</td>\n    </tr>\n    <tr>\n      <th>10</th>\n      <td>case_1006</td>\n      <td>1</td>\n      <td>0</td>\n      <td>0</td>\n      <td>0</td>\n      <td>0</td>\n      <td>0</td>\n      <td>0</td>\n      <td>0</td>\n      <td>0</td>\n      <td>...</td>\n      <td>0</td>\n      <td>0</td>\n      <td>0</td>\n      <td>0</td>\n      <td>0</td>\n      <td>0</td>\n      <td>0</td>\n      <td>0</td>\n      <td>0</td>\n      <td>0</td>\n    </tr>\n    <tr>\n      <th>29</th>\n      <td>case_1023</td>\n      <td>1</td>\n      <td>0</td>\n      <td>0</td>\n      <td>0</td>\n      <td>0</td>\n      <td>0</td>\n      <td>0</td>\n      <td>0</td>\n      <td>0</td>\n      <td>...</td>\n      <td>0</td>\n      <td>0</td>\n      <td>0</td>\n      <td>0</td>\n      <td>0</td>\n      <td>0</td>\n      <td>0</td>\n      <td>0</td>\n      <td>0</td>\n      <td>0</td>\n    </tr>\n    <tr>\n      <th>45</th>\n      <td>case_1038</td>\n      <td>1</td>\n      <td>0</td>\n      <td>0</td>\n      <td>0</td>\n      <td>0</td>\n      <td>0</td>\n      <td>0</td>\n      <td>0</td>\n      <td>0</td>\n      <td>...</td>\n      <td>0</td>\n      <td>0</td>\n      <td>0</td>\n      <td>0</td>\n      <td>0</td>\n      <td>0</td>\n      <td>0</td>\n      <td>0</td>\n      <td>0</td>\n      <td>0</td>\n    </tr>\n    <tr>\n      <th>...</th>\n      <td>...</td>\n      <td>...</td>\n      <td>...</td>\n      <td>...</td>\n      <td>...</td>\n      <td>...</td>\n      <td>...</td>\n      <td>...</td>\n      <td>...</td>\n      <td>...</td>\n      <td>...</td>\n      <td>...</td>\n      <td>...</td>\n      <td>...</td>\n      <td>...</td>\n      <td>...</td>\n      <td>...</td>\n      <td>...</td>\n      <td>...</td>\n      <td>...</td>\n      <td>...</td>\n    </tr>\n    <tr>\n      <th>4941</th>\n      <td>case_946</td>\n      <td>1</td>\n      <td>0</td>\n      <td>0</td>\n      <td>0</td>\n      <td>0</td>\n      <td>0</td>\n      <td>0</td>\n      <td>0</td>\n      <td>0</td>\n      <td>...</td>\n      <td>0</td>\n      <td>0</td>\n      <td>0</td>\n      <td>0</td>\n      <td>0</td>\n      <td>0</td>\n      <td>0</td>\n      <td>0</td>\n      <td>0</td>\n      <td>0</td>\n    </tr>\n    <tr>\n      <th>4944</th>\n      <td>case_949</td>\n      <td>1</td>\n      <td>0</td>\n      <td>0</td>\n      <td>0</td>\n      <td>0</td>\n      <td>0</td>\n      <td>0</td>\n      <td>0</td>\n      <td>0</td>\n      <td>...</td>\n      <td>0</td>\n      <td>0</td>\n      <td>0</td>\n      <td>0</td>\n      <td>0</td>\n      <td>1</td>\n      <td>0</td>\n      <td>0</td>\n      <td>0</td>\n      <td>0</td>\n    </tr>\n    <tr>\n      <th>4956</th>\n      <td>case_96</td>\n      <td>1</td>\n      <td>0</td>\n      <td>0</td>\n      <td>0</td>\n      <td>0</td>\n      <td>0</td>\n      <td>0</td>\n      <td>0</td>\n      <td>0</td>\n      <td>...</td>\n      <td>0</td>\n      <td>0</td>\n      <td>0</td>\n      <td>0</td>\n      <td>0</td>\n      <td>0</td>\n      <td>0</td>\n      <td>0</td>\n      <td>0</td>\n      <td>0</td>\n    </tr>\n    <tr>\n      <th>4965</th>\n      <td>case_968</td>\n      <td>1</td>\n      <td>0</td>\n      <td>0</td>\n      <td>0</td>\n      <td>0</td>\n      <td>0</td>\n      <td>0</td>\n      <td>0</td>\n      <td>0</td>\n      <td>...</td>\n      <td>0</td>\n      <td>0</td>\n      <td>0</td>\n      <td>0</td>\n      <td>0</td>\n      <td>0</td>\n      <td>0</td>\n      <td>0</td>\n      <td>0</td>\n      <td>0</td>\n    </tr>\n    <tr>\n      <th>4988</th>\n      <td>case_989</td>\n      <td>1</td>\n      <td>0</td>\n      <td>0</td>\n      <td>0</td>\n      <td>0</td>\n      <td>0</td>\n      <td>0</td>\n      <td>0</td>\n      <td>0</td>\n      <td>...</td>\n      <td>0</td>\n      <td>0</td>\n      <td>0</td>\n      <td>0</td>\n      <td>0</td>\n      <td>1</td>\n      <td>0</td>\n      <td>0</td>\n      <td>0</td>\n      <td>0</td>\n    </tr>\n  </tbody>\n</table>\n<p>445 rows × 221 columns</p>\n</div>"
     },
     "execution_count": 90,
     "metadata": {},
     "output_type": "execute_result"
    }
   ],
   "source": [
    "one_hot(x, \"activity\", \"index\")"
   ],
   "metadata": {
    "collapsed": false,
    "ExecuteTime": {
     "end_time": "2024-01-11T15:55:37.003255Z",
     "start_time": "2024-01-11T15:55:36.903222Z"
    }
   },
   "id": "3748c7537085928f"
  },
  {
   "cell_type": "code",
   "execution_count": 91,
   "outputs": [
    {
     "data": {
      "text/plain": "         caseid  resource_1_Resource_Group2_res_0  \\\n1        case_1                                 1   \n7     case_1003                                 1   \n10    case_1006                                 0   \n29    case_1023                                 0   \n45    case_1038                                 1   \n...         ...                               ...   \n4941   case_946                                 1   \n4944   case_949                                 0   \n4956    case_96                                 1   \n4965   case_968                                 0   \n4988   case_989                                 0   \n\n      resource_2_Resource_Group2_res_0  resource_3_Resource_Group2_res_0  \\\n1                                    0                                 0   \n7                                    0                                 0   \n10                                   0                                 0   \n29                                   0                                 0   \n45                                   0                                 0   \n...                                ...                               ...   \n4941                                 0                                 0   \n4944                                 0                                 0   \n4956                                 0                                 0   \n4965                                 0                                 0   \n4988                                 0                                 0   \n\n      resource_4_Resource_Group2_res_0  resource_5_Resource_Group2_res_0  \\\n1                                    0                                 0   \n7                                    0                                 0   \n10                                   1                                 0   \n29                                   0                                 0   \n45                                   0                                 0   \n...                                ...                               ...   \n4941                                 0                                 0   \n4944                                 1                                 0   \n4956                                 0                                 0   \n4965                                 0                                 0   \n4988                                 0                                 0   \n\n      resource_6_Resource_Group2_res_0  resource_7_Resource_Group2_res_0  \\\n1                                    0                                 0   \n7                                    0                                 0   \n10                                   0                                 0   \n29                                   1                                 0   \n45                                   0                                 0   \n...                                ...                               ...   \n4941                                 0                                 0   \n4944                                 0                                 0   \n4956                                 0                                 0   \n4965                                 0                                 0   \n4988                                 0                                 0   \n\n      resource_8_Resource_Group2_res_0  resource_9_Resource_Group2_res_0  ...  \\\n1                                    0                                 0  ...   \n7                                    0                                 0  ...   \n10                                   0                                 0  ...   \n29                                   0                                 0  ...   \n45                                   0                                 0  ...   \n...                                ...                               ...  ...   \n4941                                 0                                 0  ...   \n4944                                 0                                 1  ...   \n4956                                 0                                 0  ...   \n4965                                 0                                 0  ...   \n4988                                 0                                 0  ...   \n\n      resource_2_Resource_Group2_res_2  resource_3_Resource_Group2_res_2  \\\n1                                    0                                 0   \n7                                    0                                 0   \n10                                   0                                 0   \n29                                   0                                 0   \n45                                   0                                 0   \n...                                ...                               ...   \n4941                                 0                                 0   \n4944                                 0                                 0   \n4956                                 0                                 0   \n4965                                 0                                 0   \n4988                                 0                                 0   \n\n      resource_4_Resource_Group2_res_2  resource_5_Resource_Group2_res_2  \\\n1                                    0                                 0   \n7                                    0                                 0   \n10                                   0                                 0   \n29                                   0                                 0   \n45                                   0                                 0   \n...                                ...                               ...   \n4941                                 0                                 0   \n4944                                 0                                 0   \n4956                                 1                                 0   \n4965                                 1                                 0   \n4988                                 1                                 0   \n\n      resource_6_Resource_Group2_res_2  resource_7_Resource_Group2_res_2  \\\n1                                    0                                 0   \n7                                    0                                 0   \n10                                   1                                 0   \n29                                   0                                 0   \n45                                   0                                 0   \n...                                ...                               ...   \n4941                                 0                                 0   \n4944                                 0                                 0   \n4956                                 1                                 0   \n4965                                 0                                 0   \n4988                                 0                                 0   \n\n      resource_8_Resource_Group2_res_2  resource_9_Resource_Group2_res_2  \\\n1                                    0                                 0   \n7                                    0                                 0   \n10                                   0                                 0   \n29                                   0                                 0   \n45                                   0                                 0   \n...                                ...                               ...   \n4941                                 0                                 0   \n4944                                 0                                 0   \n4956                                 0                                 0   \n4965                                 0                                 0   \n4988                                 0                                 1   \n\n      resource_10_Resource_Group2_res_2  resource_11_Resource_Group2_res_2  \n1                                     0                                  0  \n7                                     0                                  0  \n10                                    0                                  0  \n29                                    0                                  0  \n45                                    0                                  0  \n...                                 ...                                ...  \n4941                                  0                                  0  \n4944                                  0                                  0  \n4956                                  0                                  0  \n4965                                  1                                  0  \n4988                                  0                                  0  \n\n[445 rows x 67 columns]",
      "text/html": "<div>\n<style scoped>\n    .dataframe tbody tr th:only-of-type {\n        vertical-align: middle;\n    }\n\n    .dataframe tbody tr th {\n        vertical-align: top;\n    }\n\n    .dataframe thead th {\n        text-align: right;\n    }\n</style>\n<table border=\"1\" class=\"dataframe\">\n  <thead>\n    <tr style=\"text-align: right;\">\n      <th></th>\n      <th>caseid</th>\n      <th>resource_1_Resource_Group2_res_0</th>\n      <th>resource_2_Resource_Group2_res_0</th>\n      <th>resource_3_Resource_Group2_res_0</th>\n      <th>resource_4_Resource_Group2_res_0</th>\n      <th>resource_5_Resource_Group2_res_0</th>\n      <th>resource_6_Resource_Group2_res_0</th>\n      <th>resource_7_Resource_Group2_res_0</th>\n      <th>resource_8_Resource_Group2_res_0</th>\n      <th>resource_9_Resource_Group2_res_0</th>\n      <th>...</th>\n      <th>resource_2_Resource_Group2_res_2</th>\n      <th>resource_3_Resource_Group2_res_2</th>\n      <th>resource_4_Resource_Group2_res_2</th>\n      <th>resource_5_Resource_Group2_res_2</th>\n      <th>resource_6_Resource_Group2_res_2</th>\n      <th>resource_7_Resource_Group2_res_2</th>\n      <th>resource_8_Resource_Group2_res_2</th>\n      <th>resource_9_Resource_Group2_res_2</th>\n      <th>resource_10_Resource_Group2_res_2</th>\n      <th>resource_11_Resource_Group2_res_2</th>\n    </tr>\n  </thead>\n  <tbody>\n    <tr>\n      <th>1</th>\n      <td>case_1</td>\n      <td>1</td>\n      <td>0</td>\n      <td>0</td>\n      <td>0</td>\n      <td>0</td>\n      <td>0</td>\n      <td>0</td>\n      <td>0</td>\n      <td>0</td>\n      <td>...</td>\n      <td>0</td>\n      <td>0</td>\n      <td>0</td>\n      <td>0</td>\n      <td>0</td>\n      <td>0</td>\n      <td>0</td>\n      <td>0</td>\n      <td>0</td>\n      <td>0</td>\n    </tr>\n    <tr>\n      <th>7</th>\n      <td>case_1003</td>\n      <td>1</td>\n      <td>0</td>\n      <td>0</td>\n      <td>0</td>\n      <td>0</td>\n      <td>0</td>\n      <td>0</td>\n      <td>0</td>\n      <td>0</td>\n      <td>...</td>\n      <td>0</td>\n      <td>0</td>\n      <td>0</td>\n      <td>0</td>\n      <td>0</td>\n      <td>0</td>\n      <td>0</td>\n      <td>0</td>\n      <td>0</td>\n      <td>0</td>\n    </tr>\n    <tr>\n      <th>10</th>\n      <td>case_1006</td>\n      <td>0</td>\n      <td>0</td>\n      <td>0</td>\n      <td>1</td>\n      <td>0</td>\n      <td>0</td>\n      <td>0</td>\n      <td>0</td>\n      <td>0</td>\n      <td>...</td>\n      <td>0</td>\n      <td>0</td>\n      <td>0</td>\n      <td>0</td>\n      <td>1</td>\n      <td>0</td>\n      <td>0</td>\n      <td>0</td>\n      <td>0</td>\n      <td>0</td>\n    </tr>\n    <tr>\n      <th>29</th>\n      <td>case_1023</td>\n      <td>0</td>\n      <td>0</td>\n      <td>0</td>\n      <td>0</td>\n      <td>0</td>\n      <td>1</td>\n      <td>0</td>\n      <td>0</td>\n      <td>0</td>\n      <td>...</td>\n      <td>0</td>\n      <td>0</td>\n      <td>0</td>\n      <td>0</td>\n      <td>0</td>\n      <td>0</td>\n      <td>0</td>\n      <td>0</td>\n      <td>0</td>\n      <td>0</td>\n    </tr>\n    <tr>\n      <th>45</th>\n      <td>case_1038</td>\n      <td>1</td>\n      <td>0</td>\n      <td>0</td>\n      <td>0</td>\n      <td>0</td>\n      <td>0</td>\n      <td>0</td>\n      <td>0</td>\n      <td>0</td>\n      <td>...</td>\n      <td>0</td>\n      <td>0</td>\n      <td>0</td>\n      <td>0</td>\n      <td>0</td>\n      <td>0</td>\n      <td>0</td>\n      <td>0</td>\n      <td>0</td>\n      <td>0</td>\n    </tr>\n    <tr>\n      <th>...</th>\n      <td>...</td>\n      <td>...</td>\n      <td>...</td>\n      <td>...</td>\n      <td>...</td>\n      <td>...</td>\n      <td>...</td>\n      <td>...</td>\n      <td>...</td>\n      <td>...</td>\n      <td>...</td>\n      <td>...</td>\n      <td>...</td>\n      <td>...</td>\n      <td>...</td>\n      <td>...</td>\n      <td>...</td>\n      <td>...</td>\n      <td>...</td>\n      <td>...</td>\n      <td>...</td>\n    </tr>\n    <tr>\n      <th>4941</th>\n      <td>case_946</td>\n      <td>1</td>\n      <td>0</td>\n      <td>0</td>\n      <td>0</td>\n      <td>0</td>\n      <td>0</td>\n      <td>0</td>\n      <td>0</td>\n      <td>0</td>\n      <td>...</td>\n      <td>0</td>\n      <td>0</td>\n      <td>0</td>\n      <td>0</td>\n      <td>0</td>\n      <td>0</td>\n      <td>0</td>\n      <td>0</td>\n      <td>0</td>\n      <td>0</td>\n    </tr>\n    <tr>\n      <th>4944</th>\n      <td>case_949</td>\n      <td>0</td>\n      <td>0</td>\n      <td>0</td>\n      <td>1</td>\n      <td>0</td>\n      <td>0</td>\n      <td>0</td>\n      <td>0</td>\n      <td>1</td>\n      <td>...</td>\n      <td>0</td>\n      <td>0</td>\n      <td>0</td>\n      <td>0</td>\n      <td>0</td>\n      <td>0</td>\n      <td>0</td>\n      <td>0</td>\n      <td>0</td>\n      <td>0</td>\n    </tr>\n    <tr>\n      <th>4956</th>\n      <td>case_96</td>\n      <td>1</td>\n      <td>0</td>\n      <td>0</td>\n      <td>0</td>\n      <td>0</td>\n      <td>0</td>\n      <td>0</td>\n      <td>0</td>\n      <td>0</td>\n      <td>...</td>\n      <td>0</td>\n      <td>0</td>\n      <td>1</td>\n      <td>0</td>\n      <td>1</td>\n      <td>0</td>\n      <td>0</td>\n      <td>0</td>\n      <td>0</td>\n      <td>0</td>\n    </tr>\n    <tr>\n      <th>4965</th>\n      <td>case_968</td>\n      <td>0</td>\n      <td>0</td>\n      <td>0</td>\n      <td>0</td>\n      <td>0</td>\n      <td>0</td>\n      <td>0</td>\n      <td>0</td>\n      <td>0</td>\n      <td>...</td>\n      <td>0</td>\n      <td>0</td>\n      <td>1</td>\n      <td>0</td>\n      <td>0</td>\n      <td>0</td>\n      <td>0</td>\n      <td>0</td>\n      <td>1</td>\n      <td>0</td>\n    </tr>\n    <tr>\n      <th>4988</th>\n      <td>case_989</td>\n      <td>0</td>\n      <td>0</td>\n      <td>0</td>\n      <td>0</td>\n      <td>0</td>\n      <td>0</td>\n      <td>0</td>\n      <td>0</td>\n      <td>0</td>\n      <td>...</td>\n      <td>0</td>\n      <td>0</td>\n      <td>1</td>\n      <td>0</td>\n      <td>0</td>\n      <td>0</td>\n      <td>0</td>\n      <td>1</td>\n      <td>0</td>\n      <td>0</td>\n    </tr>\n  </tbody>\n</table>\n<p>445 rows × 67 columns</p>\n</div>"
     },
     "execution_count": 91,
     "metadata": {},
     "output_type": "execute_result"
    }
   ],
   "source": [
    "one_hot(x, \"resource\", \"index\")"
   ],
   "metadata": {
    "collapsed": false,
    "ExecuteTime": {
     "end_time": "2024-01-11T15:55:55.201556Z",
     "start_time": "2024-01-11T15:55:55.123464Z"
    }
   },
   "id": "944ce2c101a72d67"
  },
  {
   "cell_type": "code",
   "execution_count": 101,
   "outputs": [
    {
     "data": {
      "text/plain": "         caseid                 ts_1                 ts_2  \\\n1        case_1  1970-01-01 09:00:00  1970-01-01 10:00:00   \n7     case_1003  1970-01-01 09:00:00  1970-01-01 10:00:00   \n10    case_1006  1970-01-01 09:00:00  1970-01-01 10:00:00   \n29    case_1023  1970-01-01 09:00:00  1970-01-01 09:28:09   \n45    case_1038  1970-01-01 09:00:00  1970-01-01 10:00:00   \n...         ...                  ...                  ...   \n4941   case_946  1970-01-01 09:00:00  1970-01-01 10:00:00   \n4944   case_949  1970-01-01 09:00:00  1970-01-01 10:00:00   \n4956    case_96  1970-01-01 09:00:00  1970-01-01 10:00:00   \n4965   case_968  1970-01-01 09:00:00  1970-01-01 10:00:00   \n4988   case_989  1970-01-01 09:00:00  1970-01-01 10:00:00   \n\n                     ts_3                 ts_4                 ts_5  \\\n1     1970-01-01 11:00:00  1970-01-01 11:07:35  1970-01-01 11:51:06   \n7     1970-01-01 11:00:00  1970-01-01 11:07:02  1970-01-01 11:08:41   \n10    1970-01-01 10:15:08  1970-01-01 10:17:19  1970-01-01 11:00:00   \n29    1970-01-01 09:35:59  1970-01-01 10:00:00  1970-01-01 11:00:00   \n45    1970-01-01 11:00:00  1970-01-01 12:00:00  1970-01-01 13:00:00   \n...                   ...                  ...                  ...   \n4941  1970-01-01 11:00:00  1970-01-01 12:00:00  1970-01-01 12:06:28   \n4944  1970-01-01 11:00:00  1970-01-01 12:00:00  1970-01-01 13:00:00   \n4956  1970-01-01 11:00:00  1970-01-01 12:00:00  1970-01-01 12:04:55   \n4965  1970-01-01 11:00:00  1970-01-01 12:00:00  1970-01-01 13:00:00   \n4988  1970-01-01 11:00:00  1970-01-01 12:00:00  1970-01-01 13:00:00   \n\n                     ts_6                 ts_7                 ts_8  \\\n1     1970-01-01 12:00:00  1970-01-01 13:00:00  1970-01-01 14:00:00   \n7     1970-01-01 11:54:37  1970-01-01 12:00:00  1970-01-01 13:00:00   \n10    1970-01-01 12:00:00  1970-01-01 13:00:00  1970-01-01 14:00:00   \n29    1970-01-01 12:00:00  1970-01-01 13:00:00  1970-01-01 14:00:00   \n45    1970-01-01 14:00:00  1970-01-01 15:00:00  1970-01-01 16:00:00   \n...                   ...                  ...                  ...   \n4941  1970-01-01 12:48:04  1970-01-01 12:50:18  1970-01-01 13:00:00   \n4944  1970-01-01 13:02:28  1970-01-01 13:15:42  1970-01-01 13:51:57   \n4956  1970-01-01 12:46:46  1970-01-01 12:53:21  1970-01-01 13:00:00   \n4965  1970-01-01 14:00:00  1970-01-01 15:00:00  1970-01-01 16:00:00   \n4988  1970-01-01 13:30:55  1970-01-01 13:41:00  1970-01-01 13:50:43   \n\n                     ts_9                ts_10                ts_11  \n1     1970-01-01 15:00:00  1970-01-01 16:00:00  1970-01-01 17:00:00  \n7     1970-01-01 14:00:00  1970-01-01 15:00:00  1970-01-01 16:00:00  \n10    1970-01-01 15:00:00  1970-01-01 16:00:00  1970-01-01 17:00:00  \n29    1970-01-01 15:00:00  1970-01-01 16:00:00  1970-01-01 17:00:00  \n45    1970-01-01 17:00:00  1970-01-01 17:00:00  1970-01-01 17:00:00  \n...                   ...                  ...                  ...  \n4941  1970-01-01 14:00:00  1970-01-01 15:00:00  1970-01-01 16:00:00  \n4944  1970-01-01 14:00:00  1970-01-01 15:00:00  1970-01-01 16:00:00  \n4956  1970-01-01 14:00:00  1970-01-01 15:00:00  1970-01-01 16:00:00  \n4965  1970-01-01 17:00:00  1970-01-01 17:11:20  1970-01-01 17:13:07  \n4988  1970-01-01 14:00:00  1970-01-01 15:00:00  1970-01-01 16:00:00  \n\n[445 rows x 12 columns]",
      "text/html": "<div>\n<style scoped>\n    .dataframe tbody tr th:only-of-type {\n        vertical-align: middle;\n    }\n\n    .dataframe tbody tr th {\n        vertical-align: top;\n    }\n\n    .dataframe thead th {\n        text-align: right;\n    }\n</style>\n<table border=\"1\" class=\"dataframe\">\n  <thead>\n    <tr style=\"text-align: right;\">\n      <th></th>\n      <th>caseid</th>\n      <th>ts_1</th>\n      <th>ts_2</th>\n      <th>ts_3</th>\n      <th>ts_4</th>\n      <th>ts_5</th>\n      <th>ts_6</th>\n      <th>ts_7</th>\n      <th>ts_8</th>\n      <th>ts_9</th>\n      <th>ts_10</th>\n      <th>ts_11</th>\n    </tr>\n  </thead>\n  <tbody>\n    <tr>\n      <th>1</th>\n      <td>case_1</td>\n      <td>1970-01-01 09:00:00</td>\n      <td>1970-01-01 10:00:00</td>\n      <td>1970-01-01 11:00:00</td>\n      <td>1970-01-01 11:07:35</td>\n      <td>1970-01-01 11:51:06</td>\n      <td>1970-01-01 12:00:00</td>\n      <td>1970-01-01 13:00:00</td>\n      <td>1970-01-01 14:00:00</td>\n      <td>1970-01-01 15:00:00</td>\n      <td>1970-01-01 16:00:00</td>\n      <td>1970-01-01 17:00:00</td>\n    </tr>\n    <tr>\n      <th>7</th>\n      <td>case_1003</td>\n      <td>1970-01-01 09:00:00</td>\n      <td>1970-01-01 10:00:00</td>\n      <td>1970-01-01 11:00:00</td>\n      <td>1970-01-01 11:07:02</td>\n      <td>1970-01-01 11:08:41</td>\n      <td>1970-01-01 11:54:37</td>\n      <td>1970-01-01 12:00:00</td>\n      <td>1970-01-01 13:00:00</td>\n      <td>1970-01-01 14:00:00</td>\n      <td>1970-01-01 15:00:00</td>\n      <td>1970-01-01 16:00:00</td>\n    </tr>\n    <tr>\n      <th>10</th>\n      <td>case_1006</td>\n      <td>1970-01-01 09:00:00</td>\n      <td>1970-01-01 10:00:00</td>\n      <td>1970-01-01 10:15:08</td>\n      <td>1970-01-01 10:17:19</td>\n      <td>1970-01-01 11:00:00</td>\n      <td>1970-01-01 12:00:00</td>\n      <td>1970-01-01 13:00:00</td>\n      <td>1970-01-01 14:00:00</td>\n      <td>1970-01-01 15:00:00</td>\n      <td>1970-01-01 16:00:00</td>\n      <td>1970-01-01 17:00:00</td>\n    </tr>\n    <tr>\n      <th>29</th>\n      <td>case_1023</td>\n      <td>1970-01-01 09:00:00</td>\n      <td>1970-01-01 09:28:09</td>\n      <td>1970-01-01 09:35:59</td>\n      <td>1970-01-01 10:00:00</td>\n      <td>1970-01-01 11:00:00</td>\n      <td>1970-01-01 12:00:00</td>\n      <td>1970-01-01 13:00:00</td>\n      <td>1970-01-01 14:00:00</td>\n      <td>1970-01-01 15:00:00</td>\n      <td>1970-01-01 16:00:00</td>\n      <td>1970-01-01 17:00:00</td>\n    </tr>\n    <tr>\n      <th>45</th>\n      <td>case_1038</td>\n      <td>1970-01-01 09:00:00</td>\n      <td>1970-01-01 10:00:00</td>\n      <td>1970-01-01 11:00:00</td>\n      <td>1970-01-01 12:00:00</td>\n      <td>1970-01-01 13:00:00</td>\n      <td>1970-01-01 14:00:00</td>\n      <td>1970-01-01 15:00:00</td>\n      <td>1970-01-01 16:00:00</td>\n      <td>1970-01-01 17:00:00</td>\n      <td>1970-01-01 17:00:00</td>\n      <td>1970-01-01 17:00:00</td>\n    </tr>\n    <tr>\n      <th>...</th>\n      <td>...</td>\n      <td>...</td>\n      <td>...</td>\n      <td>...</td>\n      <td>...</td>\n      <td>...</td>\n      <td>...</td>\n      <td>...</td>\n      <td>...</td>\n      <td>...</td>\n      <td>...</td>\n      <td>...</td>\n    </tr>\n    <tr>\n      <th>4941</th>\n      <td>case_946</td>\n      <td>1970-01-01 09:00:00</td>\n      <td>1970-01-01 10:00:00</td>\n      <td>1970-01-01 11:00:00</td>\n      <td>1970-01-01 12:00:00</td>\n      <td>1970-01-01 12:06:28</td>\n      <td>1970-01-01 12:48:04</td>\n      <td>1970-01-01 12:50:18</td>\n      <td>1970-01-01 13:00:00</td>\n      <td>1970-01-01 14:00:00</td>\n      <td>1970-01-01 15:00:00</td>\n      <td>1970-01-01 16:00:00</td>\n    </tr>\n    <tr>\n      <th>4944</th>\n      <td>case_949</td>\n      <td>1970-01-01 09:00:00</td>\n      <td>1970-01-01 10:00:00</td>\n      <td>1970-01-01 11:00:00</td>\n      <td>1970-01-01 12:00:00</td>\n      <td>1970-01-01 13:00:00</td>\n      <td>1970-01-01 13:02:28</td>\n      <td>1970-01-01 13:15:42</td>\n      <td>1970-01-01 13:51:57</td>\n      <td>1970-01-01 14:00:00</td>\n      <td>1970-01-01 15:00:00</td>\n      <td>1970-01-01 16:00:00</td>\n    </tr>\n    <tr>\n      <th>4956</th>\n      <td>case_96</td>\n      <td>1970-01-01 09:00:00</td>\n      <td>1970-01-01 10:00:00</td>\n      <td>1970-01-01 11:00:00</td>\n      <td>1970-01-01 12:00:00</td>\n      <td>1970-01-01 12:04:55</td>\n      <td>1970-01-01 12:46:46</td>\n      <td>1970-01-01 12:53:21</td>\n      <td>1970-01-01 13:00:00</td>\n      <td>1970-01-01 14:00:00</td>\n      <td>1970-01-01 15:00:00</td>\n      <td>1970-01-01 16:00:00</td>\n    </tr>\n    <tr>\n      <th>4965</th>\n      <td>case_968</td>\n      <td>1970-01-01 09:00:00</td>\n      <td>1970-01-01 10:00:00</td>\n      <td>1970-01-01 11:00:00</td>\n      <td>1970-01-01 12:00:00</td>\n      <td>1970-01-01 13:00:00</td>\n      <td>1970-01-01 14:00:00</td>\n      <td>1970-01-01 15:00:00</td>\n      <td>1970-01-01 16:00:00</td>\n      <td>1970-01-01 17:00:00</td>\n      <td>1970-01-01 17:11:20</td>\n      <td>1970-01-01 17:13:07</td>\n    </tr>\n    <tr>\n      <th>4988</th>\n      <td>case_989</td>\n      <td>1970-01-01 09:00:00</td>\n      <td>1970-01-01 10:00:00</td>\n      <td>1970-01-01 11:00:00</td>\n      <td>1970-01-01 12:00:00</td>\n      <td>1970-01-01 13:00:00</td>\n      <td>1970-01-01 13:30:55</td>\n      <td>1970-01-01 13:41:00</td>\n      <td>1970-01-01 13:50:43</td>\n      <td>1970-01-01 14:00:00</td>\n      <td>1970-01-01 15:00:00</td>\n      <td>1970-01-01 16:00:00</td>\n    </tr>\n  </tbody>\n</table>\n<p>445 rows × 12 columns</p>\n</div>"
     },
     "execution_count": 101,
     "metadata": {},
     "output_type": "execute_result"
    }
   ],
   "source": [
    "index_label(x, \"ts\")"
   ],
   "metadata": {
    "collapsed": false,
    "ExecuteTime": {
     "end_time": "2024-01-11T15:59:29.660818Z",
     "start_time": "2024-01-11T15:59:29.641349Z"
    }
   },
   "id": "30b693b1533de03d"
  },
  {
   "cell_type": "code",
   "execution_count": 102,
   "outputs": [],
   "source": [
    "def index_enc(df):\n",
    "    res0 = one_hot(df, \"activity\", \"index\")\n",
    "    res1 = one_hot(df, \"resource\", \"index\")\n",
    "    res2 = index_label(df, \"ts\")\n",
    "    \n",
    "    res = pd.merge(res0, pd.merge(res1, res2), on=\"caseid\")\n",
    "    \n",
    "    temp = df[[\"caseid\", \"outcome\"]].copy()\n",
    "    res = pd.merge(res, temp, on=\"caseid\")\n",
    "\n",
    "    return res"
   ],
   "metadata": {
    "collapsed": false,
    "ExecuteTime": {
     "end_time": "2024-01-11T15:59:47.329107Z",
     "start_time": "2024-01-11T15:59:47.313154Z"
    }
   },
   "id": "537ebf717bc3c526"
  },
  {
   "cell_type": "code",
   "execution_count": 103,
   "outputs": [
    {
     "data": {
      "text/plain": "        caseid  activity_1_Activity A  activity_2_Activity A  \\\n0       case_1                      1                      0   \n1    case_1003                      1                      0   \n2    case_1006                      1                      0   \n3    case_1023                      1                      0   \n4    case_1038                      1                      0   \n..         ...                    ...                    ...   \n440   case_946                      1                      0   \n441   case_949                      1                      0   \n442    case_96                      1                      0   \n443   case_968                      1                      0   \n444   case_989                      1                      0   \n\n     activity_3_Activity A  activity_4_Activity A  activity_5_Activity A  \\\n0                        0                      0                      0   \n1                        0                      0                      0   \n2                        0                      0                      0   \n3                        0                      0                      0   \n4                        0                      0                      0   \n..                     ...                    ...                    ...   \n440                      0                      0                      0   \n441                      0                      0                      0   \n442                      0                      0                      0   \n443                      0                      0                      0   \n444                      0                      0                      0   \n\n     activity_6_Activity A  activity_7_Activity A  activity_8_Activity A  \\\n0                        0                      0                      0   \n1                        0                      0                      0   \n2                        0                      0                      0   \n3                        0                      0                      0   \n4                        0                      0                      0   \n..                     ...                    ...                    ...   \n440                      0                      0                      0   \n441                      0                      0                      0   \n442                      0                      0                      0   \n443                      0                      0                      0   \n444                      0                      0                      0   \n\n     activity_9_Activity A  ...                 ts_3                 ts_4  \\\n0                        0  ...  1970-01-01 11:00:00  1970-01-01 11:07:35   \n1                        0  ...  1970-01-01 11:00:00  1970-01-01 11:07:02   \n2                        0  ...  1970-01-01 10:15:08  1970-01-01 10:17:19   \n3                        0  ...  1970-01-01 09:35:59  1970-01-01 10:00:00   \n4                        0  ...  1970-01-01 11:00:00  1970-01-01 12:00:00   \n..                     ...  ...                  ...                  ...   \n440                      0  ...  1970-01-01 11:00:00  1970-01-01 12:00:00   \n441                      0  ...  1970-01-01 11:00:00  1970-01-01 12:00:00   \n442                      0  ...  1970-01-01 11:00:00  1970-01-01 12:00:00   \n443                      0  ...  1970-01-01 11:00:00  1970-01-01 12:00:00   \n444                      0  ...  1970-01-01 11:00:00  1970-01-01 12:00:00   \n\n                    ts_5                 ts_6                 ts_7  \\\n0    1970-01-01 11:51:06  1970-01-01 12:00:00  1970-01-01 13:00:00   \n1    1970-01-01 11:08:41  1970-01-01 11:54:37  1970-01-01 12:00:00   \n2    1970-01-01 11:00:00  1970-01-01 12:00:00  1970-01-01 13:00:00   \n3    1970-01-01 11:00:00  1970-01-01 12:00:00  1970-01-01 13:00:00   \n4    1970-01-01 13:00:00  1970-01-01 14:00:00  1970-01-01 15:00:00   \n..                   ...                  ...                  ...   \n440  1970-01-01 12:06:28  1970-01-01 12:48:04  1970-01-01 12:50:18   \n441  1970-01-01 13:00:00  1970-01-01 13:02:28  1970-01-01 13:15:42   \n442  1970-01-01 12:04:55  1970-01-01 12:46:46  1970-01-01 12:53:21   \n443  1970-01-01 13:00:00  1970-01-01 14:00:00  1970-01-01 15:00:00   \n444  1970-01-01 13:00:00  1970-01-01 13:30:55  1970-01-01 13:41:00   \n\n                    ts_8                 ts_9                ts_10  \\\n0    1970-01-01 14:00:00  1970-01-01 15:00:00  1970-01-01 16:00:00   \n1    1970-01-01 13:00:00  1970-01-01 14:00:00  1970-01-01 15:00:00   \n2    1970-01-01 14:00:00  1970-01-01 15:00:00  1970-01-01 16:00:00   \n3    1970-01-01 14:00:00  1970-01-01 15:00:00  1970-01-01 16:00:00   \n4    1970-01-01 16:00:00  1970-01-01 17:00:00  1970-01-01 17:00:00   \n..                   ...                  ...                  ...   \n440  1970-01-01 13:00:00  1970-01-01 14:00:00  1970-01-01 15:00:00   \n441  1970-01-01 13:51:57  1970-01-01 14:00:00  1970-01-01 15:00:00   \n442  1970-01-01 13:00:00  1970-01-01 14:00:00  1970-01-01 15:00:00   \n443  1970-01-01 16:00:00  1970-01-01 17:00:00  1970-01-01 17:11:20   \n444  1970-01-01 13:50:43  1970-01-01 14:00:00  1970-01-01 15:00:00   \n\n                   ts_11  outcome  \n0    1970-01-01 17:00:00   normal  \n1    1970-01-01 16:00:00   insert  \n2    1970-01-01 17:00:00   insert  \n3    1970-01-01 17:00:00   normal  \n4    1970-01-01 17:00:00   normal  \n..                   ...      ...  \n440  1970-01-01 16:00:00   normal  \n441  1970-01-01 16:00:00   normal  \n442  1970-01-01 16:00:00   normal  \n443  1970-01-01 17:13:07   normal  \n444  1970-01-01 16:00:00   normal  \n\n[445 rows x 299 columns]",
      "text/html": "<div>\n<style scoped>\n    .dataframe tbody tr th:only-of-type {\n        vertical-align: middle;\n    }\n\n    .dataframe tbody tr th {\n        vertical-align: top;\n    }\n\n    .dataframe thead th {\n        text-align: right;\n    }\n</style>\n<table border=\"1\" class=\"dataframe\">\n  <thead>\n    <tr style=\"text-align: right;\">\n      <th></th>\n      <th>caseid</th>\n      <th>activity_1_Activity A</th>\n      <th>activity_2_Activity A</th>\n      <th>activity_3_Activity A</th>\n      <th>activity_4_Activity A</th>\n      <th>activity_5_Activity A</th>\n      <th>activity_6_Activity A</th>\n      <th>activity_7_Activity A</th>\n      <th>activity_8_Activity A</th>\n      <th>activity_9_Activity A</th>\n      <th>...</th>\n      <th>ts_3</th>\n      <th>ts_4</th>\n      <th>ts_5</th>\n      <th>ts_6</th>\n      <th>ts_7</th>\n      <th>ts_8</th>\n      <th>ts_9</th>\n      <th>ts_10</th>\n      <th>ts_11</th>\n      <th>outcome</th>\n    </tr>\n  </thead>\n  <tbody>\n    <tr>\n      <th>0</th>\n      <td>case_1</td>\n      <td>1</td>\n      <td>0</td>\n      <td>0</td>\n      <td>0</td>\n      <td>0</td>\n      <td>0</td>\n      <td>0</td>\n      <td>0</td>\n      <td>0</td>\n      <td>...</td>\n      <td>1970-01-01 11:00:00</td>\n      <td>1970-01-01 11:07:35</td>\n      <td>1970-01-01 11:51:06</td>\n      <td>1970-01-01 12:00:00</td>\n      <td>1970-01-01 13:00:00</td>\n      <td>1970-01-01 14:00:00</td>\n      <td>1970-01-01 15:00:00</td>\n      <td>1970-01-01 16:00:00</td>\n      <td>1970-01-01 17:00:00</td>\n      <td>normal</td>\n    </tr>\n    <tr>\n      <th>1</th>\n      <td>case_1003</td>\n      <td>1</td>\n      <td>0</td>\n      <td>0</td>\n      <td>0</td>\n      <td>0</td>\n      <td>0</td>\n      <td>0</td>\n      <td>0</td>\n      <td>0</td>\n      <td>...</td>\n      <td>1970-01-01 11:00:00</td>\n      <td>1970-01-01 11:07:02</td>\n      <td>1970-01-01 11:08:41</td>\n      <td>1970-01-01 11:54:37</td>\n      <td>1970-01-01 12:00:00</td>\n      <td>1970-01-01 13:00:00</td>\n      <td>1970-01-01 14:00:00</td>\n      <td>1970-01-01 15:00:00</td>\n      <td>1970-01-01 16:00:00</td>\n      <td>insert</td>\n    </tr>\n    <tr>\n      <th>2</th>\n      <td>case_1006</td>\n      <td>1</td>\n      <td>0</td>\n      <td>0</td>\n      <td>0</td>\n      <td>0</td>\n      <td>0</td>\n      <td>0</td>\n      <td>0</td>\n      <td>0</td>\n      <td>...</td>\n      <td>1970-01-01 10:15:08</td>\n      <td>1970-01-01 10:17:19</td>\n      <td>1970-01-01 11:00:00</td>\n      <td>1970-01-01 12:00:00</td>\n      <td>1970-01-01 13:00:00</td>\n      <td>1970-01-01 14:00:00</td>\n      <td>1970-01-01 15:00:00</td>\n      <td>1970-01-01 16:00:00</td>\n      <td>1970-01-01 17:00:00</td>\n      <td>insert</td>\n    </tr>\n    <tr>\n      <th>3</th>\n      <td>case_1023</td>\n      <td>1</td>\n      <td>0</td>\n      <td>0</td>\n      <td>0</td>\n      <td>0</td>\n      <td>0</td>\n      <td>0</td>\n      <td>0</td>\n      <td>0</td>\n      <td>...</td>\n      <td>1970-01-01 09:35:59</td>\n      <td>1970-01-01 10:00:00</td>\n      <td>1970-01-01 11:00:00</td>\n      <td>1970-01-01 12:00:00</td>\n      <td>1970-01-01 13:00:00</td>\n      <td>1970-01-01 14:00:00</td>\n      <td>1970-01-01 15:00:00</td>\n      <td>1970-01-01 16:00:00</td>\n      <td>1970-01-01 17:00:00</td>\n      <td>normal</td>\n    </tr>\n    <tr>\n      <th>4</th>\n      <td>case_1038</td>\n      <td>1</td>\n      <td>0</td>\n      <td>0</td>\n      <td>0</td>\n      <td>0</td>\n      <td>0</td>\n      <td>0</td>\n      <td>0</td>\n      <td>0</td>\n      <td>...</td>\n      <td>1970-01-01 11:00:00</td>\n      <td>1970-01-01 12:00:00</td>\n      <td>1970-01-01 13:00:00</td>\n      <td>1970-01-01 14:00:00</td>\n      <td>1970-01-01 15:00:00</td>\n      <td>1970-01-01 16:00:00</td>\n      <td>1970-01-01 17:00:00</td>\n      <td>1970-01-01 17:00:00</td>\n      <td>1970-01-01 17:00:00</td>\n      <td>normal</td>\n    </tr>\n    <tr>\n      <th>...</th>\n      <td>...</td>\n      <td>...</td>\n      <td>...</td>\n      <td>...</td>\n      <td>...</td>\n      <td>...</td>\n      <td>...</td>\n      <td>...</td>\n      <td>...</td>\n      <td>...</td>\n      <td>...</td>\n      <td>...</td>\n      <td>...</td>\n      <td>...</td>\n      <td>...</td>\n      <td>...</td>\n      <td>...</td>\n      <td>...</td>\n      <td>...</td>\n      <td>...</td>\n      <td>...</td>\n    </tr>\n    <tr>\n      <th>440</th>\n      <td>case_946</td>\n      <td>1</td>\n      <td>0</td>\n      <td>0</td>\n      <td>0</td>\n      <td>0</td>\n      <td>0</td>\n      <td>0</td>\n      <td>0</td>\n      <td>0</td>\n      <td>...</td>\n      <td>1970-01-01 11:00:00</td>\n      <td>1970-01-01 12:00:00</td>\n      <td>1970-01-01 12:06:28</td>\n      <td>1970-01-01 12:48:04</td>\n      <td>1970-01-01 12:50:18</td>\n      <td>1970-01-01 13:00:00</td>\n      <td>1970-01-01 14:00:00</td>\n      <td>1970-01-01 15:00:00</td>\n      <td>1970-01-01 16:00:00</td>\n      <td>normal</td>\n    </tr>\n    <tr>\n      <th>441</th>\n      <td>case_949</td>\n      <td>1</td>\n      <td>0</td>\n      <td>0</td>\n      <td>0</td>\n      <td>0</td>\n      <td>0</td>\n      <td>0</td>\n      <td>0</td>\n      <td>0</td>\n      <td>...</td>\n      <td>1970-01-01 11:00:00</td>\n      <td>1970-01-01 12:00:00</td>\n      <td>1970-01-01 13:00:00</td>\n      <td>1970-01-01 13:02:28</td>\n      <td>1970-01-01 13:15:42</td>\n      <td>1970-01-01 13:51:57</td>\n      <td>1970-01-01 14:00:00</td>\n      <td>1970-01-01 15:00:00</td>\n      <td>1970-01-01 16:00:00</td>\n      <td>normal</td>\n    </tr>\n    <tr>\n      <th>442</th>\n      <td>case_96</td>\n      <td>1</td>\n      <td>0</td>\n      <td>0</td>\n      <td>0</td>\n      <td>0</td>\n      <td>0</td>\n      <td>0</td>\n      <td>0</td>\n      <td>0</td>\n      <td>...</td>\n      <td>1970-01-01 11:00:00</td>\n      <td>1970-01-01 12:00:00</td>\n      <td>1970-01-01 12:04:55</td>\n      <td>1970-01-01 12:46:46</td>\n      <td>1970-01-01 12:53:21</td>\n      <td>1970-01-01 13:00:00</td>\n      <td>1970-01-01 14:00:00</td>\n      <td>1970-01-01 15:00:00</td>\n      <td>1970-01-01 16:00:00</td>\n      <td>normal</td>\n    </tr>\n    <tr>\n      <th>443</th>\n      <td>case_968</td>\n      <td>1</td>\n      <td>0</td>\n      <td>0</td>\n      <td>0</td>\n      <td>0</td>\n      <td>0</td>\n      <td>0</td>\n      <td>0</td>\n      <td>0</td>\n      <td>...</td>\n      <td>1970-01-01 11:00:00</td>\n      <td>1970-01-01 12:00:00</td>\n      <td>1970-01-01 13:00:00</td>\n      <td>1970-01-01 14:00:00</td>\n      <td>1970-01-01 15:00:00</td>\n      <td>1970-01-01 16:00:00</td>\n      <td>1970-01-01 17:00:00</td>\n      <td>1970-01-01 17:11:20</td>\n      <td>1970-01-01 17:13:07</td>\n      <td>normal</td>\n    </tr>\n    <tr>\n      <th>444</th>\n      <td>case_989</td>\n      <td>1</td>\n      <td>0</td>\n      <td>0</td>\n      <td>0</td>\n      <td>0</td>\n      <td>0</td>\n      <td>0</td>\n      <td>0</td>\n      <td>0</td>\n      <td>...</td>\n      <td>1970-01-01 11:00:00</td>\n      <td>1970-01-01 12:00:00</td>\n      <td>1970-01-01 13:00:00</td>\n      <td>1970-01-01 13:30:55</td>\n      <td>1970-01-01 13:41:00</td>\n      <td>1970-01-01 13:50:43</td>\n      <td>1970-01-01 14:00:00</td>\n      <td>1970-01-01 15:00:00</td>\n      <td>1970-01-01 16:00:00</td>\n      <td>normal</td>\n    </tr>\n  </tbody>\n</table>\n<p>445 rows × 299 columns</p>\n</div>"
     },
     "execution_count": 103,
     "metadata": {},
     "output_type": "execute_result"
    }
   ],
   "source": [
    "index_enc(x)"
   ],
   "metadata": {
    "collapsed": false,
    "ExecuteTime": {
     "end_time": "2024-01-11T15:59:50.559851Z",
     "start_time": "2024-01-11T15:59:50.367211Z"
    }
   },
   "id": "b4c920e11fbb5110"
  },
  {
   "cell_type": "markdown",
   "source": [
    "Train a decision tree (DT) and a randomforest (RF) from the scikit-learn package for outcome label prediction for the event log for prefix lengths L=2 and L=5.  Split 70-30 for training-testing (no temporal splitting or cross-validation needed!)."
   ],
   "metadata": {
    "collapsed": false
   },
   "id": "694bf8f9bf73ff68"
  },
  {
   "cell_type": "code",
   "execution_count": 104,
   "outputs": [],
   "source": [
    "def classification(X, y, classifier, seed):\n",
    "    X.astype(int)\n",
    "\n",
    "    X = np.nan_to_num(X)\n",
    "    clf = RandomForestClassifier()\n",
    "\n",
    "    if classifier == \"RF\":\n",
    "        clf = RandomForestClassifier(n_estimators=100, oob_score=True)\n",
    "    elif classifier == \"DT\":\n",
    "        clf = DecisionTreeClassifier(max_depth=5)\n",
    "\n",
    "    print(\"Training for \"+classifier+\"...\")\n",
    "\n",
    "    X_train, X_test, y_train, y_test = train_test_split(X, y, test_size=0.3, random_state=seed)\n",
    "\n",
    "    clf.fit(X_train, y_train)\n",
    "    y_pred = clf.predict(X_test)\n",
    "\n",
    "    precision = precision_score(y_test, y_pred, average='weighted')\n",
    "    recall = recall_score(y_test, y_pred, average='weighted')\n",
    "    f1 = f1_score(y_test, y_pred, average='weighted')\n",
    "\n",
    "    print(\"Precision: \"+str(precision))\n",
    "    print(\"Recall: \"+str(recall))\n",
    "    print(\"F1: \"+str(f1))\n",
    "\n",
    "    return {\"precision\": precision,\n",
    "            \"recall\": recall,\n",
    "            \"f1\": f1}"
   ],
   "metadata": {
    "collapsed": false,
    "ExecuteTime": {
     "end_time": "2024-01-11T16:00:14.400008Z",
     "start_time": "2024-01-11T16:00:14.393045Z"
    }
   },
   "id": "5b03f98afd156074"
  },
  {
   "cell_type": "code",
   "execution_count": 105,
   "outputs": [
    {
     "name": "stdout",
     "output_type": "stream",
     "text": [
      "Training for RF...\n",
      "Precision: 0.7592217777777778\n",
      "Recall: 0.8713333333333333\n",
      "F1: 0.8114233463959151\n"
     ]
    },
    {
     "data": {
      "text/plain": "{'precision': 0.7592217777777778,\n 'recall': 0.8713333333333333,\n 'f1': 0.8114233463959151}"
     },
     "execution_count": 105,
     "metadata": {},
     "output_type": "execute_result"
    }
   ],
   "source": [
    "x = create_prefix(df, 2)\n",
    "x_encoded = one_hot(x, \"activity\", \"aggr\")\n",
    "y = x[\"outcome\"]\n",
    "columns = x_encoded.columns\n",
    "columns = x_encoded.columns[1:len(columns)]\n",
    "classification(x_encoded[columns], y, \"RF\", 1)"
   ],
   "metadata": {
    "collapsed": false,
    "ExecuteTime": {
     "end_time": "2024-01-11T16:00:16.225555Z",
     "start_time": "2024-01-11T16:00:15.595532Z"
    }
   },
   "id": "77e899e78765a232"
  },
  {
   "cell_type": "code",
   "execution_count": 106,
   "outputs": [
    {
     "name": "stdout",
     "output_type": "stream",
     "text": [
      "Training for RF...\n",
      "Precision: 0.7966252671195739\n",
      "Recall: 0.8693333333333333\n",
      "F1: 0.8129133333333333\n"
     ]
    },
    {
     "data": {
      "text/plain": "{'precision': 0.7966252671195739,\n 'recall': 0.8693333333333333,\n 'f1': 0.8129133333333333}"
     },
     "execution_count": 106,
     "metadata": {},
     "output_type": "execute_result"
    }
   ],
   "source": [
    "x = create_prefix(df, 5)\n",
    "x_encoded = one_hot(x, \"activity\", \"aggr\")\n",
    "y = x[\"outcome\"]\n",
    "columns = x_encoded.columns\n",
    "columns = x_encoded.columns[1:len(columns)]\n",
    "classification(x_encoded[columns], y, \"RF\", 1)"
   ],
   "metadata": {
    "collapsed": false,
    "ExecuteTime": {
     "end_time": "2024-01-11T16:00:19.845590Z",
     "start_time": "2024-01-11T16:00:19.075012Z"
    }
   },
   "id": "f6b1d4cd3b40270f"
  },
  {
   "cell_type": "code",
   "execution_count": 107,
   "outputs": [
    {
     "name": "stdout",
     "output_type": "stream",
     "text": [
      "Training for DT...\n",
      "Precision: 0.8024680472055221\n",
      "Recall: 0.8706666666666667\n",
      "F1: 0.8123614273098683\n"
     ]
    },
    {
     "data": {
      "text/plain": "{'precision': 0.8024680472055221,\n 'recall': 0.8706666666666667,\n 'f1': 0.8123614273098683}"
     },
     "execution_count": 107,
     "metadata": {},
     "output_type": "execute_result"
    }
   ],
   "source": [
    "x = create_prefix(df, 2)\n",
    "x_encoded = one_hot(x, \"activity\", \"aggr\")\n",
    "y = x[\"outcome\"]\n",
    "columns = x_encoded.columns\n",
    "columns = x_encoded.columns[1:len(columns)]\n",
    "classification(x_encoded[columns], y, \"DT\", 1)"
   ],
   "metadata": {
    "collapsed": false,
    "ExecuteTime": {
     "end_time": "2024-01-11T16:00:21.082518Z",
     "start_time": "2024-01-11T16:00:20.633088Z"
    }
   },
   "id": "fa29f7f30371f44f"
  },
  {
   "cell_type": "code",
   "execution_count": 108,
   "outputs": [
    {
     "name": "stdout",
     "output_type": "stream",
     "text": [
      "Training for DT...\n",
      "Precision: 0.7966252671195739\n",
      "Recall: 0.8693333333333333\n",
      "F1: 0.8129133333333333\n"
     ]
    },
    {
     "data": {
      "text/plain": "{'precision': 0.7966252671195739,\n 'recall': 0.8693333333333333,\n 'f1': 0.8129133333333333}"
     },
     "execution_count": 108,
     "metadata": {},
     "output_type": "execute_result"
    }
   ],
   "source": [
    "x = create_prefix(df, 5)\n",
    "x_encoded = one_hot(x, \"activity\", \"aggr\")\n",
    "y = x[\"outcome\"]\n",
    "columns = x_encoded.columns\n",
    "columns = x_encoded.columns[1:len(columns)]\n",
    "classification(x_encoded[columns], y, \"DT\", 1)\n"
   ],
   "metadata": {
    "collapsed": false,
    "ExecuteTime": {
     "end_time": "2024-01-11T16:00:23.494617Z",
     "start_time": "2024-01-11T16:00:22.816950Z"
    }
   },
   "id": "3b8e550ebb7023e9"
  },
  {
   "cell_type": "code",
   "execution_count": null,
   "outputs": [],
   "source": [],
   "metadata": {
    "collapsed": false
   },
   "id": "e8ba97dfd2196ce0"
  }
 ],
 "metadata": {
  "kernelspec": {
   "display_name": "Python 3",
   "language": "python",
   "name": "python3"
  },
  "language_info": {
   "codemirror_mode": {
    "name": "ipython",
    "version": 2
   },
   "file_extension": ".py",
   "mimetype": "text/x-python",
   "name": "python",
   "nbconvert_exporter": "python",
   "pygments_lexer": "ipython2",
   "version": "2.7.6"
  }
 },
 "nbformat": 4,
 "nbformat_minor": 5
}
