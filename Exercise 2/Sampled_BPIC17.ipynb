{
 "cells": [
  {
   "cell_type": "markdown",
   "source": [
    "# Exercise PPM Part 2 - Small dataset\n",
    "\n",
    "Imports"
   ],
   "metadata": {
    "collapsed": false
   },
   "id": "500d825bcbfeff98"
  },
  {
   "cell_type": "code",
   "execution_count": 1,
   "outputs": [],
   "source": [
    "import pandas as pd\n",
    "import warnings\n",
    "import numpy as np\n",
    "from datetime import datetime\n",
    "import calendar\n",
    "import time\n",
    "from sklearn.ensemble import RandomForestClassifier\n",
    "from sklearn.tree import DecisionTreeClassifier\n",
    "from sklearn.metrics import precision_score, recall_score, f1_score\n",
    "from sklearn.model_selection import train_test_split\n",
    "warnings.simplefilter(\"ignore\")"
   ],
   "metadata": {
    "collapsed": false,
    "ExecuteTime": {
     "end_time": "2024-01-11T16:03:57.426095Z",
     "start_time": "2024-01-11T16:03:56.706034Z"
    }
   },
   "id": "20987f95a08935b1"
  },
  {
   "cell_type": "markdown",
   "source": [
    "Import an event log as a pandas dataframe"
   ],
   "metadata": {
    "collapsed": false
   },
   "id": "9380261200e4714c"
  },
  {
   "cell_type": "code",
   "execution_count": 2,
   "outputs": [
    {
     "data": {
      "text/plain": "       index           Case ID                  Activity  Resource  \\\n0          0   Offer_247135719            O_Create Offer   User_17   \n1          1   Offer_247135719                 O_Created   User_17   \n2          2   Offer_247135719      O_Sent (online only)   User_17   \n3          3   Offer_247135719               O_Cancelled   User_17   \n4          4   Offer_941964966            O_Create Offer   User_17   \n...      ...               ...                       ...       ...   \n22404  22404  Offer_1064426652            O_Create Offer   User_23   \n22405  22405  Offer_1064426652                 O_Created   User_23   \n22406  22406  Offer_1064426652  O_Sent (mail and online)   User_23   \n22407  22407  Offer_1064426652                O_Returned  User_117   \n22408  22408  Offer_1064426652                O_Accepted  User_102   \n\n            Complete Timestamp    Variant  Variant index  (case) Accepted  \\\n0      2016/01/02 18:17:05.720  Variant 8              8             True   \n1      2016/01/02 18:17:08.762  Variant 8              8             True   \n2      2016/01/02 18:19:21.330  Variant 8              8             True   \n3      2016/01/02 18:21:26.034  Variant 8              8             True   \n4      2016/01/02 18:21:42.022  Variant 1              1             True   \n...                        ...        ...            ...              ...   \n22404  2016/02/18 22:50:01.446  Variant 2              2             True   \n22405  2016/02/18 22:50:02.655  Variant 2              2             True   \n22406  2016/02/18 22:50:22.174  Variant 2              2             True   \n22407  2016/02/29 19:08:56.200  Variant 2              2             True   \n22408  2016/02/29 23:43:45.831  Variant 2              2             True   \n\n         (case) ApplicationID  (case) CreditScore  \\\n0       Application_196483749                   0   \n1       Application_196483749                   0   \n2       Application_196483749                   0   \n3       Application_196483749                   0   \n4       Application_196483749                   0   \n...                       ...                 ...   \n22404  Application_1574359134                 767   \n22405  Application_1574359134                 767   \n22406  Application_1574359134                 767   \n22407  Application_1574359134                 767   \n22408  Application_1574359134                 767   \n\n       (case) FirstWithdrawalAmount  (case) MonthlyCost  (case) NumberOfTerms  \\\n0                           10000.0              201.76                    57   \n1                           10000.0              201.76                    57   \n2                           10000.0              201.76                    57   \n3                           10000.0              201.76                    57   \n4                            4100.0              201.76                    57   \n...                             ...                 ...                   ...   \n22404                        6000.0              118.56                    59   \n22405                        6000.0              118.56                    59   \n22406                        6000.0              118.56                    59   \n22407                        6000.0              118.56                    59   \n22408                        6000.0              118.56                    59   \n\n       (case) OfferedAmount  (case) Selected       Action  \\\n0                   10000.0            False      Created   \n1                   10000.0            False  statechange   \n2                   10000.0            False  statechange   \n3                   10000.0            False  statechange   \n4                   10000.0            False      Created   \n...                     ...              ...          ...   \n22404                6000.0             True      Created   \n22405                6000.0             True  statechange   \n22406                6000.0             True  statechange   \n22407                6000.0             True  statechange   \n22408                6000.0             True  statechange   \n\n                     EventID EventOrigin           OfferID  \\\n0            Offer_247135719       Offer               NaN   \n1       OfferState_124849367       Offer   Offer_247135719   \n2       OfferState_440662877       Offer   Offer_247135719   \n3       OfferState_591416028       Offer   Offer_247135719   \n4            Offer_941964966       Offer               NaN   \n...                      ...         ...               ...   \n22404       Offer_1064426652       Offer               NaN   \n22405   OfferState_189916093       Offer  Offer_1064426652   \n22406    OfferState_24747308       Offer  Offer_1064426652   \n22407  OfferState_1809485991       Offer  Offer_1064426652   \n22408   OfferState_880267349       Offer  Offer_1064426652   \n\n      lifecycle:transition  \n0                 complete  \n1                 complete  \n2                 complete  \n3                 complete  \n4                 complete  \n...                    ...  \n22404             complete  \n22405             complete  \n22406             complete  \n22407             complete  \n22408             complete  \n\n[22409 rows x 20 columns]",
      "text/html": "<div>\n<style scoped>\n    .dataframe tbody tr th:only-of-type {\n        vertical-align: middle;\n    }\n\n    .dataframe tbody tr th {\n        vertical-align: top;\n    }\n\n    .dataframe thead th {\n        text-align: right;\n    }\n</style>\n<table border=\"1\" class=\"dataframe\">\n  <thead>\n    <tr style=\"text-align: right;\">\n      <th></th>\n      <th>index</th>\n      <th>Case ID</th>\n      <th>Activity</th>\n      <th>Resource</th>\n      <th>Complete Timestamp</th>\n      <th>Variant</th>\n      <th>Variant index</th>\n      <th>(case) Accepted</th>\n      <th>(case) ApplicationID</th>\n      <th>(case) CreditScore</th>\n      <th>(case) FirstWithdrawalAmount</th>\n      <th>(case) MonthlyCost</th>\n      <th>(case) NumberOfTerms</th>\n      <th>(case) OfferedAmount</th>\n      <th>(case) Selected</th>\n      <th>Action</th>\n      <th>EventID</th>\n      <th>EventOrigin</th>\n      <th>OfferID</th>\n      <th>lifecycle:transition</th>\n    </tr>\n  </thead>\n  <tbody>\n    <tr>\n      <th>0</th>\n      <td>0</td>\n      <td>Offer_247135719</td>\n      <td>O_Create Offer</td>\n      <td>User_17</td>\n      <td>2016/01/02 18:17:05.720</td>\n      <td>Variant 8</td>\n      <td>8</td>\n      <td>True</td>\n      <td>Application_196483749</td>\n      <td>0</td>\n      <td>10000.0</td>\n      <td>201.76</td>\n      <td>57</td>\n      <td>10000.0</td>\n      <td>False</td>\n      <td>Created</td>\n      <td>Offer_247135719</td>\n      <td>Offer</td>\n      <td>NaN</td>\n      <td>complete</td>\n    </tr>\n    <tr>\n      <th>1</th>\n      <td>1</td>\n      <td>Offer_247135719</td>\n      <td>O_Created</td>\n      <td>User_17</td>\n      <td>2016/01/02 18:17:08.762</td>\n      <td>Variant 8</td>\n      <td>8</td>\n      <td>True</td>\n      <td>Application_196483749</td>\n      <td>0</td>\n      <td>10000.0</td>\n      <td>201.76</td>\n      <td>57</td>\n      <td>10000.0</td>\n      <td>False</td>\n      <td>statechange</td>\n      <td>OfferState_124849367</td>\n      <td>Offer</td>\n      <td>Offer_247135719</td>\n      <td>complete</td>\n    </tr>\n    <tr>\n      <th>2</th>\n      <td>2</td>\n      <td>Offer_247135719</td>\n      <td>O_Sent (online only)</td>\n      <td>User_17</td>\n      <td>2016/01/02 18:19:21.330</td>\n      <td>Variant 8</td>\n      <td>8</td>\n      <td>True</td>\n      <td>Application_196483749</td>\n      <td>0</td>\n      <td>10000.0</td>\n      <td>201.76</td>\n      <td>57</td>\n      <td>10000.0</td>\n      <td>False</td>\n      <td>statechange</td>\n      <td>OfferState_440662877</td>\n      <td>Offer</td>\n      <td>Offer_247135719</td>\n      <td>complete</td>\n    </tr>\n    <tr>\n      <th>3</th>\n      <td>3</td>\n      <td>Offer_247135719</td>\n      <td>O_Cancelled</td>\n      <td>User_17</td>\n      <td>2016/01/02 18:21:26.034</td>\n      <td>Variant 8</td>\n      <td>8</td>\n      <td>True</td>\n      <td>Application_196483749</td>\n      <td>0</td>\n      <td>10000.0</td>\n      <td>201.76</td>\n      <td>57</td>\n      <td>10000.0</td>\n      <td>False</td>\n      <td>statechange</td>\n      <td>OfferState_591416028</td>\n      <td>Offer</td>\n      <td>Offer_247135719</td>\n      <td>complete</td>\n    </tr>\n    <tr>\n      <th>4</th>\n      <td>4</td>\n      <td>Offer_941964966</td>\n      <td>O_Create Offer</td>\n      <td>User_17</td>\n      <td>2016/01/02 18:21:42.022</td>\n      <td>Variant 1</td>\n      <td>1</td>\n      <td>True</td>\n      <td>Application_196483749</td>\n      <td>0</td>\n      <td>4100.0</td>\n      <td>201.76</td>\n      <td>57</td>\n      <td>10000.0</td>\n      <td>False</td>\n      <td>Created</td>\n      <td>Offer_941964966</td>\n      <td>Offer</td>\n      <td>NaN</td>\n      <td>complete</td>\n    </tr>\n    <tr>\n      <th>...</th>\n      <td>...</td>\n      <td>...</td>\n      <td>...</td>\n      <td>...</td>\n      <td>...</td>\n      <td>...</td>\n      <td>...</td>\n      <td>...</td>\n      <td>...</td>\n      <td>...</td>\n      <td>...</td>\n      <td>...</td>\n      <td>...</td>\n      <td>...</td>\n      <td>...</td>\n      <td>...</td>\n      <td>...</td>\n      <td>...</td>\n      <td>...</td>\n      <td>...</td>\n    </tr>\n    <tr>\n      <th>22404</th>\n      <td>22404</td>\n      <td>Offer_1064426652</td>\n      <td>O_Create Offer</td>\n      <td>User_23</td>\n      <td>2016/02/18 22:50:01.446</td>\n      <td>Variant 2</td>\n      <td>2</td>\n      <td>True</td>\n      <td>Application_1574359134</td>\n      <td>767</td>\n      <td>6000.0</td>\n      <td>118.56</td>\n      <td>59</td>\n      <td>6000.0</td>\n      <td>True</td>\n      <td>Created</td>\n      <td>Offer_1064426652</td>\n      <td>Offer</td>\n      <td>NaN</td>\n      <td>complete</td>\n    </tr>\n    <tr>\n      <th>22405</th>\n      <td>22405</td>\n      <td>Offer_1064426652</td>\n      <td>O_Created</td>\n      <td>User_23</td>\n      <td>2016/02/18 22:50:02.655</td>\n      <td>Variant 2</td>\n      <td>2</td>\n      <td>True</td>\n      <td>Application_1574359134</td>\n      <td>767</td>\n      <td>6000.0</td>\n      <td>118.56</td>\n      <td>59</td>\n      <td>6000.0</td>\n      <td>True</td>\n      <td>statechange</td>\n      <td>OfferState_189916093</td>\n      <td>Offer</td>\n      <td>Offer_1064426652</td>\n      <td>complete</td>\n    </tr>\n    <tr>\n      <th>22406</th>\n      <td>22406</td>\n      <td>Offer_1064426652</td>\n      <td>O_Sent (mail and online)</td>\n      <td>User_23</td>\n      <td>2016/02/18 22:50:22.174</td>\n      <td>Variant 2</td>\n      <td>2</td>\n      <td>True</td>\n      <td>Application_1574359134</td>\n      <td>767</td>\n      <td>6000.0</td>\n      <td>118.56</td>\n      <td>59</td>\n      <td>6000.0</td>\n      <td>True</td>\n      <td>statechange</td>\n      <td>OfferState_24747308</td>\n      <td>Offer</td>\n      <td>Offer_1064426652</td>\n      <td>complete</td>\n    </tr>\n    <tr>\n      <th>22407</th>\n      <td>22407</td>\n      <td>Offer_1064426652</td>\n      <td>O_Returned</td>\n      <td>User_117</td>\n      <td>2016/02/29 19:08:56.200</td>\n      <td>Variant 2</td>\n      <td>2</td>\n      <td>True</td>\n      <td>Application_1574359134</td>\n      <td>767</td>\n      <td>6000.0</td>\n      <td>118.56</td>\n      <td>59</td>\n      <td>6000.0</td>\n      <td>True</td>\n      <td>statechange</td>\n      <td>OfferState_1809485991</td>\n      <td>Offer</td>\n      <td>Offer_1064426652</td>\n      <td>complete</td>\n    </tr>\n    <tr>\n      <th>22408</th>\n      <td>22408</td>\n      <td>Offer_1064426652</td>\n      <td>O_Accepted</td>\n      <td>User_102</td>\n      <td>2016/02/29 23:43:45.831</td>\n      <td>Variant 2</td>\n      <td>2</td>\n      <td>True</td>\n      <td>Application_1574359134</td>\n      <td>767</td>\n      <td>6000.0</td>\n      <td>118.56</td>\n      <td>59</td>\n      <td>6000.0</td>\n      <td>True</td>\n      <td>statechange</td>\n      <td>OfferState_880267349</td>\n      <td>Offer</td>\n      <td>Offer_1064426652</td>\n      <td>complete</td>\n    </tr>\n  </tbody>\n</table>\n<p>22409 rows × 20 columns</p>\n</div>"
     },
     "execution_count": 2,
     "metadata": {},
     "output_type": "execute_result"
    }
   ],
   "source": [
    "df = pd.read_csv(\"Event_Logs/Sampled_BPIC17_offer_log.csv\")\n",
    "df"
   ],
   "metadata": {
    "collapsed": false,
    "ExecuteTime": {
     "end_time": "2024-01-11T16:03:59.417288Z",
     "start_time": "2024-01-11T16:03:59.362249Z"
    }
   },
   "id": "bb3713fda1840703"
  },
  {
   "cell_type": "markdown",
   "source": [
    "Create an event log that retains only the attributes caseid, activity, timestamp, resource and outcome."
   ],
   "metadata": {
    "collapsed": false
   },
   "id": "6326c9942ea8c45f"
  },
  {
   "cell_type": "code",
   "execution_count": 3,
   "outputs": [
    {
     "data": {
      "text/plain": "                 caseid                  activity                       ts  \\\n0       Offer_247135719            O_Create Offer  2016/01/02 18:17:05.720   \n1       Offer_247135719                 O_Created  2016/01/02 18:17:08.762   \n2       Offer_247135719      O_Sent (online only)  2016/01/02 18:19:21.330   \n3       Offer_247135719               O_Cancelled  2016/01/02 18:21:26.034   \n4       Offer_941964966            O_Create Offer  2016/01/02 18:21:42.022   \n...                 ...                       ...                      ...   \n22404  Offer_1064426652            O_Create Offer  2016/02/18 22:50:01.446   \n22405  Offer_1064426652                 O_Created  2016/02/18 22:50:02.655   \n22406  Offer_1064426652  O_Sent (mail and online)  2016/02/18 22:50:22.174   \n22407  Offer_1064426652                O_Returned  2016/02/29 19:08:56.200   \n22408  Offer_1064426652                O_Accepted  2016/02/29 23:43:45.831   \n\n       resource  outcome  \n0       User_17     True  \n1       User_17     True  \n2       User_17     True  \n3       User_17     True  \n4       User_17     True  \n...         ...      ...  \n22404   User_23     True  \n22405   User_23     True  \n22406   User_23     True  \n22407  User_117     True  \n22408  User_102     True  \n\n[22409 rows x 5 columns]",
      "text/html": "<div>\n<style scoped>\n    .dataframe tbody tr th:only-of-type {\n        vertical-align: middle;\n    }\n\n    .dataframe tbody tr th {\n        vertical-align: top;\n    }\n\n    .dataframe thead th {\n        text-align: right;\n    }\n</style>\n<table border=\"1\" class=\"dataframe\">\n  <thead>\n    <tr style=\"text-align: right;\">\n      <th></th>\n      <th>caseid</th>\n      <th>activity</th>\n      <th>ts</th>\n      <th>resource</th>\n      <th>outcome</th>\n    </tr>\n  </thead>\n  <tbody>\n    <tr>\n      <th>0</th>\n      <td>Offer_247135719</td>\n      <td>O_Create Offer</td>\n      <td>2016/01/02 18:17:05.720</td>\n      <td>User_17</td>\n      <td>True</td>\n    </tr>\n    <tr>\n      <th>1</th>\n      <td>Offer_247135719</td>\n      <td>O_Created</td>\n      <td>2016/01/02 18:17:08.762</td>\n      <td>User_17</td>\n      <td>True</td>\n    </tr>\n    <tr>\n      <th>2</th>\n      <td>Offer_247135719</td>\n      <td>O_Sent (online only)</td>\n      <td>2016/01/02 18:19:21.330</td>\n      <td>User_17</td>\n      <td>True</td>\n    </tr>\n    <tr>\n      <th>3</th>\n      <td>Offer_247135719</td>\n      <td>O_Cancelled</td>\n      <td>2016/01/02 18:21:26.034</td>\n      <td>User_17</td>\n      <td>True</td>\n    </tr>\n    <tr>\n      <th>4</th>\n      <td>Offer_941964966</td>\n      <td>O_Create Offer</td>\n      <td>2016/01/02 18:21:42.022</td>\n      <td>User_17</td>\n      <td>True</td>\n    </tr>\n    <tr>\n      <th>...</th>\n      <td>...</td>\n      <td>...</td>\n      <td>...</td>\n      <td>...</td>\n      <td>...</td>\n    </tr>\n    <tr>\n      <th>22404</th>\n      <td>Offer_1064426652</td>\n      <td>O_Create Offer</td>\n      <td>2016/02/18 22:50:01.446</td>\n      <td>User_23</td>\n      <td>True</td>\n    </tr>\n    <tr>\n      <th>22405</th>\n      <td>Offer_1064426652</td>\n      <td>O_Created</td>\n      <td>2016/02/18 22:50:02.655</td>\n      <td>User_23</td>\n      <td>True</td>\n    </tr>\n    <tr>\n      <th>22406</th>\n      <td>Offer_1064426652</td>\n      <td>O_Sent (mail and online)</td>\n      <td>2016/02/18 22:50:22.174</td>\n      <td>User_23</td>\n      <td>True</td>\n    </tr>\n    <tr>\n      <th>22407</th>\n      <td>Offer_1064426652</td>\n      <td>O_Returned</td>\n      <td>2016/02/29 19:08:56.200</td>\n      <td>User_117</td>\n      <td>True</td>\n    </tr>\n    <tr>\n      <th>22408</th>\n      <td>Offer_1064426652</td>\n      <td>O_Accepted</td>\n      <td>2016/02/29 23:43:45.831</td>\n      <td>User_102</td>\n      <td>True</td>\n    </tr>\n  </tbody>\n</table>\n<p>22409 rows × 5 columns</p>\n</div>"
     },
     "execution_count": 3,
     "metadata": {},
     "output_type": "execute_result"
    }
   ],
   "source": [
    "df = df.rename(columns={\"Case ID\":\"caseid\", \"Activity\":\"activity\", \"Complete Timestamp\":\"ts\", \"Resource\":\"resource\", \"(case) Accepted\":\"outcome\"})\n",
    "df_2 = df[[\"caseid\", \"activity\", \"ts\", \"resource\", \"outcome\"]].copy()\n",
    "df_2"
   ],
   "metadata": {
    "collapsed": false,
    "ExecuteTime": {
     "end_time": "2024-01-11T16:04:01.521397Z",
     "start_time": "2024-01-11T16:04:01.499043Z"
    }
   },
   "id": "2d1c1d2dbfed8cdb"
  },
  {
   "cell_type": "markdown",
   "source": [
    " Create a function to extract the prefixes of length L from the event log."
   ],
   "metadata": {
    "collapsed": false
   },
   "id": "917568008ce18c1c"
  },
  {
   "cell_type": "code",
   "execution_count": 4,
   "outputs": [],
   "source": [
    "def create_prefix(df, L):\n",
    "    res0 = df.sort_values(by=['caseid','ts']).groupby('caseid', as_index=False)['activity'].apply(list)    \n",
    "    res1 = df.sort_values(by=['caseid','ts']).groupby('caseid', as_index=False)['ts'].apply(list)\n",
    "    res2 = df.sort_values(by=['caseid','ts']).groupby('caseid', as_index=False)['resource'].apply(list)\n",
    "    \n",
    "    res = pd.merge(res0, pd.merge(res1, res2, on=\"caseid\") , on=\"caseid\")\n",
    "    res[\"outcome\"] = df[\"outcome\"]\n",
    "\n",
    "    \n",
    "    event_num = df.groupby('caseid')['activity'].count().to_frame('event_number')\n",
    "    res = pd.merge(res, event_num, on=\"caseid\")\n",
    "    \n",
    "    res[res[\"event_number\"] < L] = np.nan\n",
    "    res = res.dropna()\n",
    "    \n",
    "    def function(row, label):\n",
    "        activity_array = row[label][0:L]\n",
    "        return activity_array\n",
    "    \n",
    "    for c in [\"activity\", \"ts\", \"resource\"]:\n",
    "        res[c] = res.apply(lambda row: function(row, c), axis=1)\n",
    "    \n",
    "    res = res.drop(columns=[\"event_number\"])\n",
    "    return res\n",
    "    "
   ],
   "metadata": {
    "collapsed": false,
    "ExecuteTime": {
     "end_time": "2024-01-11T16:04:04.285976Z",
     "start_time": "2024-01-11T16:04:04.273631Z"
    }
   },
   "id": "1c7f256149399de5"
  },
  {
   "cell_type": "code",
   "execution_count": 5,
   "outputs": [
    {
     "data": {
      "text/plain": "                caseid                                           activity  \\\n0     Offer_1000681710  [O_Create Offer, O_Created, O_Sent (mail and o...   \n1     Offer_1001553250  [O_Create Offer, O_Created, O_Sent (mail and o...   \n2     Offer_1002136393  [O_Create Offer, O_Created, O_Sent (mail and o...   \n3     Offer_1002236598  [O_Create Offer, O_Created, O_Sent (mail and o...   \n9     Offer_1005366187  [O_Create Offer, O_Created, O_Sent (mail and o...   \n...                ...                                                ...   \n4991    Offer_99101290  [O_Create Offer, O_Created, O_Sent (online onl...   \n4992   Offer_992471522  [O_Create Offer, O_Created, O_Sent (mail and o...   \n4997    Offer_99473283  [O_Create Offer, O_Created, O_Sent (mail and o...   \n4998   Offer_995784215  [O_Create Offer, O_Created, O_Sent (mail and o...   \n4999   Offer_997411923  [O_Create Offer, O_Created, O_Sent (mail and o...   \n\n                                                     ts  \\\n0     [2016/02/02 18:24:54.170, 2016/02/02 18:24:55....   \n1     [2016/01/16 03:16:41.868, 2016/01/16 03:16:43....   \n2     [2016/01/29 17:46:49.529, 2016/01/29 17:46:50....   \n3     [2016/01/12 18:24:55.557, 2016/01/12 18:24:56....   \n9     [2016/02/01 21:21:51.853, 2016/02/01 21:21:53....   \n...                                                 ...   \n4991  [2016/02/12 23:56:11.915, 2016/02/12 23:56:13....   \n4992  [2016/02/18 00:12:18.561, 2016/02/18 00:12:19....   \n4997  [2016/02/03 20:59:31.775, 2016/02/03 20:59:33....   \n4998  [2016/02/15 17:06:12.610, 2016/02/15 17:06:15....   \n4999  [2016/01/02 20:25:44.202, 2016/01/02 20:25:45....   \n\n                                             resource outcome  \n0     [User_20, User_20, User_20, User_117, User_115]    True  \n1         [User_2, User_2, User_2, User_113, User_30]    True  \n2     [User_85, User_85, User_85, User_117, User_118]    True  \n3     [User_49, User_49, User_49, User_113, User_102]    True  \n9       [User_16, User_16, User_16, User_87, User_87]    True  \n...                                               ...     ...  \n4991  [User_41, User_41, User_41, User_115, User_115]    True  \n4992     [User_5, User_5, User_5, User_116, User_118]    True  \n4997  [User_19, User_19, User_19, User_116, User_113]    True  \n4998  [User_25, User_25, User_25, User_119, User_102]    True  \n4999   [User_19, User_19, User_19, User_116, User_90]    True  \n\n[2547 rows x 5 columns]",
      "text/html": "<div>\n<style scoped>\n    .dataframe tbody tr th:only-of-type {\n        vertical-align: middle;\n    }\n\n    .dataframe tbody tr th {\n        vertical-align: top;\n    }\n\n    .dataframe thead th {\n        text-align: right;\n    }\n</style>\n<table border=\"1\" class=\"dataframe\">\n  <thead>\n    <tr style=\"text-align: right;\">\n      <th></th>\n      <th>caseid</th>\n      <th>activity</th>\n      <th>ts</th>\n      <th>resource</th>\n      <th>outcome</th>\n    </tr>\n  </thead>\n  <tbody>\n    <tr>\n      <th>0</th>\n      <td>Offer_1000681710</td>\n      <td>[O_Create Offer, O_Created, O_Sent (mail and o...</td>\n      <td>[2016/02/02 18:24:54.170, 2016/02/02 18:24:55....</td>\n      <td>[User_20, User_20, User_20, User_117, User_115]</td>\n      <td>True</td>\n    </tr>\n    <tr>\n      <th>1</th>\n      <td>Offer_1001553250</td>\n      <td>[O_Create Offer, O_Created, O_Sent (mail and o...</td>\n      <td>[2016/01/16 03:16:41.868, 2016/01/16 03:16:43....</td>\n      <td>[User_2, User_2, User_2, User_113, User_30]</td>\n      <td>True</td>\n    </tr>\n    <tr>\n      <th>2</th>\n      <td>Offer_1002136393</td>\n      <td>[O_Create Offer, O_Created, O_Sent (mail and o...</td>\n      <td>[2016/01/29 17:46:49.529, 2016/01/29 17:46:50....</td>\n      <td>[User_85, User_85, User_85, User_117, User_118]</td>\n      <td>True</td>\n    </tr>\n    <tr>\n      <th>3</th>\n      <td>Offer_1002236598</td>\n      <td>[O_Create Offer, O_Created, O_Sent (mail and o...</td>\n      <td>[2016/01/12 18:24:55.557, 2016/01/12 18:24:56....</td>\n      <td>[User_49, User_49, User_49, User_113, User_102]</td>\n      <td>True</td>\n    </tr>\n    <tr>\n      <th>9</th>\n      <td>Offer_1005366187</td>\n      <td>[O_Create Offer, O_Created, O_Sent (mail and o...</td>\n      <td>[2016/02/01 21:21:51.853, 2016/02/01 21:21:53....</td>\n      <td>[User_16, User_16, User_16, User_87, User_87]</td>\n      <td>True</td>\n    </tr>\n    <tr>\n      <th>...</th>\n      <td>...</td>\n      <td>...</td>\n      <td>...</td>\n      <td>...</td>\n      <td>...</td>\n    </tr>\n    <tr>\n      <th>4991</th>\n      <td>Offer_99101290</td>\n      <td>[O_Create Offer, O_Created, O_Sent (online onl...</td>\n      <td>[2016/02/12 23:56:11.915, 2016/02/12 23:56:13....</td>\n      <td>[User_41, User_41, User_41, User_115, User_115]</td>\n      <td>True</td>\n    </tr>\n    <tr>\n      <th>4992</th>\n      <td>Offer_992471522</td>\n      <td>[O_Create Offer, O_Created, O_Sent (mail and o...</td>\n      <td>[2016/02/18 00:12:18.561, 2016/02/18 00:12:19....</td>\n      <td>[User_5, User_5, User_5, User_116, User_118]</td>\n      <td>True</td>\n    </tr>\n    <tr>\n      <th>4997</th>\n      <td>Offer_99473283</td>\n      <td>[O_Create Offer, O_Created, O_Sent (mail and o...</td>\n      <td>[2016/02/03 20:59:31.775, 2016/02/03 20:59:33....</td>\n      <td>[User_19, User_19, User_19, User_116, User_113]</td>\n      <td>True</td>\n    </tr>\n    <tr>\n      <th>4998</th>\n      <td>Offer_995784215</td>\n      <td>[O_Create Offer, O_Created, O_Sent (mail and o...</td>\n      <td>[2016/02/15 17:06:12.610, 2016/02/15 17:06:15....</td>\n      <td>[User_25, User_25, User_25, User_119, User_102]</td>\n      <td>True</td>\n    </tr>\n    <tr>\n      <th>4999</th>\n      <td>Offer_997411923</td>\n      <td>[O_Create Offer, O_Created, O_Sent (mail and o...</td>\n      <td>[2016/01/02 20:25:44.202, 2016/01/02 20:25:45....</td>\n      <td>[User_19, User_19, User_19, User_116, User_90]</td>\n      <td>True</td>\n    </tr>\n  </tbody>\n</table>\n<p>2547 rows × 5 columns</p>\n</div>"
     },
     "execution_count": 5,
     "metadata": {},
     "output_type": "execute_result"
    }
   ],
   "source": [
    "x = create_prefix(df, 5)\n",
    "x"
   ],
   "metadata": {
    "collapsed": false,
    "ExecuteTime": {
     "end_time": "2024-01-11T16:04:05.840845Z",
     "start_time": "2024-01-11T16:04:05.646136Z"
    }
   },
   "id": "fcb5af55afdfd62d"
  },
  {
   "cell_type": "markdown",
   "source": [
    "Create a function that does aggregation encoding of a prefix extracted from the event log"
   ],
   "metadata": {
    "collapsed": false
   },
   "id": "57b7480f92642f21"
  },
  {
   "cell_type": "code",
   "execution_count": 8,
   "outputs": [],
   "source": [
    "def one_hot(x, label, fun):\n",
    "    unique_val = []\n",
    "    #Extract unique values of label\n",
    "    for element in x[label]:\n",
    "        for e in element:\n",
    "            if e not in unique_val:\n",
    "                unique_val.append(e)\n",
    "    \n",
    "    result = x[[\"caseid\"]].copy()\n",
    "    \n",
    "    if fun == \"index\":\n",
    "        #Create columns\n",
    "        L = len(x[label][1]) # Length of the prefix\n",
    "        for e in unique_val:\n",
    "            for i in range(1, L+1): \n",
    "                result[label + \"_\" + str(i)+ \"_\" + e] = 0\n",
    "        \n",
    "        for index, row in x.iterrows():\n",
    "            k = 1\n",
    "            for e in row[label]:\n",
    "                result.at[index, label + \"_\" + str(k) + \"_\" + e] += 1\n",
    "                k +=1\n",
    "    \n",
    "    else:\n",
    "        #Create columns\n",
    "        for t in unique_val:\n",
    "            result[t] = 0\n",
    "        \n",
    "        #Add one to the right column if value is in row\n",
    "        for index, row in x.iterrows():\n",
    "            for element in row[label]:\n",
    "                result.at[index, element] += 1\n",
    "\n",
    "    return result\n",
    "\n",
    "def average_timestamp(df, label):\n",
    "\n",
    "    result = df[[\"caseid\"]].copy()\n",
    "    result[\"avg_\"+label] = 0\n",
    "\n",
    "    L = len(df[label][1])\n",
    "    \n",
    "    for index, row in df.iterrows():\n",
    "        temp = 0\n",
    "        for element in row[label]:\n",
    "            temp += calendar.timegm(datetime.strptime(element, '%Y/%m/%d %H:%M:%S.%f').timetuple())\n",
    "        result.at[index, \"avg_\" + label]= time.strftime('%Y/%m/%d %H:%M:%S', time.gmtime(temp/L))\n",
    "    \n",
    "    return result\n"
   ],
   "metadata": {
    "collapsed": false,
    "ExecuteTime": {
     "end_time": "2024-01-11T16:04:33.864048Z",
     "start_time": "2024-01-11T16:04:33.849218Z"
    }
   },
   "id": "af2ecbf8d20f7398"
  },
  {
   "cell_type": "code",
   "execution_count": 9,
   "outputs": [
    {
     "data": {
      "text/plain": "                caseid               avg_ts\n0     Offer_1000681710  2016/02/05 15:45:27\n1     Offer_1001553250  2016/01/19 14:03:45\n2     Offer_1002136393  2016/02/07 03:09:55\n3     Offer_1002236598  2016/01/14 14:34:58\n9     Offer_1005366187  2016/02/06 17:00:58\n...                ...                  ...\n4991    Offer_99101290  2016/02/14 12:03:01\n4992   Offer_992471522  2016/02/27 07:35:00\n4997    Offer_99473283  2016/02/09 00:34:14\n4998   Offer_995784215  2016/02/17 23:22:35\n4999   Offer_997411923  2016/01/07 09:29:15\n\n[2547 rows x 2 columns]",
      "text/html": "<div>\n<style scoped>\n    .dataframe tbody tr th:only-of-type {\n        vertical-align: middle;\n    }\n\n    .dataframe tbody tr th {\n        vertical-align: top;\n    }\n\n    .dataframe thead th {\n        text-align: right;\n    }\n</style>\n<table border=\"1\" class=\"dataframe\">\n  <thead>\n    <tr style=\"text-align: right;\">\n      <th></th>\n      <th>caseid</th>\n      <th>avg_ts</th>\n    </tr>\n  </thead>\n  <tbody>\n    <tr>\n      <th>0</th>\n      <td>Offer_1000681710</td>\n      <td>2016/02/05 15:45:27</td>\n    </tr>\n    <tr>\n      <th>1</th>\n      <td>Offer_1001553250</td>\n      <td>2016/01/19 14:03:45</td>\n    </tr>\n    <tr>\n      <th>2</th>\n      <td>Offer_1002136393</td>\n      <td>2016/02/07 03:09:55</td>\n    </tr>\n    <tr>\n      <th>3</th>\n      <td>Offer_1002236598</td>\n      <td>2016/01/14 14:34:58</td>\n    </tr>\n    <tr>\n      <th>9</th>\n      <td>Offer_1005366187</td>\n      <td>2016/02/06 17:00:58</td>\n    </tr>\n    <tr>\n      <th>...</th>\n      <td>...</td>\n      <td>...</td>\n    </tr>\n    <tr>\n      <th>4991</th>\n      <td>Offer_99101290</td>\n      <td>2016/02/14 12:03:01</td>\n    </tr>\n    <tr>\n      <th>4992</th>\n      <td>Offer_992471522</td>\n      <td>2016/02/27 07:35:00</td>\n    </tr>\n    <tr>\n      <th>4997</th>\n      <td>Offer_99473283</td>\n      <td>2016/02/09 00:34:14</td>\n    </tr>\n    <tr>\n      <th>4998</th>\n      <td>Offer_995784215</td>\n      <td>2016/02/17 23:22:35</td>\n    </tr>\n    <tr>\n      <th>4999</th>\n      <td>Offer_997411923</td>\n      <td>2016/01/07 09:29:15</td>\n    </tr>\n  </tbody>\n</table>\n<p>2547 rows × 2 columns</p>\n</div>"
     },
     "execution_count": 9,
     "metadata": {},
     "output_type": "execute_result"
    }
   ],
   "source": [
    "average_timestamp(x, \"ts\")"
   ],
   "metadata": {
    "collapsed": false,
    "ExecuteTime": {
     "end_time": "2024-01-11T16:04:34.686271Z",
     "start_time": "2024-01-11T16:04:34.585666Z"
    }
   },
   "id": "116b8d7006a4ad1c"
  },
  {
   "cell_type": "code",
   "execution_count": 10,
   "outputs": [
    {
     "data": {
      "text/plain": "                caseid  O_Create Offer  O_Created  O_Sent (mail and online)  \\\n0     Offer_1000681710               1          1                         1   \n1     Offer_1001553250               1          1                         1   \n2     Offer_1002136393               1          1                         1   \n3     Offer_1002236598               1          1                         1   \n9     Offer_1005366187               1          1                         1   \n...                ...             ...        ...                       ...   \n4991    Offer_99101290               1          1                         0   \n4992   Offer_992471522               1          1                         1   \n4997    Offer_99473283               1          1                         1   \n4998   Offer_995784215               1          1                         1   \n4999   Offer_997411923               1          1                         1   \n\n      O_Returned  O_Accepted  O_Refused  O_Sent (online only)  O_Cancelled  \n0              1           1          0                     0            0  \n1              1           1          0                     0            0  \n2              1           1          0                     0            0  \n3              1           0          1                     0            0  \n9              1           0          1                     0            0  \n...          ...         ...        ...                   ...          ...  \n4991           1           1          0                     1            0  \n4992           1           1          0                     0            0  \n4997           1           1          0                     0            0  \n4998           1           1          0                     0            0  \n4999           1           1          0                     0            0  \n\n[2547 rows x 9 columns]",
      "text/html": "<div>\n<style scoped>\n    .dataframe tbody tr th:only-of-type {\n        vertical-align: middle;\n    }\n\n    .dataframe tbody tr th {\n        vertical-align: top;\n    }\n\n    .dataframe thead th {\n        text-align: right;\n    }\n</style>\n<table border=\"1\" class=\"dataframe\">\n  <thead>\n    <tr style=\"text-align: right;\">\n      <th></th>\n      <th>caseid</th>\n      <th>O_Create Offer</th>\n      <th>O_Created</th>\n      <th>O_Sent (mail and online)</th>\n      <th>O_Returned</th>\n      <th>O_Accepted</th>\n      <th>O_Refused</th>\n      <th>O_Sent (online only)</th>\n      <th>O_Cancelled</th>\n    </tr>\n  </thead>\n  <tbody>\n    <tr>\n      <th>0</th>\n      <td>Offer_1000681710</td>\n      <td>1</td>\n      <td>1</td>\n      <td>1</td>\n      <td>1</td>\n      <td>1</td>\n      <td>0</td>\n      <td>0</td>\n      <td>0</td>\n    </tr>\n    <tr>\n      <th>1</th>\n      <td>Offer_1001553250</td>\n      <td>1</td>\n      <td>1</td>\n      <td>1</td>\n      <td>1</td>\n      <td>1</td>\n      <td>0</td>\n      <td>0</td>\n      <td>0</td>\n    </tr>\n    <tr>\n      <th>2</th>\n      <td>Offer_1002136393</td>\n      <td>1</td>\n      <td>1</td>\n      <td>1</td>\n      <td>1</td>\n      <td>1</td>\n      <td>0</td>\n      <td>0</td>\n      <td>0</td>\n    </tr>\n    <tr>\n      <th>3</th>\n      <td>Offer_1002236598</td>\n      <td>1</td>\n      <td>1</td>\n      <td>1</td>\n      <td>1</td>\n      <td>0</td>\n      <td>1</td>\n      <td>0</td>\n      <td>0</td>\n    </tr>\n    <tr>\n      <th>9</th>\n      <td>Offer_1005366187</td>\n      <td>1</td>\n      <td>1</td>\n      <td>1</td>\n      <td>1</td>\n      <td>0</td>\n      <td>1</td>\n      <td>0</td>\n      <td>0</td>\n    </tr>\n    <tr>\n      <th>...</th>\n      <td>...</td>\n      <td>...</td>\n      <td>...</td>\n      <td>...</td>\n      <td>...</td>\n      <td>...</td>\n      <td>...</td>\n      <td>...</td>\n      <td>...</td>\n    </tr>\n    <tr>\n      <th>4991</th>\n      <td>Offer_99101290</td>\n      <td>1</td>\n      <td>1</td>\n      <td>0</td>\n      <td>1</td>\n      <td>1</td>\n      <td>0</td>\n      <td>1</td>\n      <td>0</td>\n    </tr>\n    <tr>\n      <th>4992</th>\n      <td>Offer_992471522</td>\n      <td>1</td>\n      <td>1</td>\n      <td>1</td>\n      <td>1</td>\n      <td>1</td>\n      <td>0</td>\n      <td>0</td>\n      <td>0</td>\n    </tr>\n    <tr>\n      <th>4997</th>\n      <td>Offer_99473283</td>\n      <td>1</td>\n      <td>1</td>\n      <td>1</td>\n      <td>1</td>\n      <td>1</td>\n      <td>0</td>\n      <td>0</td>\n      <td>0</td>\n    </tr>\n    <tr>\n      <th>4998</th>\n      <td>Offer_995784215</td>\n      <td>1</td>\n      <td>1</td>\n      <td>1</td>\n      <td>1</td>\n      <td>1</td>\n      <td>0</td>\n      <td>0</td>\n      <td>0</td>\n    </tr>\n    <tr>\n      <th>4999</th>\n      <td>Offer_997411923</td>\n      <td>1</td>\n      <td>1</td>\n      <td>1</td>\n      <td>1</td>\n      <td>1</td>\n      <td>0</td>\n      <td>0</td>\n      <td>0</td>\n    </tr>\n  </tbody>\n</table>\n<p>2547 rows × 9 columns</p>\n</div>"
     },
     "execution_count": 10,
     "metadata": {},
     "output_type": "execute_result"
    }
   ],
   "source": [
    "one_hot(x, \"activity\", \"aggr\")"
   ],
   "metadata": {
    "collapsed": false,
    "ExecuteTime": {
     "end_time": "2024-01-11T16:05:02.015978Z",
     "start_time": "2024-01-11T16:05:01.817636Z"
    }
   },
   "id": "25a82834321a951e"
  },
  {
   "cell_type": "code",
   "execution_count": 11,
   "outputs": [
    {
     "data": {
      "text/plain": "                caseid  User_20  User_117  User_115  User_2  User_113  \\\n0     Offer_1000681710        3         1         1       0         0   \n1     Offer_1001553250        0         0         0       3         1   \n2     Offer_1002136393        0         1         0       0         0   \n3     Offer_1002236598        0         0         0       0         1   \n9     Offer_1005366187        0         0         0       0         0   \n...                ...      ...       ...       ...     ...       ...   \n4991    Offer_99101290        0         0         2       0         0   \n4992   Offer_992471522        0         0         0       0         0   \n4997    Offer_99473283        0         0         0       0         1   \n4998   Offer_995784215        0         0         0       0         0   \n4999   Offer_997411923        0         0         0       0         0   \n\n      User_30  User_85  User_118  User_49  ...  User_144  User_12  User_52  \\\n0           0        0         0        0  ...         0        0        0   \n1           1        0         0        0  ...         0        0        0   \n2           0        3         1        0  ...         0        0        0   \n3           0        0         0        3  ...         0        0        0   \n9           0        0         0        0  ...         0        0        0   \n...       ...      ...       ...      ...  ...       ...      ...      ...   \n4991        0        0         0        0  ...         0        0        0   \n4992        0        0         1        0  ...         0        0        0   \n4997        0        0         0        0  ...         0        0        0   \n4998        0        0         0        0  ...         0        0        0   \n4999        0        0         0        0  ...         0        0        0   \n\n      User_89  User_101  User_86  User_50  User_26  User_76  User_32  \n0           0         0        0        0        0        0        0  \n1           0         0        0        0        0        0        0  \n2           0         0        0        0        0        0        0  \n3           0         0        0        0        0        0        0  \n9           0         0        0        0        0        0        0  \n...       ...       ...      ...      ...      ...      ...      ...  \n4991        0         0        0        0        0        0        0  \n4992        0         0        0        0        0        0        0  \n4997        0         0        0        0        0        0        0  \n4998        0         0        0        0        0        0        0  \n4999        0         0        0        0        0        0        0  \n\n[2547 rows x 79 columns]",
      "text/html": "<div>\n<style scoped>\n    .dataframe tbody tr th:only-of-type {\n        vertical-align: middle;\n    }\n\n    .dataframe tbody tr th {\n        vertical-align: top;\n    }\n\n    .dataframe thead th {\n        text-align: right;\n    }\n</style>\n<table border=\"1\" class=\"dataframe\">\n  <thead>\n    <tr style=\"text-align: right;\">\n      <th></th>\n      <th>caseid</th>\n      <th>User_20</th>\n      <th>User_117</th>\n      <th>User_115</th>\n      <th>User_2</th>\n      <th>User_113</th>\n      <th>User_30</th>\n      <th>User_85</th>\n      <th>User_118</th>\n      <th>User_49</th>\n      <th>...</th>\n      <th>User_144</th>\n      <th>User_12</th>\n      <th>User_52</th>\n      <th>User_89</th>\n      <th>User_101</th>\n      <th>User_86</th>\n      <th>User_50</th>\n      <th>User_26</th>\n      <th>User_76</th>\n      <th>User_32</th>\n    </tr>\n  </thead>\n  <tbody>\n    <tr>\n      <th>0</th>\n      <td>Offer_1000681710</td>\n      <td>3</td>\n      <td>1</td>\n      <td>1</td>\n      <td>0</td>\n      <td>0</td>\n      <td>0</td>\n      <td>0</td>\n      <td>0</td>\n      <td>0</td>\n      <td>...</td>\n      <td>0</td>\n      <td>0</td>\n      <td>0</td>\n      <td>0</td>\n      <td>0</td>\n      <td>0</td>\n      <td>0</td>\n      <td>0</td>\n      <td>0</td>\n      <td>0</td>\n    </tr>\n    <tr>\n      <th>1</th>\n      <td>Offer_1001553250</td>\n      <td>0</td>\n      <td>0</td>\n      <td>0</td>\n      <td>3</td>\n      <td>1</td>\n      <td>1</td>\n      <td>0</td>\n      <td>0</td>\n      <td>0</td>\n      <td>...</td>\n      <td>0</td>\n      <td>0</td>\n      <td>0</td>\n      <td>0</td>\n      <td>0</td>\n      <td>0</td>\n      <td>0</td>\n      <td>0</td>\n      <td>0</td>\n      <td>0</td>\n    </tr>\n    <tr>\n      <th>2</th>\n      <td>Offer_1002136393</td>\n      <td>0</td>\n      <td>1</td>\n      <td>0</td>\n      <td>0</td>\n      <td>0</td>\n      <td>0</td>\n      <td>3</td>\n      <td>1</td>\n      <td>0</td>\n      <td>...</td>\n      <td>0</td>\n      <td>0</td>\n      <td>0</td>\n      <td>0</td>\n      <td>0</td>\n      <td>0</td>\n      <td>0</td>\n      <td>0</td>\n      <td>0</td>\n      <td>0</td>\n    </tr>\n    <tr>\n      <th>3</th>\n      <td>Offer_1002236598</td>\n      <td>0</td>\n      <td>0</td>\n      <td>0</td>\n      <td>0</td>\n      <td>1</td>\n      <td>0</td>\n      <td>0</td>\n      <td>0</td>\n      <td>3</td>\n      <td>...</td>\n      <td>0</td>\n      <td>0</td>\n      <td>0</td>\n      <td>0</td>\n      <td>0</td>\n      <td>0</td>\n      <td>0</td>\n      <td>0</td>\n      <td>0</td>\n      <td>0</td>\n    </tr>\n    <tr>\n      <th>9</th>\n      <td>Offer_1005366187</td>\n      <td>0</td>\n      <td>0</td>\n      <td>0</td>\n      <td>0</td>\n      <td>0</td>\n      <td>0</td>\n      <td>0</td>\n      <td>0</td>\n      <td>0</td>\n      <td>...</td>\n      <td>0</td>\n      <td>0</td>\n      <td>0</td>\n      <td>0</td>\n      <td>0</td>\n      <td>0</td>\n      <td>0</td>\n      <td>0</td>\n      <td>0</td>\n      <td>0</td>\n    </tr>\n    <tr>\n      <th>...</th>\n      <td>...</td>\n      <td>...</td>\n      <td>...</td>\n      <td>...</td>\n      <td>...</td>\n      <td>...</td>\n      <td>...</td>\n      <td>...</td>\n      <td>...</td>\n      <td>...</td>\n      <td>...</td>\n      <td>...</td>\n      <td>...</td>\n      <td>...</td>\n      <td>...</td>\n      <td>...</td>\n      <td>...</td>\n      <td>...</td>\n      <td>...</td>\n      <td>...</td>\n      <td>...</td>\n    </tr>\n    <tr>\n      <th>4991</th>\n      <td>Offer_99101290</td>\n      <td>0</td>\n      <td>0</td>\n      <td>2</td>\n      <td>0</td>\n      <td>0</td>\n      <td>0</td>\n      <td>0</td>\n      <td>0</td>\n      <td>0</td>\n      <td>...</td>\n      <td>0</td>\n      <td>0</td>\n      <td>0</td>\n      <td>0</td>\n      <td>0</td>\n      <td>0</td>\n      <td>0</td>\n      <td>0</td>\n      <td>0</td>\n      <td>0</td>\n    </tr>\n    <tr>\n      <th>4992</th>\n      <td>Offer_992471522</td>\n      <td>0</td>\n      <td>0</td>\n      <td>0</td>\n      <td>0</td>\n      <td>0</td>\n      <td>0</td>\n      <td>0</td>\n      <td>1</td>\n      <td>0</td>\n      <td>...</td>\n      <td>0</td>\n      <td>0</td>\n      <td>0</td>\n      <td>0</td>\n      <td>0</td>\n      <td>0</td>\n      <td>0</td>\n      <td>0</td>\n      <td>0</td>\n      <td>0</td>\n    </tr>\n    <tr>\n      <th>4997</th>\n      <td>Offer_99473283</td>\n      <td>0</td>\n      <td>0</td>\n      <td>0</td>\n      <td>0</td>\n      <td>1</td>\n      <td>0</td>\n      <td>0</td>\n      <td>0</td>\n      <td>0</td>\n      <td>...</td>\n      <td>0</td>\n      <td>0</td>\n      <td>0</td>\n      <td>0</td>\n      <td>0</td>\n      <td>0</td>\n      <td>0</td>\n      <td>0</td>\n      <td>0</td>\n      <td>0</td>\n    </tr>\n    <tr>\n      <th>4998</th>\n      <td>Offer_995784215</td>\n      <td>0</td>\n      <td>0</td>\n      <td>0</td>\n      <td>0</td>\n      <td>0</td>\n      <td>0</td>\n      <td>0</td>\n      <td>0</td>\n      <td>0</td>\n      <td>...</td>\n      <td>0</td>\n      <td>0</td>\n      <td>0</td>\n      <td>0</td>\n      <td>0</td>\n      <td>0</td>\n      <td>0</td>\n      <td>0</td>\n      <td>0</td>\n      <td>0</td>\n    </tr>\n    <tr>\n      <th>4999</th>\n      <td>Offer_997411923</td>\n      <td>0</td>\n      <td>0</td>\n      <td>0</td>\n      <td>0</td>\n      <td>0</td>\n      <td>0</td>\n      <td>0</td>\n      <td>0</td>\n      <td>0</td>\n      <td>...</td>\n      <td>0</td>\n      <td>0</td>\n      <td>0</td>\n      <td>0</td>\n      <td>0</td>\n      <td>0</td>\n      <td>0</td>\n      <td>0</td>\n      <td>0</td>\n      <td>0</td>\n    </tr>\n  </tbody>\n</table>\n<p>2547 rows × 79 columns</p>\n</div>"
     },
     "execution_count": 11,
     "metadata": {},
     "output_type": "execute_result"
    }
   ],
   "source": [
    "one_hot(x, \"resource\", \"aggr\")"
   ],
   "metadata": {
    "collapsed": false,
    "ExecuteTime": {
     "end_time": "2024-01-11T16:05:13.007570Z",
     "start_time": "2024-01-11T16:05:12.796360Z"
    }
   },
   "id": "19099fc3ce123283"
  },
  {
   "cell_type": "code",
   "execution_count": 12,
   "outputs": [],
   "source": [
    "def aggregation_enc(df):\n",
    "    res0 = one_hot(df, \"activity\", \"aggr\")\n",
    "    res1 = one_hot(df, \"resource\", \"aggr\")\n",
    "    res2 = average_timestamp(df, \"ts\")\n",
    "    \n",
    "    res = pd.merge(res0, pd.merge(res1, res2), on=\"caseid\")\n",
    "    \n",
    "    temp = df[[\"caseid\", \"outcome\"]].copy()\n",
    "    res = pd.merge(res, temp, on=\"caseid\")\n",
    "\n",
    "    return res"
   ],
   "metadata": {
    "collapsed": false,
    "ExecuteTime": {
     "end_time": "2024-01-11T16:05:17.656364Z",
     "start_time": "2024-01-11T16:05:17.651629Z"
    }
   },
   "id": "e2e9b7072259ab3d"
  },
  {
   "cell_type": "code",
   "execution_count": 13,
   "outputs": [
    {
     "data": {
      "text/plain": "                caseid  O_Create Offer  O_Created  O_Sent (mail and online)  \\\n0     Offer_1000681710               1          1                         1   \n1     Offer_1001553250               1          1                         1   \n2     Offer_1002136393               1          1                         1   \n3     Offer_1002236598               1          1                         1   \n4     Offer_1005366187               1          1                         1   \n...                ...             ...        ...                       ...   \n2542    Offer_99101290               1          1                         0   \n2543   Offer_992471522               1          1                         1   \n2544    Offer_99473283               1          1                         1   \n2545   Offer_995784215               1          1                         1   \n2546   Offer_997411923               1          1                         1   \n\n      O_Returned  O_Accepted  O_Refused  O_Sent (online only)  O_Cancelled  \\\n0              1           1          0                     0            0   \n1              1           1          0                     0            0   \n2              1           1          0                     0            0   \n3              1           0          1                     0            0   \n4              1           0          1                     0            0   \n...          ...         ...        ...                   ...          ...   \n2542           1           1          0                     1            0   \n2543           1           1          0                     0            0   \n2544           1           1          0                     0            0   \n2545           1           1          0                     0            0   \n2546           1           1          0                     0            0   \n\n      User_20  ...  User_52  User_89  User_101  User_86  User_50  User_26  \\\n0           3  ...        0        0         0        0        0        0   \n1           0  ...        0        0         0        0        0        0   \n2           0  ...        0        0         0        0        0        0   \n3           0  ...        0        0         0        0        0        0   \n4           0  ...        0        0         0        0        0        0   \n...       ...  ...      ...      ...       ...      ...      ...      ...   \n2542        0  ...        0        0         0        0        0        0   \n2543        0  ...        0        0         0        0        0        0   \n2544        0  ...        0        0         0        0        0        0   \n2545        0  ...        0        0         0        0        0        0   \n2546        0  ...        0        0         0        0        0        0   \n\n      User_76  User_32               avg_ts  outcome  \n0           0        0  2016/02/05 15:45:27     True  \n1           0        0  2016/01/19 14:03:45     True  \n2           0        0  2016/02/07 03:09:55     True  \n3           0        0  2016/01/14 14:34:58     True  \n4           0        0  2016/02/06 17:00:58     True  \n...       ...      ...                  ...      ...  \n2542        0        0  2016/02/14 12:03:01     True  \n2543        0        0  2016/02/27 07:35:00     True  \n2544        0        0  2016/02/09 00:34:14     True  \n2545        0        0  2016/02/17 23:22:35     True  \n2546        0        0  2016/01/07 09:29:15     True  \n\n[2547 rows x 89 columns]",
      "text/html": "<div>\n<style scoped>\n    .dataframe tbody tr th:only-of-type {\n        vertical-align: middle;\n    }\n\n    .dataframe tbody tr th {\n        vertical-align: top;\n    }\n\n    .dataframe thead th {\n        text-align: right;\n    }\n</style>\n<table border=\"1\" class=\"dataframe\">\n  <thead>\n    <tr style=\"text-align: right;\">\n      <th></th>\n      <th>caseid</th>\n      <th>O_Create Offer</th>\n      <th>O_Created</th>\n      <th>O_Sent (mail and online)</th>\n      <th>O_Returned</th>\n      <th>O_Accepted</th>\n      <th>O_Refused</th>\n      <th>O_Sent (online only)</th>\n      <th>O_Cancelled</th>\n      <th>User_20</th>\n      <th>...</th>\n      <th>User_52</th>\n      <th>User_89</th>\n      <th>User_101</th>\n      <th>User_86</th>\n      <th>User_50</th>\n      <th>User_26</th>\n      <th>User_76</th>\n      <th>User_32</th>\n      <th>avg_ts</th>\n      <th>outcome</th>\n    </tr>\n  </thead>\n  <tbody>\n    <tr>\n      <th>0</th>\n      <td>Offer_1000681710</td>\n      <td>1</td>\n      <td>1</td>\n      <td>1</td>\n      <td>1</td>\n      <td>1</td>\n      <td>0</td>\n      <td>0</td>\n      <td>0</td>\n      <td>3</td>\n      <td>...</td>\n      <td>0</td>\n      <td>0</td>\n      <td>0</td>\n      <td>0</td>\n      <td>0</td>\n      <td>0</td>\n      <td>0</td>\n      <td>0</td>\n      <td>2016/02/05 15:45:27</td>\n      <td>True</td>\n    </tr>\n    <tr>\n      <th>1</th>\n      <td>Offer_1001553250</td>\n      <td>1</td>\n      <td>1</td>\n      <td>1</td>\n      <td>1</td>\n      <td>1</td>\n      <td>0</td>\n      <td>0</td>\n      <td>0</td>\n      <td>0</td>\n      <td>...</td>\n      <td>0</td>\n      <td>0</td>\n      <td>0</td>\n      <td>0</td>\n      <td>0</td>\n      <td>0</td>\n      <td>0</td>\n      <td>0</td>\n      <td>2016/01/19 14:03:45</td>\n      <td>True</td>\n    </tr>\n    <tr>\n      <th>2</th>\n      <td>Offer_1002136393</td>\n      <td>1</td>\n      <td>1</td>\n      <td>1</td>\n      <td>1</td>\n      <td>1</td>\n      <td>0</td>\n      <td>0</td>\n      <td>0</td>\n      <td>0</td>\n      <td>...</td>\n      <td>0</td>\n      <td>0</td>\n      <td>0</td>\n      <td>0</td>\n      <td>0</td>\n      <td>0</td>\n      <td>0</td>\n      <td>0</td>\n      <td>2016/02/07 03:09:55</td>\n      <td>True</td>\n    </tr>\n    <tr>\n      <th>3</th>\n      <td>Offer_1002236598</td>\n      <td>1</td>\n      <td>1</td>\n      <td>1</td>\n      <td>1</td>\n      <td>0</td>\n      <td>1</td>\n      <td>0</td>\n      <td>0</td>\n      <td>0</td>\n      <td>...</td>\n      <td>0</td>\n      <td>0</td>\n      <td>0</td>\n      <td>0</td>\n      <td>0</td>\n      <td>0</td>\n      <td>0</td>\n      <td>0</td>\n      <td>2016/01/14 14:34:58</td>\n      <td>True</td>\n    </tr>\n    <tr>\n      <th>4</th>\n      <td>Offer_1005366187</td>\n      <td>1</td>\n      <td>1</td>\n      <td>1</td>\n      <td>1</td>\n      <td>0</td>\n      <td>1</td>\n      <td>0</td>\n      <td>0</td>\n      <td>0</td>\n      <td>...</td>\n      <td>0</td>\n      <td>0</td>\n      <td>0</td>\n      <td>0</td>\n      <td>0</td>\n      <td>0</td>\n      <td>0</td>\n      <td>0</td>\n      <td>2016/02/06 17:00:58</td>\n      <td>True</td>\n    </tr>\n    <tr>\n      <th>...</th>\n      <td>...</td>\n      <td>...</td>\n      <td>...</td>\n      <td>...</td>\n      <td>...</td>\n      <td>...</td>\n      <td>...</td>\n      <td>...</td>\n      <td>...</td>\n      <td>...</td>\n      <td>...</td>\n      <td>...</td>\n      <td>...</td>\n      <td>...</td>\n      <td>...</td>\n      <td>...</td>\n      <td>...</td>\n      <td>...</td>\n      <td>...</td>\n      <td>...</td>\n      <td>...</td>\n    </tr>\n    <tr>\n      <th>2542</th>\n      <td>Offer_99101290</td>\n      <td>1</td>\n      <td>1</td>\n      <td>0</td>\n      <td>1</td>\n      <td>1</td>\n      <td>0</td>\n      <td>1</td>\n      <td>0</td>\n      <td>0</td>\n      <td>...</td>\n      <td>0</td>\n      <td>0</td>\n      <td>0</td>\n      <td>0</td>\n      <td>0</td>\n      <td>0</td>\n      <td>0</td>\n      <td>0</td>\n      <td>2016/02/14 12:03:01</td>\n      <td>True</td>\n    </tr>\n    <tr>\n      <th>2543</th>\n      <td>Offer_992471522</td>\n      <td>1</td>\n      <td>1</td>\n      <td>1</td>\n      <td>1</td>\n      <td>1</td>\n      <td>0</td>\n      <td>0</td>\n      <td>0</td>\n      <td>0</td>\n      <td>...</td>\n      <td>0</td>\n      <td>0</td>\n      <td>0</td>\n      <td>0</td>\n      <td>0</td>\n      <td>0</td>\n      <td>0</td>\n      <td>0</td>\n      <td>2016/02/27 07:35:00</td>\n      <td>True</td>\n    </tr>\n    <tr>\n      <th>2544</th>\n      <td>Offer_99473283</td>\n      <td>1</td>\n      <td>1</td>\n      <td>1</td>\n      <td>1</td>\n      <td>1</td>\n      <td>0</td>\n      <td>0</td>\n      <td>0</td>\n      <td>0</td>\n      <td>...</td>\n      <td>0</td>\n      <td>0</td>\n      <td>0</td>\n      <td>0</td>\n      <td>0</td>\n      <td>0</td>\n      <td>0</td>\n      <td>0</td>\n      <td>2016/02/09 00:34:14</td>\n      <td>True</td>\n    </tr>\n    <tr>\n      <th>2545</th>\n      <td>Offer_995784215</td>\n      <td>1</td>\n      <td>1</td>\n      <td>1</td>\n      <td>1</td>\n      <td>1</td>\n      <td>0</td>\n      <td>0</td>\n      <td>0</td>\n      <td>0</td>\n      <td>...</td>\n      <td>0</td>\n      <td>0</td>\n      <td>0</td>\n      <td>0</td>\n      <td>0</td>\n      <td>0</td>\n      <td>0</td>\n      <td>0</td>\n      <td>2016/02/17 23:22:35</td>\n      <td>True</td>\n    </tr>\n    <tr>\n      <th>2546</th>\n      <td>Offer_997411923</td>\n      <td>1</td>\n      <td>1</td>\n      <td>1</td>\n      <td>1</td>\n      <td>1</td>\n      <td>0</td>\n      <td>0</td>\n      <td>0</td>\n      <td>0</td>\n      <td>...</td>\n      <td>0</td>\n      <td>0</td>\n      <td>0</td>\n      <td>0</td>\n      <td>0</td>\n      <td>0</td>\n      <td>0</td>\n      <td>0</td>\n      <td>2016/01/07 09:29:15</td>\n      <td>True</td>\n    </tr>\n  </tbody>\n</table>\n<p>2547 rows × 89 columns</p>\n</div>"
     },
     "execution_count": 13,
     "metadata": {},
     "output_type": "execute_result"
    }
   ],
   "source": [
    "aggregation_enc(x)"
   ],
   "metadata": {
    "collapsed": false,
    "ExecuteTime": {
     "end_time": "2024-01-11T16:05:21.111230Z",
     "start_time": "2024-01-11T16:05:20.564187Z"
    }
   },
   "id": "810bbdc67b6e2b86"
  },
  {
   "cell_type": "markdown",
   "source": [
    "Create a function that does index-based encoding of a prefix extracted from the event log."
   ],
   "metadata": {
    "collapsed": false
   },
   "id": "d9a5b52120b780ad"
  },
  {
   "cell_type": "code",
   "execution_count": 14,
   "outputs": [],
   "source": [
    "def index_label(df, label):\n",
    "\n",
    "    L = len(df[label][1])\n",
    "    result = x[[\"caseid\"]].copy()\n",
    "    \n",
    "    # Create the column and put them to 0\n",
    "    for i in range(1, L+1):\n",
    "        result[label + \"_\" + str(i)] = 0\n",
    "        \n",
    "    for index, row in x.iterrows():\n",
    "        k = 1\n",
    "        for e in row[label]:\n",
    "            result.at[index, label + \"_\" + str(k)] = e\n",
    "            k +=1\n",
    "    \n",
    "    return result"
   ],
   "metadata": {
    "collapsed": false,
    "ExecuteTime": {
     "end_time": "2024-01-11T16:05:37.075271Z",
     "start_time": "2024-01-11T16:05:37.071374Z"
    }
   },
   "id": "eb043ef85602da3a"
  },
  {
   "cell_type": "code",
   "execution_count": 15,
   "outputs": [
    {
     "data": {
      "text/plain": "                caseid  activity_1_O_Create Offer  activity_2_O_Create Offer  \\\n0     Offer_1000681710                          1                          0   \n1     Offer_1001553250                          1                          0   \n2     Offer_1002136393                          1                          0   \n3     Offer_1002236598                          1                          0   \n9     Offer_1005366187                          1                          0   \n...                ...                        ...                        ...   \n4991    Offer_99101290                          1                          0   \n4992   Offer_992471522                          1                          0   \n4997    Offer_99473283                          1                          0   \n4998   Offer_995784215                          1                          0   \n4999   Offer_997411923                          1                          0   \n\n      activity_3_O_Create Offer  activity_4_O_Create Offer  \\\n0                             0                          0   \n1                             0                          0   \n2                             0                          0   \n3                             0                          0   \n9                             0                          0   \n...                         ...                        ...   \n4991                          0                          0   \n4992                          0                          0   \n4997                          0                          0   \n4998                          0                          0   \n4999                          0                          0   \n\n      activity_5_O_Create Offer  activity_1_O_Created  activity_2_O_Created  \\\n0                             0                     0                     1   \n1                             0                     0                     1   \n2                             0                     0                     1   \n3                             0                     0                     1   \n9                             0                     0                     1   \n...                         ...                   ...                   ...   \n4991                          0                     0                     1   \n4992                          0                     0                     1   \n4997                          0                     0                     1   \n4998                          0                     0                     1   \n4999                          0                     0                     1   \n\n      activity_3_O_Created  activity_4_O_Created  ...  \\\n0                        0                     0  ...   \n1                        0                     0  ...   \n2                        0                     0  ...   \n3                        0                     0  ...   \n9                        0                     0  ...   \n...                    ...                   ...  ...   \n4991                     0                     0  ...   \n4992                     0                     0  ...   \n4997                     0                     0  ...   \n4998                     0                     0  ...   \n4999                     0                     0  ...   \n\n      activity_1_O_Sent (online only)  activity_2_O_Sent (online only)  \\\n0                                   0                                0   \n1                                   0                                0   \n2                                   0                                0   \n3                                   0                                0   \n9                                   0                                0   \n...                               ...                              ...   \n4991                                0                                0   \n4992                                0                                0   \n4997                                0                                0   \n4998                                0                                0   \n4999                                0                                0   \n\n      activity_3_O_Sent (online only)  activity_4_O_Sent (online only)  \\\n0                                   0                                0   \n1                                   0                                0   \n2                                   0                                0   \n3                                   0                                0   \n9                                   0                                0   \n...                               ...                              ...   \n4991                                1                                0   \n4992                                0                                0   \n4997                                0                                0   \n4998                                0                                0   \n4999                                0                                0   \n\n      activity_5_O_Sent (online only)  activity_1_O_Cancelled  \\\n0                                   0                       0   \n1                                   0                       0   \n2                                   0                       0   \n3                                   0                       0   \n9                                   0                       0   \n...                               ...                     ...   \n4991                                0                       0   \n4992                                0                       0   \n4997                                0                       0   \n4998                                0                       0   \n4999                                0                       0   \n\n      activity_2_O_Cancelled  activity_3_O_Cancelled  activity_4_O_Cancelled  \\\n0                          0                       0                       0   \n1                          0                       0                       0   \n2                          0                       0                       0   \n3                          0                       0                       0   \n9                          0                       0                       0   \n...                      ...                     ...                     ...   \n4991                       0                       0                       0   \n4992                       0                       0                       0   \n4997                       0                       0                       0   \n4998                       0                       0                       0   \n4999                       0                       0                       0   \n\n      activity_5_O_Cancelled  \n0                          0  \n1                          0  \n2                          0  \n3                          0  \n9                          0  \n...                      ...  \n4991                       0  \n4992                       0  \n4997                       0  \n4998                       0  \n4999                       0  \n\n[2547 rows x 41 columns]",
      "text/html": "<div>\n<style scoped>\n    .dataframe tbody tr th:only-of-type {\n        vertical-align: middle;\n    }\n\n    .dataframe tbody tr th {\n        vertical-align: top;\n    }\n\n    .dataframe thead th {\n        text-align: right;\n    }\n</style>\n<table border=\"1\" class=\"dataframe\">\n  <thead>\n    <tr style=\"text-align: right;\">\n      <th></th>\n      <th>caseid</th>\n      <th>activity_1_O_Create Offer</th>\n      <th>activity_2_O_Create Offer</th>\n      <th>activity_3_O_Create Offer</th>\n      <th>activity_4_O_Create Offer</th>\n      <th>activity_5_O_Create Offer</th>\n      <th>activity_1_O_Created</th>\n      <th>activity_2_O_Created</th>\n      <th>activity_3_O_Created</th>\n      <th>activity_4_O_Created</th>\n      <th>...</th>\n      <th>activity_1_O_Sent (online only)</th>\n      <th>activity_2_O_Sent (online only)</th>\n      <th>activity_3_O_Sent (online only)</th>\n      <th>activity_4_O_Sent (online only)</th>\n      <th>activity_5_O_Sent (online only)</th>\n      <th>activity_1_O_Cancelled</th>\n      <th>activity_2_O_Cancelled</th>\n      <th>activity_3_O_Cancelled</th>\n      <th>activity_4_O_Cancelled</th>\n      <th>activity_5_O_Cancelled</th>\n    </tr>\n  </thead>\n  <tbody>\n    <tr>\n      <th>0</th>\n      <td>Offer_1000681710</td>\n      <td>1</td>\n      <td>0</td>\n      <td>0</td>\n      <td>0</td>\n      <td>0</td>\n      <td>0</td>\n      <td>1</td>\n      <td>0</td>\n      <td>0</td>\n      <td>...</td>\n      <td>0</td>\n      <td>0</td>\n      <td>0</td>\n      <td>0</td>\n      <td>0</td>\n      <td>0</td>\n      <td>0</td>\n      <td>0</td>\n      <td>0</td>\n      <td>0</td>\n    </tr>\n    <tr>\n      <th>1</th>\n      <td>Offer_1001553250</td>\n      <td>1</td>\n      <td>0</td>\n      <td>0</td>\n      <td>0</td>\n      <td>0</td>\n      <td>0</td>\n      <td>1</td>\n      <td>0</td>\n      <td>0</td>\n      <td>...</td>\n      <td>0</td>\n      <td>0</td>\n      <td>0</td>\n      <td>0</td>\n      <td>0</td>\n      <td>0</td>\n      <td>0</td>\n      <td>0</td>\n      <td>0</td>\n      <td>0</td>\n    </tr>\n    <tr>\n      <th>2</th>\n      <td>Offer_1002136393</td>\n      <td>1</td>\n      <td>0</td>\n      <td>0</td>\n      <td>0</td>\n      <td>0</td>\n      <td>0</td>\n      <td>1</td>\n      <td>0</td>\n      <td>0</td>\n      <td>...</td>\n      <td>0</td>\n      <td>0</td>\n      <td>0</td>\n      <td>0</td>\n      <td>0</td>\n      <td>0</td>\n      <td>0</td>\n      <td>0</td>\n      <td>0</td>\n      <td>0</td>\n    </tr>\n    <tr>\n      <th>3</th>\n      <td>Offer_1002236598</td>\n      <td>1</td>\n      <td>0</td>\n      <td>0</td>\n      <td>0</td>\n      <td>0</td>\n      <td>0</td>\n      <td>1</td>\n      <td>0</td>\n      <td>0</td>\n      <td>...</td>\n      <td>0</td>\n      <td>0</td>\n      <td>0</td>\n      <td>0</td>\n      <td>0</td>\n      <td>0</td>\n      <td>0</td>\n      <td>0</td>\n      <td>0</td>\n      <td>0</td>\n    </tr>\n    <tr>\n      <th>9</th>\n      <td>Offer_1005366187</td>\n      <td>1</td>\n      <td>0</td>\n      <td>0</td>\n      <td>0</td>\n      <td>0</td>\n      <td>0</td>\n      <td>1</td>\n      <td>0</td>\n      <td>0</td>\n      <td>...</td>\n      <td>0</td>\n      <td>0</td>\n      <td>0</td>\n      <td>0</td>\n      <td>0</td>\n      <td>0</td>\n      <td>0</td>\n      <td>0</td>\n      <td>0</td>\n      <td>0</td>\n    </tr>\n    <tr>\n      <th>...</th>\n      <td>...</td>\n      <td>...</td>\n      <td>...</td>\n      <td>...</td>\n      <td>...</td>\n      <td>...</td>\n      <td>...</td>\n      <td>...</td>\n      <td>...</td>\n      <td>...</td>\n      <td>...</td>\n      <td>...</td>\n      <td>...</td>\n      <td>...</td>\n      <td>...</td>\n      <td>...</td>\n      <td>...</td>\n      <td>...</td>\n      <td>...</td>\n      <td>...</td>\n      <td>...</td>\n    </tr>\n    <tr>\n      <th>4991</th>\n      <td>Offer_99101290</td>\n      <td>1</td>\n      <td>0</td>\n      <td>0</td>\n      <td>0</td>\n      <td>0</td>\n      <td>0</td>\n      <td>1</td>\n      <td>0</td>\n      <td>0</td>\n      <td>...</td>\n      <td>0</td>\n      <td>0</td>\n      <td>1</td>\n      <td>0</td>\n      <td>0</td>\n      <td>0</td>\n      <td>0</td>\n      <td>0</td>\n      <td>0</td>\n      <td>0</td>\n    </tr>\n    <tr>\n      <th>4992</th>\n      <td>Offer_992471522</td>\n      <td>1</td>\n      <td>0</td>\n      <td>0</td>\n      <td>0</td>\n      <td>0</td>\n      <td>0</td>\n      <td>1</td>\n      <td>0</td>\n      <td>0</td>\n      <td>...</td>\n      <td>0</td>\n      <td>0</td>\n      <td>0</td>\n      <td>0</td>\n      <td>0</td>\n      <td>0</td>\n      <td>0</td>\n      <td>0</td>\n      <td>0</td>\n      <td>0</td>\n    </tr>\n    <tr>\n      <th>4997</th>\n      <td>Offer_99473283</td>\n      <td>1</td>\n      <td>0</td>\n      <td>0</td>\n      <td>0</td>\n      <td>0</td>\n      <td>0</td>\n      <td>1</td>\n      <td>0</td>\n      <td>0</td>\n      <td>...</td>\n      <td>0</td>\n      <td>0</td>\n      <td>0</td>\n      <td>0</td>\n      <td>0</td>\n      <td>0</td>\n      <td>0</td>\n      <td>0</td>\n      <td>0</td>\n      <td>0</td>\n    </tr>\n    <tr>\n      <th>4998</th>\n      <td>Offer_995784215</td>\n      <td>1</td>\n      <td>0</td>\n      <td>0</td>\n      <td>0</td>\n      <td>0</td>\n      <td>0</td>\n      <td>1</td>\n      <td>0</td>\n      <td>0</td>\n      <td>...</td>\n      <td>0</td>\n      <td>0</td>\n      <td>0</td>\n      <td>0</td>\n      <td>0</td>\n      <td>0</td>\n      <td>0</td>\n      <td>0</td>\n      <td>0</td>\n      <td>0</td>\n    </tr>\n    <tr>\n      <th>4999</th>\n      <td>Offer_997411923</td>\n      <td>1</td>\n      <td>0</td>\n      <td>0</td>\n      <td>0</td>\n      <td>0</td>\n      <td>0</td>\n      <td>1</td>\n      <td>0</td>\n      <td>0</td>\n      <td>...</td>\n      <td>0</td>\n      <td>0</td>\n      <td>0</td>\n      <td>0</td>\n      <td>0</td>\n      <td>0</td>\n      <td>0</td>\n      <td>0</td>\n      <td>0</td>\n      <td>0</td>\n    </tr>\n  </tbody>\n</table>\n<p>2547 rows × 41 columns</p>\n</div>"
     },
     "execution_count": 15,
     "metadata": {},
     "output_type": "execute_result"
    }
   ],
   "source": [
    "one_hot(x, \"activity\", \"index\")"
   ],
   "metadata": {
    "collapsed": false,
    "ExecuteTime": {
     "end_time": "2024-01-11T16:05:38.123930Z",
     "start_time": "2024-01-11T16:05:37.913663Z"
    }
   },
   "id": "3748c7537085928f"
  },
  {
   "cell_type": "code",
   "execution_count": 16,
   "outputs": [
    {
     "data": {
      "text/plain": "                caseid  resource_1_User_20  resource_2_User_20  \\\n0     Offer_1000681710                   1                   1   \n1     Offer_1001553250                   0                   0   \n2     Offer_1002136393                   0                   0   \n3     Offer_1002236598                   0                   0   \n9     Offer_1005366187                   0                   0   \n...                ...                 ...                 ...   \n4991    Offer_99101290                   0                   0   \n4992   Offer_992471522                   0                   0   \n4997    Offer_99473283                   0                   0   \n4998   Offer_995784215                   0                   0   \n4999   Offer_997411923                   0                   0   \n\n      resource_3_User_20  resource_4_User_20  resource_5_User_20  \\\n0                      1                   0                   0   \n1                      0                   0                   0   \n2                      0                   0                   0   \n3                      0                   0                   0   \n9                      0                   0                   0   \n...                  ...                 ...                 ...   \n4991                   0                   0                   0   \n4992                   0                   0                   0   \n4997                   0                   0                   0   \n4998                   0                   0                   0   \n4999                   0                   0                   0   \n\n      resource_1_User_117  resource_2_User_117  resource_3_User_117  \\\n0                       0                    0                    0   \n1                       0                    0                    0   \n2                       0                    0                    0   \n3                       0                    0                    0   \n9                       0                    0                    0   \n...                   ...                  ...                  ...   \n4991                    0                    0                    0   \n4992                    0                    0                    0   \n4997                    0                    0                    0   \n4998                    0                    0                    0   \n4999                    0                    0                    0   \n\n      resource_4_User_117  ...  resource_1_User_76  resource_2_User_76  \\\n0                       1  ...                   0                   0   \n1                       0  ...                   0                   0   \n2                       1  ...                   0                   0   \n3                       0  ...                   0                   0   \n9                       0  ...                   0                   0   \n...                   ...  ...                 ...                 ...   \n4991                    0  ...                   0                   0   \n4992                    0  ...                   0                   0   \n4997                    0  ...                   0                   0   \n4998                    0  ...                   0                   0   \n4999                    0  ...                   0                   0   \n\n      resource_3_User_76  resource_4_User_76  resource_5_User_76  \\\n0                      0                   0                   0   \n1                      0                   0                   0   \n2                      0                   0                   0   \n3                      0                   0                   0   \n9                      0                   0                   0   \n...                  ...                 ...                 ...   \n4991                   0                   0                   0   \n4992                   0                   0                   0   \n4997                   0                   0                   0   \n4998                   0                   0                   0   \n4999                   0                   0                   0   \n\n      resource_1_User_32  resource_2_User_32  resource_3_User_32  \\\n0                      0                   0                   0   \n1                      0                   0                   0   \n2                      0                   0                   0   \n3                      0                   0                   0   \n9                      0                   0                   0   \n...                  ...                 ...                 ...   \n4991                   0                   0                   0   \n4992                   0                   0                   0   \n4997                   0                   0                   0   \n4998                   0                   0                   0   \n4999                   0                   0                   0   \n\n      resource_4_User_32  resource_5_User_32  \n0                      0                   0  \n1                      0                   0  \n2                      0                   0  \n3                      0                   0  \n9                      0                   0  \n...                  ...                 ...  \n4991                   0                   0  \n4992                   0                   0  \n4997                   0                   0  \n4998                   0                   0  \n4999                   0                   0  \n\n[2547 rows x 391 columns]",
      "text/html": "<div>\n<style scoped>\n    .dataframe tbody tr th:only-of-type {\n        vertical-align: middle;\n    }\n\n    .dataframe tbody tr th {\n        vertical-align: top;\n    }\n\n    .dataframe thead th {\n        text-align: right;\n    }\n</style>\n<table border=\"1\" class=\"dataframe\">\n  <thead>\n    <tr style=\"text-align: right;\">\n      <th></th>\n      <th>caseid</th>\n      <th>resource_1_User_20</th>\n      <th>resource_2_User_20</th>\n      <th>resource_3_User_20</th>\n      <th>resource_4_User_20</th>\n      <th>resource_5_User_20</th>\n      <th>resource_1_User_117</th>\n      <th>resource_2_User_117</th>\n      <th>resource_3_User_117</th>\n      <th>resource_4_User_117</th>\n      <th>...</th>\n      <th>resource_1_User_76</th>\n      <th>resource_2_User_76</th>\n      <th>resource_3_User_76</th>\n      <th>resource_4_User_76</th>\n      <th>resource_5_User_76</th>\n      <th>resource_1_User_32</th>\n      <th>resource_2_User_32</th>\n      <th>resource_3_User_32</th>\n      <th>resource_4_User_32</th>\n      <th>resource_5_User_32</th>\n    </tr>\n  </thead>\n  <tbody>\n    <tr>\n      <th>0</th>\n      <td>Offer_1000681710</td>\n      <td>1</td>\n      <td>1</td>\n      <td>1</td>\n      <td>0</td>\n      <td>0</td>\n      <td>0</td>\n      <td>0</td>\n      <td>0</td>\n      <td>1</td>\n      <td>...</td>\n      <td>0</td>\n      <td>0</td>\n      <td>0</td>\n      <td>0</td>\n      <td>0</td>\n      <td>0</td>\n      <td>0</td>\n      <td>0</td>\n      <td>0</td>\n      <td>0</td>\n    </tr>\n    <tr>\n      <th>1</th>\n      <td>Offer_1001553250</td>\n      <td>0</td>\n      <td>0</td>\n      <td>0</td>\n      <td>0</td>\n      <td>0</td>\n      <td>0</td>\n      <td>0</td>\n      <td>0</td>\n      <td>0</td>\n      <td>...</td>\n      <td>0</td>\n      <td>0</td>\n      <td>0</td>\n      <td>0</td>\n      <td>0</td>\n      <td>0</td>\n      <td>0</td>\n      <td>0</td>\n      <td>0</td>\n      <td>0</td>\n    </tr>\n    <tr>\n      <th>2</th>\n      <td>Offer_1002136393</td>\n      <td>0</td>\n      <td>0</td>\n      <td>0</td>\n      <td>0</td>\n      <td>0</td>\n      <td>0</td>\n      <td>0</td>\n      <td>0</td>\n      <td>1</td>\n      <td>...</td>\n      <td>0</td>\n      <td>0</td>\n      <td>0</td>\n      <td>0</td>\n      <td>0</td>\n      <td>0</td>\n      <td>0</td>\n      <td>0</td>\n      <td>0</td>\n      <td>0</td>\n    </tr>\n    <tr>\n      <th>3</th>\n      <td>Offer_1002236598</td>\n      <td>0</td>\n      <td>0</td>\n      <td>0</td>\n      <td>0</td>\n      <td>0</td>\n      <td>0</td>\n      <td>0</td>\n      <td>0</td>\n      <td>0</td>\n      <td>...</td>\n      <td>0</td>\n      <td>0</td>\n      <td>0</td>\n      <td>0</td>\n      <td>0</td>\n      <td>0</td>\n      <td>0</td>\n      <td>0</td>\n      <td>0</td>\n      <td>0</td>\n    </tr>\n    <tr>\n      <th>9</th>\n      <td>Offer_1005366187</td>\n      <td>0</td>\n      <td>0</td>\n      <td>0</td>\n      <td>0</td>\n      <td>0</td>\n      <td>0</td>\n      <td>0</td>\n      <td>0</td>\n      <td>0</td>\n      <td>...</td>\n      <td>0</td>\n      <td>0</td>\n      <td>0</td>\n      <td>0</td>\n      <td>0</td>\n      <td>0</td>\n      <td>0</td>\n      <td>0</td>\n      <td>0</td>\n      <td>0</td>\n    </tr>\n    <tr>\n      <th>...</th>\n      <td>...</td>\n      <td>...</td>\n      <td>...</td>\n      <td>...</td>\n      <td>...</td>\n      <td>...</td>\n      <td>...</td>\n      <td>...</td>\n      <td>...</td>\n      <td>...</td>\n      <td>...</td>\n      <td>...</td>\n      <td>...</td>\n      <td>...</td>\n      <td>...</td>\n      <td>...</td>\n      <td>...</td>\n      <td>...</td>\n      <td>...</td>\n      <td>...</td>\n      <td>...</td>\n    </tr>\n    <tr>\n      <th>4991</th>\n      <td>Offer_99101290</td>\n      <td>0</td>\n      <td>0</td>\n      <td>0</td>\n      <td>0</td>\n      <td>0</td>\n      <td>0</td>\n      <td>0</td>\n      <td>0</td>\n      <td>0</td>\n      <td>...</td>\n      <td>0</td>\n      <td>0</td>\n      <td>0</td>\n      <td>0</td>\n      <td>0</td>\n      <td>0</td>\n      <td>0</td>\n      <td>0</td>\n      <td>0</td>\n      <td>0</td>\n    </tr>\n    <tr>\n      <th>4992</th>\n      <td>Offer_992471522</td>\n      <td>0</td>\n      <td>0</td>\n      <td>0</td>\n      <td>0</td>\n      <td>0</td>\n      <td>0</td>\n      <td>0</td>\n      <td>0</td>\n      <td>0</td>\n      <td>...</td>\n      <td>0</td>\n      <td>0</td>\n      <td>0</td>\n      <td>0</td>\n      <td>0</td>\n      <td>0</td>\n      <td>0</td>\n      <td>0</td>\n      <td>0</td>\n      <td>0</td>\n    </tr>\n    <tr>\n      <th>4997</th>\n      <td>Offer_99473283</td>\n      <td>0</td>\n      <td>0</td>\n      <td>0</td>\n      <td>0</td>\n      <td>0</td>\n      <td>0</td>\n      <td>0</td>\n      <td>0</td>\n      <td>0</td>\n      <td>...</td>\n      <td>0</td>\n      <td>0</td>\n      <td>0</td>\n      <td>0</td>\n      <td>0</td>\n      <td>0</td>\n      <td>0</td>\n      <td>0</td>\n      <td>0</td>\n      <td>0</td>\n    </tr>\n    <tr>\n      <th>4998</th>\n      <td>Offer_995784215</td>\n      <td>0</td>\n      <td>0</td>\n      <td>0</td>\n      <td>0</td>\n      <td>0</td>\n      <td>0</td>\n      <td>0</td>\n      <td>0</td>\n      <td>0</td>\n      <td>...</td>\n      <td>0</td>\n      <td>0</td>\n      <td>0</td>\n      <td>0</td>\n      <td>0</td>\n      <td>0</td>\n      <td>0</td>\n      <td>0</td>\n      <td>0</td>\n      <td>0</td>\n    </tr>\n    <tr>\n      <th>4999</th>\n      <td>Offer_997411923</td>\n      <td>0</td>\n      <td>0</td>\n      <td>0</td>\n      <td>0</td>\n      <td>0</td>\n      <td>0</td>\n      <td>0</td>\n      <td>0</td>\n      <td>0</td>\n      <td>...</td>\n      <td>0</td>\n      <td>0</td>\n      <td>0</td>\n      <td>0</td>\n      <td>0</td>\n      <td>0</td>\n      <td>0</td>\n      <td>0</td>\n      <td>0</td>\n      <td>0</td>\n    </tr>\n  </tbody>\n</table>\n<p>2547 rows × 391 columns</p>\n</div>"
     },
     "execution_count": 16,
     "metadata": {},
     "output_type": "execute_result"
    }
   ],
   "source": [
    "one_hot(x, \"resource\", \"index\")"
   ],
   "metadata": {
    "collapsed": false,
    "ExecuteTime": {
     "end_time": "2024-01-11T16:05:40.992069Z",
     "start_time": "2024-01-11T16:05:40.755020Z"
    }
   },
   "id": "944ce2c101a72d67"
  },
  {
   "cell_type": "code",
   "execution_count": 17,
   "outputs": [
    {
     "data": {
      "text/plain": "                caseid                     ts_1                     ts_2  \\\n0     Offer_1000681710  2016/02/02 18:24:54.170  2016/02/02 18:24:55.833   \n1     Offer_1001553250  2016/01/16 03:16:41.868  2016/01/16 03:16:43.056   \n2     Offer_1002136393  2016/01/29 17:46:49.529  2016/01/29 17:46:50.822   \n3     Offer_1002236598  2016/01/12 18:24:55.557  2016/01/12 18:24:56.826   \n9     Offer_1005366187  2016/02/01 21:21:51.853  2016/02/01 21:21:53.307   \n...                ...                      ...                      ...   \n4991    Offer_99101290  2016/02/12 23:56:11.915  2016/02/12 23:56:13.312   \n4992   Offer_992471522  2016/02/18 00:12:18.561  2016/02/18 00:12:19.903   \n4997    Offer_99473283  2016/02/03 20:59:31.775  2016/02/03 20:59:33.058   \n4998   Offer_995784215  2016/02/15 17:06:12.610  2016/02/15 17:06:15.203   \n4999   Offer_997411923  2016/01/02 20:25:44.202  2016/01/02 20:25:45.416   \n\n                         ts_3                     ts_4  \\\n0     2016/02/02 18:25:14.889  2016/02/09 22:36:31.755   \n1     2016/01/16 03:16:58.528  2016/01/22 17:14:16.014   \n2     2016/01/29 17:47:10.378  2016/02/16 18:46:06.873   \n3     2016/01/12 18:25:08.174  2016/01/15 19:06:38.165   \n9     2016/02/01 21:22:06.186  2016/02/11 22:35:14.175   \n...                       ...                      ...   \n4991  2016/02/12 23:56:35.610  2016/02/16 18:12:46.353   \n4992  2016/02/18 00:12:37.882  2016/03/01 21:47:21.587   \n4997  2016/02/03 21:03:57.787  2016/02/10 19:35:03.340   \n4998  2016/02/15 17:06:31.030  2016/02/18 20:46:52.744   \n4999  2016/01/02 20:26:19.140  2016/01/13 18:08:14.217   \n\n                         ts_5  \n0     2016/02/10 00:55:41.368  \n1     2016/01/26 19:14:10.052  \n2     2016/02/22 15:42:42.278  \n3     2016/01/18 22:33:14.113  \n9     2016/02/15 22:23:50.211  \n...                       ...  \n4991  2016/02/16 18:13:23.726  \n4992  2016/03/22 15:30:26.199  \n4997  2016/02/22 16:13:10.784  \n4998  2016/02/23 20:47:09.974  \n4999  2016/01/14 16:00:14.440  \n\n[2547 rows x 6 columns]",
      "text/html": "<div>\n<style scoped>\n    .dataframe tbody tr th:only-of-type {\n        vertical-align: middle;\n    }\n\n    .dataframe tbody tr th {\n        vertical-align: top;\n    }\n\n    .dataframe thead th {\n        text-align: right;\n    }\n</style>\n<table border=\"1\" class=\"dataframe\">\n  <thead>\n    <tr style=\"text-align: right;\">\n      <th></th>\n      <th>caseid</th>\n      <th>ts_1</th>\n      <th>ts_2</th>\n      <th>ts_3</th>\n      <th>ts_4</th>\n      <th>ts_5</th>\n    </tr>\n  </thead>\n  <tbody>\n    <tr>\n      <th>0</th>\n      <td>Offer_1000681710</td>\n      <td>2016/02/02 18:24:54.170</td>\n      <td>2016/02/02 18:24:55.833</td>\n      <td>2016/02/02 18:25:14.889</td>\n      <td>2016/02/09 22:36:31.755</td>\n      <td>2016/02/10 00:55:41.368</td>\n    </tr>\n    <tr>\n      <th>1</th>\n      <td>Offer_1001553250</td>\n      <td>2016/01/16 03:16:41.868</td>\n      <td>2016/01/16 03:16:43.056</td>\n      <td>2016/01/16 03:16:58.528</td>\n      <td>2016/01/22 17:14:16.014</td>\n      <td>2016/01/26 19:14:10.052</td>\n    </tr>\n    <tr>\n      <th>2</th>\n      <td>Offer_1002136393</td>\n      <td>2016/01/29 17:46:49.529</td>\n      <td>2016/01/29 17:46:50.822</td>\n      <td>2016/01/29 17:47:10.378</td>\n      <td>2016/02/16 18:46:06.873</td>\n      <td>2016/02/22 15:42:42.278</td>\n    </tr>\n    <tr>\n      <th>3</th>\n      <td>Offer_1002236598</td>\n      <td>2016/01/12 18:24:55.557</td>\n      <td>2016/01/12 18:24:56.826</td>\n      <td>2016/01/12 18:25:08.174</td>\n      <td>2016/01/15 19:06:38.165</td>\n      <td>2016/01/18 22:33:14.113</td>\n    </tr>\n    <tr>\n      <th>9</th>\n      <td>Offer_1005366187</td>\n      <td>2016/02/01 21:21:51.853</td>\n      <td>2016/02/01 21:21:53.307</td>\n      <td>2016/02/01 21:22:06.186</td>\n      <td>2016/02/11 22:35:14.175</td>\n      <td>2016/02/15 22:23:50.211</td>\n    </tr>\n    <tr>\n      <th>...</th>\n      <td>...</td>\n      <td>...</td>\n      <td>...</td>\n      <td>...</td>\n      <td>...</td>\n      <td>...</td>\n    </tr>\n    <tr>\n      <th>4991</th>\n      <td>Offer_99101290</td>\n      <td>2016/02/12 23:56:11.915</td>\n      <td>2016/02/12 23:56:13.312</td>\n      <td>2016/02/12 23:56:35.610</td>\n      <td>2016/02/16 18:12:46.353</td>\n      <td>2016/02/16 18:13:23.726</td>\n    </tr>\n    <tr>\n      <th>4992</th>\n      <td>Offer_992471522</td>\n      <td>2016/02/18 00:12:18.561</td>\n      <td>2016/02/18 00:12:19.903</td>\n      <td>2016/02/18 00:12:37.882</td>\n      <td>2016/03/01 21:47:21.587</td>\n      <td>2016/03/22 15:30:26.199</td>\n    </tr>\n    <tr>\n      <th>4997</th>\n      <td>Offer_99473283</td>\n      <td>2016/02/03 20:59:31.775</td>\n      <td>2016/02/03 20:59:33.058</td>\n      <td>2016/02/03 21:03:57.787</td>\n      <td>2016/02/10 19:35:03.340</td>\n      <td>2016/02/22 16:13:10.784</td>\n    </tr>\n    <tr>\n      <th>4998</th>\n      <td>Offer_995784215</td>\n      <td>2016/02/15 17:06:12.610</td>\n      <td>2016/02/15 17:06:15.203</td>\n      <td>2016/02/15 17:06:31.030</td>\n      <td>2016/02/18 20:46:52.744</td>\n      <td>2016/02/23 20:47:09.974</td>\n    </tr>\n    <tr>\n      <th>4999</th>\n      <td>Offer_997411923</td>\n      <td>2016/01/02 20:25:44.202</td>\n      <td>2016/01/02 20:25:45.416</td>\n      <td>2016/01/02 20:26:19.140</td>\n      <td>2016/01/13 18:08:14.217</td>\n      <td>2016/01/14 16:00:14.440</td>\n    </tr>\n  </tbody>\n</table>\n<p>2547 rows × 6 columns</p>\n</div>"
     },
     "execution_count": 17,
     "metadata": {},
     "output_type": "execute_result"
    }
   ],
   "source": [
    "index_label(x, \"ts\")"
   ],
   "metadata": {
    "collapsed": false,
    "ExecuteTime": {
     "end_time": "2024-01-11T16:06:07.222846Z",
     "start_time": "2024-01-11T16:06:07.128771Z"
    }
   },
   "id": "30b693b1533de03d"
  },
  {
   "cell_type": "code",
   "execution_count": 18,
   "outputs": [],
   "source": [
    "def index_enc(df):\n",
    "    res0 = one_hot(df, \"activity\", \"index\")\n",
    "    res1 = one_hot(df, \"resource\", \"index\")\n",
    "    res2 = index_label(df, \"ts\")\n",
    "    \n",
    "    res = pd.merge(res0, pd.merge(res1, res2), on=\"caseid\")\n",
    "    \n",
    "    temp = df[[\"caseid\", \"outcome\"]].copy()\n",
    "    res = pd.merge(res, temp, on=\"caseid\")\n",
    "\n",
    "    return res"
   ],
   "metadata": {
    "collapsed": false,
    "ExecuteTime": {
     "end_time": "2024-01-11T16:06:12.647637Z",
     "start_time": "2024-01-11T16:06:12.642563Z"
    }
   },
   "id": "537ebf717bc3c526"
  },
  {
   "cell_type": "code",
   "execution_count": 19,
   "outputs": [
    {
     "data": {
      "text/plain": "                caseid  activity_1_O_Create Offer  activity_2_O_Create Offer  \\\n0     Offer_1000681710                          1                          0   \n1     Offer_1001553250                          1                          0   \n2     Offer_1002136393                          1                          0   \n3     Offer_1002236598                          1                          0   \n4     Offer_1005366187                          1                          0   \n...                ...                        ...                        ...   \n2542    Offer_99101290                          1                          0   \n2543   Offer_992471522                          1                          0   \n2544    Offer_99473283                          1                          0   \n2545   Offer_995784215                          1                          0   \n2546   Offer_997411923                          1                          0   \n\n      activity_3_O_Create Offer  activity_4_O_Create Offer  \\\n0                             0                          0   \n1                             0                          0   \n2                             0                          0   \n3                             0                          0   \n4                             0                          0   \n...                         ...                        ...   \n2542                          0                          0   \n2543                          0                          0   \n2544                          0                          0   \n2545                          0                          0   \n2546                          0                          0   \n\n      activity_5_O_Create Offer  activity_1_O_Created  activity_2_O_Created  \\\n0                             0                     0                     1   \n1                             0                     0                     1   \n2                             0                     0                     1   \n3                             0                     0                     1   \n4                             0                     0                     1   \n...                         ...                   ...                   ...   \n2542                          0                     0                     1   \n2543                          0                     0                     1   \n2544                          0                     0                     1   \n2545                          0                     0                     1   \n2546                          0                     0                     1   \n\n      activity_3_O_Created  activity_4_O_Created  ...  resource_2_User_32  \\\n0                        0                     0  ...                   0   \n1                        0                     0  ...                   0   \n2                        0                     0  ...                   0   \n3                        0                     0  ...                   0   \n4                        0                     0  ...                   0   \n...                    ...                   ...  ...                 ...   \n2542                     0                     0  ...                   0   \n2543                     0                     0  ...                   0   \n2544                     0                     0  ...                   0   \n2545                     0                     0  ...                   0   \n2546                     0                     0  ...                   0   \n\n      resource_3_User_32  resource_4_User_32  resource_5_User_32  \\\n0                      0                   0                   0   \n1                      0                   0                   0   \n2                      0                   0                   0   \n3                      0                   0                   0   \n4                      0                   0                   0   \n...                  ...                 ...                 ...   \n2542                   0                   0                   0   \n2543                   0                   0                   0   \n2544                   0                   0                   0   \n2545                   0                   0                   0   \n2546                   0                   0                   0   \n\n                         ts_1                     ts_2  \\\n0     2016/02/02 18:24:54.170  2016/02/02 18:24:55.833   \n1     2016/01/16 03:16:41.868  2016/01/16 03:16:43.056   \n2     2016/01/29 17:46:49.529  2016/01/29 17:46:50.822   \n3     2016/01/12 18:24:55.557  2016/01/12 18:24:56.826   \n4     2016/02/01 21:21:51.853  2016/02/01 21:21:53.307   \n...                       ...                      ...   \n2542  2016/02/12 23:56:11.915  2016/02/12 23:56:13.312   \n2543  2016/02/18 00:12:18.561  2016/02/18 00:12:19.903   \n2544  2016/02/03 20:59:31.775  2016/02/03 20:59:33.058   \n2545  2016/02/15 17:06:12.610  2016/02/15 17:06:15.203   \n2546  2016/01/02 20:25:44.202  2016/01/02 20:25:45.416   \n\n                         ts_3                     ts_4  \\\n0     2016/02/02 18:25:14.889  2016/02/09 22:36:31.755   \n1     2016/01/16 03:16:58.528  2016/01/22 17:14:16.014   \n2     2016/01/29 17:47:10.378  2016/02/16 18:46:06.873   \n3     2016/01/12 18:25:08.174  2016/01/15 19:06:38.165   \n4     2016/02/01 21:22:06.186  2016/02/11 22:35:14.175   \n...                       ...                      ...   \n2542  2016/02/12 23:56:35.610  2016/02/16 18:12:46.353   \n2543  2016/02/18 00:12:37.882  2016/03/01 21:47:21.587   \n2544  2016/02/03 21:03:57.787  2016/02/10 19:35:03.340   \n2545  2016/02/15 17:06:31.030  2016/02/18 20:46:52.744   \n2546  2016/01/02 20:26:19.140  2016/01/13 18:08:14.217   \n\n                         ts_5  outcome  \n0     2016/02/10 00:55:41.368     True  \n1     2016/01/26 19:14:10.052     True  \n2     2016/02/22 15:42:42.278     True  \n3     2016/01/18 22:33:14.113     True  \n4     2016/02/15 22:23:50.211     True  \n...                       ...      ...  \n2542  2016/02/16 18:13:23.726     True  \n2543  2016/03/22 15:30:26.199     True  \n2544  2016/02/22 16:13:10.784     True  \n2545  2016/02/23 20:47:09.974     True  \n2546  2016/01/14 16:00:14.440     True  \n\n[2547 rows x 437 columns]",
      "text/html": "<div>\n<style scoped>\n    .dataframe tbody tr th:only-of-type {\n        vertical-align: middle;\n    }\n\n    .dataframe tbody tr th {\n        vertical-align: top;\n    }\n\n    .dataframe thead th {\n        text-align: right;\n    }\n</style>\n<table border=\"1\" class=\"dataframe\">\n  <thead>\n    <tr style=\"text-align: right;\">\n      <th></th>\n      <th>caseid</th>\n      <th>activity_1_O_Create Offer</th>\n      <th>activity_2_O_Create Offer</th>\n      <th>activity_3_O_Create Offer</th>\n      <th>activity_4_O_Create Offer</th>\n      <th>activity_5_O_Create Offer</th>\n      <th>activity_1_O_Created</th>\n      <th>activity_2_O_Created</th>\n      <th>activity_3_O_Created</th>\n      <th>activity_4_O_Created</th>\n      <th>...</th>\n      <th>resource_2_User_32</th>\n      <th>resource_3_User_32</th>\n      <th>resource_4_User_32</th>\n      <th>resource_5_User_32</th>\n      <th>ts_1</th>\n      <th>ts_2</th>\n      <th>ts_3</th>\n      <th>ts_4</th>\n      <th>ts_5</th>\n      <th>outcome</th>\n    </tr>\n  </thead>\n  <tbody>\n    <tr>\n      <th>0</th>\n      <td>Offer_1000681710</td>\n      <td>1</td>\n      <td>0</td>\n      <td>0</td>\n      <td>0</td>\n      <td>0</td>\n      <td>0</td>\n      <td>1</td>\n      <td>0</td>\n      <td>0</td>\n      <td>...</td>\n      <td>0</td>\n      <td>0</td>\n      <td>0</td>\n      <td>0</td>\n      <td>2016/02/02 18:24:54.170</td>\n      <td>2016/02/02 18:24:55.833</td>\n      <td>2016/02/02 18:25:14.889</td>\n      <td>2016/02/09 22:36:31.755</td>\n      <td>2016/02/10 00:55:41.368</td>\n      <td>True</td>\n    </tr>\n    <tr>\n      <th>1</th>\n      <td>Offer_1001553250</td>\n      <td>1</td>\n      <td>0</td>\n      <td>0</td>\n      <td>0</td>\n      <td>0</td>\n      <td>0</td>\n      <td>1</td>\n      <td>0</td>\n      <td>0</td>\n      <td>...</td>\n      <td>0</td>\n      <td>0</td>\n      <td>0</td>\n      <td>0</td>\n      <td>2016/01/16 03:16:41.868</td>\n      <td>2016/01/16 03:16:43.056</td>\n      <td>2016/01/16 03:16:58.528</td>\n      <td>2016/01/22 17:14:16.014</td>\n      <td>2016/01/26 19:14:10.052</td>\n      <td>True</td>\n    </tr>\n    <tr>\n      <th>2</th>\n      <td>Offer_1002136393</td>\n      <td>1</td>\n      <td>0</td>\n      <td>0</td>\n      <td>0</td>\n      <td>0</td>\n      <td>0</td>\n      <td>1</td>\n      <td>0</td>\n      <td>0</td>\n      <td>...</td>\n      <td>0</td>\n      <td>0</td>\n      <td>0</td>\n      <td>0</td>\n      <td>2016/01/29 17:46:49.529</td>\n      <td>2016/01/29 17:46:50.822</td>\n      <td>2016/01/29 17:47:10.378</td>\n      <td>2016/02/16 18:46:06.873</td>\n      <td>2016/02/22 15:42:42.278</td>\n      <td>True</td>\n    </tr>\n    <tr>\n      <th>3</th>\n      <td>Offer_1002236598</td>\n      <td>1</td>\n      <td>0</td>\n      <td>0</td>\n      <td>0</td>\n      <td>0</td>\n      <td>0</td>\n      <td>1</td>\n      <td>0</td>\n      <td>0</td>\n      <td>...</td>\n      <td>0</td>\n      <td>0</td>\n      <td>0</td>\n      <td>0</td>\n      <td>2016/01/12 18:24:55.557</td>\n      <td>2016/01/12 18:24:56.826</td>\n      <td>2016/01/12 18:25:08.174</td>\n      <td>2016/01/15 19:06:38.165</td>\n      <td>2016/01/18 22:33:14.113</td>\n      <td>True</td>\n    </tr>\n    <tr>\n      <th>4</th>\n      <td>Offer_1005366187</td>\n      <td>1</td>\n      <td>0</td>\n      <td>0</td>\n      <td>0</td>\n      <td>0</td>\n      <td>0</td>\n      <td>1</td>\n      <td>0</td>\n      <td>0</td>\n      <td>...</td>\n      <td>0</td>\n      <td>0</td>\n      <td>0</td>\n      <td>0</td>\n      <td>2016/02/01 21:21:51.853</td>\n      <td>2016/02/01 21:21:53.307</td>\n      <td>2016/02/01 21:22:06.186</td>\n      <td>2016/02/11 22:35:14.175</td>\n      <td>2016/02/15 22:23:50.211</td>\n      <td>True</td>\n    </tr>\n    <tr>\n      <th>...</th>\n      <td>...</td>\n      <td>...</td>\n      <td>...</td>\n      <td>...</td>\n      <td>...</td>\n      <td>...</td>\n      <td>...</td>\n      <td>...</td>\n      <td>...</td>\n      <td>...</td>\n      <td>...</td>\n      <td>...</td>\n      <td>...</td>\n      <td>...</td>\n      <td>...</td>\n      <td>...</td>\n      <td>...</td>\n      <td>...</td>\n      <td>...</td>\n      <td>...</td>\n      <td>...</td>\n    </tr>\n    <tr>\n      <th>2542</th>\n      <td>Offer_99101290</td>\n      <td>1</td>\n      <td>0</td>\n      <td>0</td>\n      <td>0</td>\n      <td>0</td>\n      <td>0</td>\n      <td>1</td>\n      <td>0</td>\n      <td>0</td>\n      <td>...</td>\n      <td>0</td>\n      <td>0</td>\n      <td>0</td>\n      <td>0</td>\n      <td>2016/02/12 23:56:11.915</td>\n      <td>2016/02/12 23:56:13.312</td>\n      <td>2016/02/12 23:56:35.610</td>\n      <td>2016/02/16 18:12:46.353</td>\n      <td>2016/02/16 18:13:23.726</td>\n      <td>True</td>\n    </tr>\n    <tr>\n      <th>2543</th>\n      <td>Offer_992471522</td>\n      <td>1</td>\n      <td>0</td>\n      <td>0</td>\n      <td>0</td>\n      <td>0</td>\n      <td>0</td>\n      <td>1</td>\n      <td>0</td>\n      <td>0</td>\n      <td>...</td>\n      <td>0</td>\n      <td>0</td>\n      <td>0</td>\n      <td>0</td>\n      <td>2016/02/18 00:12:18.561</td>\n      <td>2016/02/18 00:12:19.903</td>\n      <td>2016/02/18 00:12:37.882</td>\n      <td>2016/03/01 21:47:21.587</td>\n      <td>2016/03/22 15:30:26.199</td>\n      <td>True</td>\n    </tr>\n    <tr>\n      <th>2544</th>\n      <td>Offer_99473283</td>\n      <td>1</td>\n      <td>0</td>\n      <td>0</td>\n      <td>0</td>\n      <td>0</td>\n      <td>0</td>\n      <td>1</td>\n      <td>0</td>\n      <td>0</td>\n      <td>...</td>\n      <td>0</td>\n      <td>0</td>\n      <td>0</td>\n      <td>0</td>\n      <td>2016/02/03 20:59:31.775</td>\n      <td>2016/02/03 20:59:33.058</td>\n      <td>2016/02/03 21:03:57.787</td>\n      <td>2016/02/10 19:35:03.340</td>\n      <td>2016/02/22 16:13:10.784</td>\n      <td>True</td>\n    </tr>\n    <tr>\n      <th>2545</th>\n      <td>Offer_995784215</td>\n      <td>1</td>\n      <td>0</td>\n      <td>0</td>\n      <td>0</td>\n      <td>0</td>\n      <td>0</td>\n      <td>1</td>\n      <td>0</td>\n      <td>0</td>\n      <td>...</td>\n      <td>0</td>\n      <td>0</td>\n      <td>0</td>\n      <td>0</td>\n      <td>2016/02/15 17:06:12.610</td>\n      <td>2016/02/15 17:06:15.203</td>\n      <td>2016/02/15 17:06:31.030</td>\n      <td>2016/02/18 20:46:52.744</td>\n      <td>2016/02/23 20:47:09.974</td>\n      <td>True</td>\n    </tr>\n    <tr>\n      <th>2546</th>\n      <td>Offer_997411923</td>\n      <td>1</td>\n      <td>0</td>\n      <td>0</td>\n      <td>0</td>\n      <td>0</td>\n      <td>0</td>\n      <td>1</td>\n      <td>0</td>\n      <td>0</td>\n      <td>...</td>\n      <td>0</td>\n      <td>0</td>\n      <td>0</td>\n      <td>0</td>\n      <td>2016/01/02 20:25:44.202</td>\n      <td>2016/01/02 20:25:45.416</td>\n      <td>2016/01/02 20:26:19.140</td>\n      <td>2016/01/13 18:08:14.217</td>\n      <td>2016/01/14 16:00:14.440</td>\n      <td>True</td>\n    </tr>\n  </tbody>\n</table>\n<p>2547 rows × 437 columns</p>\n</div>"
     },
     "execution_count": 19,
     "metadata": {},
     "output_type": "execute_result"
    }
   ],
   "source": [
    "index_enc(x)"
   ],
   "metadata": {
    "collapsed": false,
    "ExecuteTime": {
     "end_time": "2024-01-11T16:06:14.370006Z",
     "start_time": "2024-01-11T16:06:13.778804Z"
    }
   },
   "id": "b4c920e11fbb5110"
  },
  {
   "cell_type": "markdown",
   "source": [
    "Train a decision tree (DT) and a randomforest (RF) from the scikit-learn package for outcome label prediction for the event log for prefix lengths L=2 and L=5.  Split 70-30 for training-testing (no temporal splitting or cross-validation needed!)."
   ],
   "metadata": {
    "collapsed": false
   },
   "id": "fb4b6f6d02d69897"
  },
  {
   "cell_type": "code",
   "execution_count": 20,
   "outputs": [],
   "source": [
    "def classification(X, y, classifier, seed):\n",
    "\n",
    "    X = X.astype(int)\n",
    "    y = y.astype(int)\n",
    "\n",
    "    X = np.nan_to_num(X)\n",
    "    clf = RandomForestClassifier()\n",
    "\n",
    "    if classifier == \"RF\":\n",
    "        clf = RandomForestClassifier(n_estimators=100, oob_score=True)\n",
    "    elif classifier == \"DT\":\n",
    "        clf = DecisionTreeClassifier(max_depth=5)\n",
    "\n",
    "    print(\"Training for \"+classifier+\"...\")\n",
    "\n",
    "    X_train, X_test, y_train, y_test = train_test_split(X, y, test_size=0.3, random_state=seed)\n",
    "\n",
    "    clf.fit(X_train, y_train)\n",
    "    y_pred = clf.predict(X_test)\n",
    "\n",
    "    precision = precision_score(y_test, y_pred, average='weighted')\n",
    "    recall = recall_score(y_test, y_pred, average='weighted')\n",
    "    f1 = f1_score(y_test, y_pred, average='weighted')\n",
    "\n",
    "    print(\"Precision: \"+str(precision))\n",
    "    print(\"Recall: \"+str(recall))\n",
    "    print(\"F1: \"+str(f1))\n",
    "\n",
    "    return {\"precision\": precision,\n",
    "            \"recall\": recall,\n",
    "            \"f1\": f1}"
   ],
   "metadata": {
    "collapsed": false,
    "ExecuteTime": {
     "end_time": "2024-01-11T16:06:48.097494Z",
     "start_time": "2024-01-11T16:06:48.094587Z"
    }
   },
   "id": "5b03f98afd156074"
  },
  {
   "cell_type": "code",
   "execution_count": 21,
   "outputs": [
    {
     "name": "stdout",
     "output_type": "stream",
     "text": [
      "Training for RF...\n",
      "Precision: 0.43384177777777777\n",
      "Recall: 0.6586666666666666\n",
      "F1: 0.5231211146838156\n"
     ]
    },
    {
     "data": {
      "text/plain": "{'precision': 0.43384177777777777,\n 'recall': 0.6586666666666666,\n 'f1': 0.5231211146838156}"
     },
     "execution_count": 21,
     "metadata": {},
     "output_type": "execute_result"
    }
   ],
   "source": [
    "x = create_prefix(df, 2)\n",
    "x_encoded = one_hot(x, \"activity\", \"aggr\")\n",
    "y = x[\"outcome\"]\n",
    "columns = x_encoded.columns\n",
    "columns = x_encoded.columns[1:len(columns)]\n",
    "classification(x_encoded[columns], y, \"RF\", 1)"
   ],
   "metadata": {
    "collapsed": false,
    "ExecuteTime": {
     "end_time": "2024-01-11T16:06:49.363803Z",
     "start_time": "2024-01-11T16:06:48.845180Z"
    }
   },
   "id": "e577c3c936bfc04d"
  },
  {
   "cell_type": "code",
   "execution_count": 22,
   "outputs": [
    {
     "name": "stdout",
     "output_type": "stream",
     "text": [
      "Training for RF...\n",
      "Precision: 0.648287101367231\n",
      "Recall: 0.6379084967320261\n",
      "F1: 0.500590445607946\n"
     ]
    },
    {
     "data": {
      "text/plain": "{'precision': 0.648287101367231,\n 'recall': 0.6379084967320261,\n 'f1': 0.500590445607946}"
     },
     "execution_count": 22,
     "metadata": {},
     "output_type": "execute_result"
    }
   ],
   "source": [
    "x = create_prefix(df, 5)\n",
    "x_encoded = one_hot(x, \"activity\", \"aggr\")\n",
    "y = x[\"outcome\"]\n",
    "columns = x_encoded.columns\n",
    "columns = x_encoded.columns[1:len(columns)]\n",
    "classification(x_encoded[columns], y, \"RF\", 1)"
   ],
   "metadata": {
    "collapsed": false,
    "ExecuteTime": {
     "end_time": "2024-01-11T16:06:53.064146Z",
     "start_time": "2024-01-11T16:06:52.537467Z"
    }
   },
   "id": "332f3a4c548e6918"
  },
  {
   "cell_type": "code",
   "execution_count": 23,
   "outputs": [
    {
     "name": "stdout",
     "output_type": "stream",
     "text": [
      "Training for DT...\n",
      "Precision: 0.43384177777777777\n",
      "Recall: 0.6586666666666666\n",
      "F1: 0.5231211146838156\n"
     ]
    },
    {
     "data": {
      "text/plain": "{'precision': 0.43384177777777777,\n 'recall': 0.6586666666666666,\n 'f1': 0.5231211146838156}"
     },
     "execution_count": 23,
     "metadata": {},
     "output_type": "execute_result"
    }
   ],
   "source": [
    "x = create_prefix(df, 2)\n",
    "x_encoded = one_hot(x, \"activity\", \"aggr\")\n",
    "y = x[\"outcome\"]\n",
    "columns = x_encoded.columns\n",
    "columns = x_encoded.columns[1:len(columns)]\n",
    "classification(x_encoded[columns], y, \"DT\", 1)"
   ],
   "metadata": {
    "collapsed": false,
    "ExecuteTime": {
     "end_time": "2024-01-11T16:06:54.194628Z",
     "start_time": "2024-01-11T16:06:53.782147Z"
    }
   },
   "id": "444837ffbade4505"
  },
  {
   "cell_type": "code",
   "execution_count": 24,
   "outputs": [
    {
     "name": "stdout",
     "output_type": "stream",
     "text": [
      "Training for DT...\n",
      "Precision: 0.6490531917641892\n",
      "Recall: 0.6392156862745098\n",
      "F1: 0.5058250804673823\n"
     ]
    },
    {
     "data": {
      "text/plain": "{'precision': 0.6490531917641892,\n 'recall': 0.6392156862745098,\n 'f1': 0.5058250804673823}"
     },
     "execution_count": 24,
     "metadata": {},
     "output_type": "execute_result"
    }
   ],
   "source": [
    "x = create_prefix(df, 5)\n",
    "x_encoded = one_hot(x, \"activity\", \"aggr\")\n",
    "y = x[\"outcome\"]\n",
    "columns = x_encoded.columns\n",
    "columns = x_encoded.columns[1:len(columns)]\n",
    "classification(x_encoded[columns], y, \"DT\", 1)\n"
   ],
   "metadata": {
    "collapsed": false,
    "ExecuteTime": {
     "end_time": "2024-01-11T16:06:55.180776Z",
     "start_time": "2024-01-11T16:06:54.756447Z"
    }
   },
   "id": "a80f21ffa9da7812"
  },
  {
   "cell_type": "code",
   "execution_count": null,
   "outputs": [],
   "source": [],
   "metadata": {
    "collapsed": false
   },
   "id": "96c18525dfbf830"
  }
 ],
 "metadata": {
  "kernelspec": {
   "display_name": "Python 3",
   "language": "python",
   "name": "python3"
  },
  "language_info": {
   "codemirror_mode": {
    "name": "ipython",
    "version": 2
   },
   "file_extension": ".py",
   "mimetype": "text/x-python",
   "name": "python",
   "nbconvert_exporter": "python",
   "pygments_lexer": "ipython2",
   "version": "2.7.6"
  }
 },
 "nbformat": 4,
 "nbformat_minor": 5
}
