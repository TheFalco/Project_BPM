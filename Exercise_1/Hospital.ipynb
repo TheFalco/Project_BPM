{
 "cells": [
  {
   "cell_type": "markdown",
   "source": [
    "# Exercises PPM Part 1 - Hospital dataset\n",
    "\n",
    "Imports Libraries"
   ],
   "metadata": {
    "collapsed": false
   },
   "id": "e18c27d5e6a7d915"
  },
  {
   "cell_type": "code",
   "execution_count": 2,
   "outputs": [],
   "source": [
    "import pandas as pd"
   ],
   "metadata": {
    "collapsed": false,
    "ExecuteTime": {
     "end_time": "2023-12-05T11:04:17.606138Z",
     "start_time": "2023-12-05T11:04:17.336555Z"
    }
   },
   "id": "6d5646a8e163a0b3"
  },
  {
   "cell_type": "markdown",
   "source": [
    "Load the event log as a dataframe "
   ],
   "metadata": {
    "collapsed": false
   },
   "id": "f818b501d696764b"
  },
  {
   "cell_type": "code",
   "execution_count": 3,
   "outputs": [
    {
     "data": {
      "text/plain": "       Unnamed: 0 case_id activity lifecycle resource            timestamp  \\\n0               1       A      NEW  complete     ResA  2012-12-16 19:33:10   \n1               2       A      FIN  complete      NaN  2013-12-15 19:00:37   \n2               3       A  RELEASE  complete      NaN  2013-12-16 03:53:38   \n3               4       A  CODE OK  complete      NaN  2013-12-17 12:56:29   \n4               5       A   BILLED  complete     ResB  2013-12-19 03:44:31   \n...           ...     ...      ...       ...      ...                  ...   \n49946       49947     PTN      NEW  complete     ResA  2013-03-27 22:29:13   \n49947       49948     PTN      FIN  complete      NaN  2013-05-27 00:43:02   \n49948       49949     PTN  RELEASE  complete      NaN  2013-05-27 01:56:12   \n49949       49950     PTN  CODE OK  complete      NaN  2013-05-30 01:42:39   \n49950       49951     PTN   BILLED  complete     ResB  2013-08-27 13:13:01   \n\n      actorange actred blocked casetype  ... iscancelled isclosed msgcode  \\\n0           NaN    NaN   False        A  ...       False     True     NaN   \n1           NaN    NaN     NaN      NaN  ...         NaN      NaN     NaN   \n2           NaN    NaN     NaN      NaN  ...         NaN      NaN     NaN   \n3         False  False     NaN      NaN  ...         NaN      NaN     NaN   \n4           NaN    NaN     NaN      NaN  ...         NaN      NaN     NaN   \n...         ...    ...     ...      ...  ...         ...      ...     ...   \n49946       NaN    NaN   False        A  ...       False     True     NaN   \n49947       NaN    NaN     NaN      NaN  ...         NaN      NaN     NaN   \n49948       NaN    NaN     NaN      NaN  ...         NaN      NaN     NaN   \n49949     False  False     NaN      NaN  ...         NaN      NaN     NaN   \n49950       NaN    NaN     NaN      NaN  ...         NaN      NaN     NaN   \n\n      msgcount msgtype speciality        state version activity_instance_id  \\\n0          NaN     NaN          A  In progress     NaN                    1   \n1          NaN     NaN        NaN       Closed     NaN                    2   \n2          NaN     NaN        NaN     Released     NaN                    3   \n3          0.0     NaN        NaN          NaN       A                    4   \n4          NaN     NaN        NaN       Billed     NaN                    5   \n...        ...     ...        ...          ...     ...                  ...   \n49946      NaN     NaN          L  In progress     NaN                49947   \n49947      NaN     NaN        NaN       Closed     NaN                49948   \n49948      NaN     NaN        NaN     Released     NaN                49949   \n49949      0.0     NaN        NaN          NaN       B                49950   \n49950      NaN     NaN        NaN       Billed     NaN                49951   \n\n       .order  \n0           1  \n1           2  \n2           3  \n3           4  \n4           5  \n...       ...  \n49946   49947  \n49947   49948  \n49948   49949  \n49949   49950  \n49950   49951  \n\n[49951 rows x 26 columns]",
      "text/html": "<div>\n<style scoped>\n    .dataframe tbody tr th:only-of-type {\n        vertical-align: middle;\n    }\n\n    .dataframe tbody tr th {\n        vertical-align: top;\n    }\n\n    .dataframe thead th {\n        text-align: right;\n    }\n</style>\n<table border=\"1\" class=\"dataframe\">\n  <thead>\n    <tr style=\"text-align: right;\">\n      <th></th>\n      <th>Unnamed: 0</th>\n      <th>case_id</th>\n      <th>activity</th>\n      <th>lifecycle</th>\n      <th>resource</th>\n      <th>timestamp</th>\n      <th>actorange</th>\n      <th>actred</th>\n      <th>blocked</th>\n      <th>casetype</th>\n      <th>...</th>\n      <th>iscancelled</th>\n      <th>isclosed</th>\n      <th>msgcode</th>\n      <th>msgcount</th>\n      <th>msgtype</th>\n      <th>speciality</th>\n      <th>state</th>\n      <th>version</th>\n      <th>activity_instance_id</th>\n      <th>.order</th>\n    </tr>\n  </thead>\n  <tbody>\n    <tr>\n      <th>0</th>\n      <td>1</td>\n      <td>A</td>\n      <td>NEW</td>\n      <td>complete</td>\n      <td>ResA</td>\n      <td>2012-12-16 19:33:10</td>\n      <td>NaN</td>\n      <td>NaN</td>\n      <td>False</td>\n      <td>A</td>\n      <td>...</td>\n      <td>False</td>\n      <td>True</td>\n      <td>NaN</td>\n      <td>NaN</td>\n      <td>NaN</td>\n      <td>A</td>\n      <td>In progress</td>\n      <td>NaN</td>\n      <td>1</td>\n      <td>1</td>\n    </tr>\n    <tr>\n      <th>1</th>\n      <td>2</td>\n      <td>A</td>\n      <td>FIN</td>\n      <td>complete</td>\n      <td>NaN</td>\n      <td>2013-12-15 19:00:37</td>\n      <td>NaN</td>\n      <td>NaN</td>\n      <td>NaN</td>\n      <td>NaN</td>\n      <td>...</td>\n      <td>NaN</td>\n      <td>NaN</td>\n      <td>NaN</td>\n      <td>NaN</td>\n      <td>NaN</td>\n      <td>NaN</td>\n      <td>Closed</td>\n      <td>NaN</td>\n      <td>2</td>\n      <td>2</td>\n    </tr>\n    <tr>\n      <th>2</th>\n      <td>3</td>\n      <td>A</td>\n      <td>RELEASE</td>\n      <td>complete</td>\n      <td>NaN</td>\n      <td>2013-12-16 03:53:38</td>\n      <td>NaN</td>\n      <td>NaN</td>\n      <td>NaN</td>\n      <td>NaN</td>\n      <td>...</td>\n      <td>NaN</td>\n      <td>NaN</td>\n      <td>NaN</td>\n      <td>NaN</td>\n      <td>NaN</td>\n      <td>NaN</td>\n      <td>Released</td>\n      <td>NaN</td>\n      <td>3</td>\n      <td>3</td>\n    </tr>\n    <tr>\n      <th>3</th>\n      <td>4</td>\n      <td>A</td>\n      <td>CODE OK</td>\n      <td>complete</td>\n      <td>NaN</td>\n      <td>2013-12-17 12:56:29</td>\n      <td>False</td>\n      <td>False</td>\n      <td>NaN</td>\n      <td>NaN</td>\n      <td>...</td>\n      <td>NaN</td>\n      <td>NaN</td>\n      <td>NaN</td>\n      <td>0.0</td>\n      <td>NaN</td>\n      <td>NaN</td>\n      <td>NaN</td>\n      <td>A</td>\n      <td>4</td>\n      <td>4</td>\n    </tr>\n    <tr>\n      <th>4</th>\n      <td>5</td>\n      <td>A</td>\n      <td>BILLED</td>\n      <td>complete</td>\n      <td>ResB</td>\n      <td>2013-12-19 03:44:31</td>\n      <td>NaN</td>\n      <td>NaN</td>\n      <td>NaN</td>\n      <td>NaN</td>\n      <td>...</td>\n      <td>NaN</td>\n      <td>NaN</td>\n      <td>NaN</td>\n      <td>NaN</td>\n      <td>NaN</td>\n      <td>NaN</td>\n      <td>Billed</td>\n      <td>NaN</td>\n      <td>5</td>\n      <td>5</td>\n    </tr>\n    <tr>\n      <th>...</th>\n      <td>...</td>\n      <td>...</td>\n      <td>...</td>\n      <td>...</td>\n      <td>...</td>\n      <td>...</td>\n      <td>...</td>\n      <td>...</td>\n      <td>...</td>\n      <td>...</td>\n      <td>...</td>\n      <td>...</td>\n      <td>...</td>\n      <td>...</td>\n      <td>...</td>\n      <td>...</td>\n      <td>...</td>\n      <td>...</td>\n      <td>...</td>\n      <td>...</td>\n      <td>...</td>\n    </tr>\n    <tr>\n      <th>49946</th>\n      <td>49947</td>\n      <td>PTN</td>\n      <td>NEW</td>\n      <td>complete</td>\n      <td>ResA</td>\n      <td>2013-03-27 22:29:13</td>\n      <td>NaN</td>\n      <td>NaN</td>\n      <td>False</td>\n      <td>A</td>\n      <td>...</td>\n      <td>False</td>\n      <td>True</td>\n      <td>NaN</td>\n      <td>NaN</td>\n      <td>NaN</td>\n      <td>L</td>\n      <td>In progress</td>\n      <td>NaN</td>\n      <td>49947</td>\n      <td>49947</td>\n    </tr>\n    <tr>\n      <th>49947</th>\n      <td>49948</td>\n      <td>PTN</td>\n      <td>FIN</td>\n      <td>complete</td>\n      <td>NaN</td>\n      <td>2013-05-27 00:43:02</td>\n      <td>NaN</td>\n      <td>NaN</td>\n      <td>NaN</td>\n      <td>NaN</td>\n      <td>...</td>\n      <td>NaN</td>\n      <td>NaN</td>\n      <td>NaN</td>\n      <td>NaN</td>\n      <td>NaN</td>\n      <td>NaN</td>\n      <td>Closed</td>\n      <td>NaN</td>\n      <td>49948</td>\n      <td>49948</td>\n    </tr>\n    <tr>\n      <th>49948</th>\n      <td>49949</td>\n      <td>PTN</td>\n      <td>RELEASE</td>\n      <td>complete</td>\n      <td>NaN</td>\n      <td>2013-05-27 01:56:12</td>\n      <td>NaN</td>\n      <td>NaN</td>\n      <td>NaN</td>\n      <td>NaN</td>\n      <td>...</td>\n      <td>NaN</td>\n      <td>NaN</td>\n      <td>NaN</td>\n      <td>NaN</td>\n      <td>NaN</td>\n      <td>NaN</td>\n      <td>Released</td>\n      <td>NaN</td>\n      <td>49949</td>\n      <td>49949</td>\n    </tr>\n    <tr>\n      <th>49949</th>\n      <td>49950</td>\n      <td>PTN</td>\n      <td>CODE OK</td>\n      <td>complete</td>\n      <td>NaN</td>\n      <td>2013-05-30 01:42:39</td>\n      <td>False</td>\n      <td>False</td>\n      <td>NaN</td>\n      <td>NaN</td>\n      <td>...</td>\n      <td>NaN</td>\n      <td>NaN</td>\n      <td>NaN</td>\n      <td>0.0</td>\n      <td>NaN</td>\n      <td>NaN</td>\n      <td>NaN</td>\n      <td>B</td>\n      <td>49950</td>\n      <td>49950</td>\n    </tr>\n    <tr>\n      <th>49950</th>\n      <td>49951</td>\n      <td>PTN</td>\n      <td>BILLED</td>\n      <td>complete</td>\n      <td>ResB</td>\n      <td>2013-08-27 13:13:01</td>\n      <td>NaN</td>\n      <td>NaN</td>\n      <td>NaN</td>\n      <td>NaN</td>\n      <td>...</td>\n      <td>NaN</td>\n      <td>NaN</td>\n      <td>NaN</td>\n      <td>NaN</td>\n      <td>NaN</td>\n      <td>NaN</td>\n      <td>Billed</td>\n      <td>NaN</td>\n      <td>49951</td>\n      <td>49951</td>\n    </tr>\n  </tbody>\n</table>\n<p>49951 rows × 26 columns</p>\n</div>"
     },
     "execution_count": 3,
     "metadata": {},
     "output_type": "execute_result"
    }
   ],
   "source": [
    "hospital_df = pd.read_csv(\"Event_Logs/hospital_billing.csv\")\n",
    "hospital_df"
   ],
   "metadata": {
    "collapsed": false,
    "ExecuteTime": {
     "end_time": "2023-12-05T11:04:19.694429Z",
     "start_time": "2023-12-05T11:04:19.561365Z"
    }
   },
   "id": "f869f3fd081c3463"
  },
  {
   "cell_type": "markdown",
   "source": [
    "Rename the attributes as “caseid, activity, ts”, if needed"
   ],
   "metadata": {
    "collapsed": false
   },
   "id": "a676ddc26db1907c"
  },
  {
   "cell_type": "code",
   "execution_count": 4,
   "outputs": [
    {
     "data": {
      "text/plain": "       Unnamed: 0 caseid activity lifecycle resource                   ts  \\\n0               1      A      NEW  complete     ResA  2012-12-16 19:33:10   \n1               2      A      FIN  complete      NaN  2013-12-15 19:00:37   \n2               3      A  RELEASE  complete      NaN  2013-12-16 03:53:38   \n3               4      A  CODE OK  complete      NaN  2013-12-17 12:56:29   \n4               5      A   BILLED  complete     ResB  2013-12-19 03:44:31   \n...           ...    ...      ...       ...      ...                  ...   \n49946       49947    PTN      NEW  complete     ResA  2013-03-27 22:29:13   \n49947       49948    PTN      FIN  complete      NaN  2013-05-27 00:43:02   \n49948       49949    PTN  RELEASE  complete      NaN  2013-05-27 01:56:12   \n49949       49950    PTN  CODE OK  complete      NaN  2013-05-30 01:42:39   \n49950       49951    PTN   BILLED  complete     ResB  2013-08-27 13:13:01   \n\n      actorange actred blocked casetype  ... iscancelled isclosed msgcode  \\\n0           NaN    NaN   False        A  ...       False     True     NaN   \n1           NaN    NaN     NaN      NaN  ...         NaN      NaN     NaN   \n2           NaN    NaN     NaN      NaN  ...         NaN      NaN     NaN   \n3         False  False     NaN      NaN  ...         NaN      NaN     NaN   \n4           NaN    NaN     NaN      NaN  ...         NaN      NaN     NaN   \n...         ...    ...     ...      ...  ...         ...      ...     ...   \n49946       NaN    NaN   False        A  ...       False     True     NaN   \n49947       NaN    NaN     NaN      NaN  ...         NaN      NaN     NaN   \n49948       NaN    NaN     NaN      NaN  ...         NaN      NaN     NaN   \n49949     False  False     NaN      NaN  ...         NaN      NaN     NaN   \n49950       NaN    NaN     NaN      NaN  ...         NaN      NaN     NaN   \n\n      msgcount msgtype speciality        state version activity_instance_id  \\\n0          NaN     NaN          A  In progress     NaN                    1   \n1          NaN     NaN        NaN       Closed     NaN                    2   \n2          NaN     NaN        NaN     Released     NaN                    3   \n3          0.0     NaN        NaN          NaN       A                    4   \n4          NaN     NaN        NaN       Billed     NaN                    5   \n...        ...     ...        ...          ...     ...                  ...   \n49946      NaN     NaN          L  In progress     NaN                49947   \n49947      NaN     NaN        NaN       Closed     NaN                49948   \n49948      NaN     NaN        NaN     Released     NaN                49949   \n49949      0.0     NaN        NaN          NaN       B                49950   \n49950      NaN     NaN        NaN       Billed     NaN                49951   \n\n       .order  \n0           1  \n1           2  \n2           3  \n3           4  \n4           5  \n...       ...  \n49946   49947  \n49947   49948  \n49948   49949  \n49949   49950  \n49950   49951  \n\n[49951 rows x 26 columns]",
      "text/html": "<div>\n<style scoped>\n    .dataframe tbody tr th:only-of-type {\n        vertical-align: middle;\n    }\n\n    .dataframe tbody tr th {\n        vertical-align: top;\n    }\n\n    .dataframe thead th {\n        text-align: right;\n    }\n</style>\n<table border=\"1\" class=\"dataframe\">\n  <thead>\n    <tr style=\"text-align: right;\">\n      <th></th>\n      <th>Unnamed: 0</th>\n      <th>caseid</th>\n      <th>activity</th>\n      <th>lifecycle</th>\n      <th>resource</th>\n      <th>ts</th>\n      <th>actorange</th>\n      <th>actred</th>\n      <th>blocked</th>\n      <th>casetype</th>\n      <th>...</th>\n      <th>iscancelled</th>\n      <th>isclosed</th>\n      <th>msgcode</th>\n      <th>msgcount</th>\n      <th>msgtype</th>\n      <th>speciality</th>\n      <th>state</th>\n      <th>version</th>\n      <th>activity_instance_id</th>\n      <th>.order</th>\n    </tr>\n  </thead>\n  <tbody>\n    <tr>\n      <th>0</th>\n      <td>1</td>\n      <td>A</td>\n      <td>NEW</td>\n      <td>complete</td>\n      <td>ResA</td>\n      <td>2012-12-16 19:33:10</td>\n      <td>NaN</td>\n      <td>NaN</td>\n      <td>False</td>\n      <td>A</td>\n      <td>...</td>\n      <td>False</td>\n      <td>True</td>\n      <td>NaN</td>\n      <td>NaN</td>\n      <td>NaN</td>\n      <td>A</td>\n      <td>In progress</td>\n      <td>NaN</td>\n      <td>1</td>\n      <td>1</td>\n    </tr>\n    <tr>\n      <th>1</th>\n      <td>2</td>\n      <td>A</td>\n      <td>FIN</td>\n      <td>complete</td>\n      <td>NaN</td>\n      <td>2013-12-15 19:00:37</td>\n      <td>NaN</td>\n      <td>NaN</td>\n      <td>NaN</td>\n      <td>NaN</td>\n      <td>...</td>\n      <td>NaN</td>\n      <td>NaN</td>\n      <td>NaN</td>\n      <td>NaN</td>\n      <td>NaN</td>\n      <td>NaN</td>\n      <td>Closed</td>\n      <td>NaN</td>\n      <td>2</td>\n      <td>2</td>\n    </tr>\n    <tr>\n      <th>2</th>\n      <td>3</td>\n      <td>A</td>\n      <td>RELEASE</td>\n      <td>complete</td>\n      <td>NaN</td>\n      <td>2013-12-16 03:53:38</td>\n      <td>NaN</td>\n      <td>NaN</td>\n      <td>NaN</td>\n      <td>NaN</td>\n      <td>...</td>\n      <td>NaN</td>\n      <td>NaN</td>\n      <td>NaN</td>\n      <td>NaN</td>\n      <td>NaN</td>\n      <td>NaN</td>\n      <td>Released</td>\n      <td>NaN</td>\n      <td>3</td>\n      <td>3</td>\n    </tr>\n    <tr>\n      <th>3</th>\n      <td>4</td>\n      <td>A</td>\n      <td>CODE OK</td>\n      <td>complete</td>\n      <td>NaN</td>\n      <td>2013-12-17 12:56:29</td>\n      <td>False</td>\n      <td>False</td>\n      <td>NaN</td>\n      <td>NaN</td>\n      <td>...</td>\n      <td>NaN</td>\n      <td>NaN</td>\n      <td>NaN</td>\n      <td>0.0</td>\n      <td>NaN</td>\n      <td>NaN</td>\n      <td>NaN</td>\n      <td>A</td>\n      <td>4</td>\n      <td>4</td>\n    </tr>\n    <tr>\n      <th>4</th>\n      <td>5</td>\n      <td>A</td>\n      <td>BILLED</td>\n      <td>complete</td>\n      <td>ResB</td>\n      <td>2013-12-19 03:44:31</td>\n      <td>NaN</td>\n      <td>NaN</td>\n      <td>NaN</td>\n      <td>NaN</td>\n      <td>...</td>\n      <td>NaN</td>\n      <td>NaN</td>\n      <td>NaN</td>\n      <td>NaN</td>\n      <td>NaN</td>\n      <td>NaN</td>\n      <td>Billed</td>\n      <td>NaN</td>\n      <td>5</td>\n      <td>5</td>\n    </tr>\n    <tr>\n      <th>...</th>\n      <td>...</td>\n      <td>...</td>\n      <td>...</td>\n      <td>...</td>\n      <td>...</td>\n      <td>...</td>\n      <td>...</td>\n      <td>...</td>\n      <td>...</td>\n      <td>...</td>\n      <td>...</td>\n      <td>...</td>\n      <td>...</td>\n      <td>...</td>\n      <td>...</td>\n      <td>...</td>\n      <td>...</td>\n      <td>...</td>\n      <td>...</td>\n      <td>...</td>\n      <td>...</td>\n    </tr>\n    <tr>\n      <th>49946</th>\n      <td>49947</td>\n      <td>PTN</td>\n      <td>NEW</td>\n      <td>complete</td>\n      <td>ResA</td>\n      <td>2013-03-27 22:29:13</td>\n      <td>NaN</td>\n      <td>NaN</td>\n      <td>False</td>\n      <td>A</td>\n      <td>...</td>\n      <td>False</td>\n      <td>True</td>\n      <td>NaN</td>\n      <td>NaN</td>\n      <td>NaN</td>\n      <td>L</td>\n      <td>In progress</td>\n      <td>NaN</td>\n      <td>49947</td>\n      <td>49947</td>\n    </tr>\n    <tr>\n      <th>49947</th>\n      <td>49948</td>\n      <td>PTN</td>\n      <td>FIN</td>\n      <td>complete</td>\n      <td>NaN</td>\n      <td>2013-05-27 00:43:02</td>\n      <td>NaN</td>\n      <td>NaN</td>\n      <td>NaN</td>\n      <td>NaN</td>\n      <td>...</td>\n      <td>NaN</td>\n      <td>NaN</td>\n      <td>NaN</td>\n      <td>NaN</td>\n      <td>NaN</td>\n      <td>NaN</td>\n      <td>Closed</td>\n      <td>NaN</td>\n      <td>49948</td>\n      <td>49948</td>\n    </tr>\n    <tr>\n      <th>49948</th>\n      <td>49949</td>\n      <td>PTN</td>\n      <td>RELEASE</td>\n      <td>complete</td>\n      <td>NaN</td>\n      <td>2013-05-27 01:56:12</td>\n      <td>NaN</td>\n      <td>NaN</td>\n      <td>NaN</td>\n      <td>NaN</td>\n      <td>...</td>\n      <td>NaN</td>\n      <td>NaN</td>\n      <td>NaN</td>\n      <td>NaN</td>\n      <td>NaN</td>\n      <td>NaN</td>\n      <td>Released</td>\n      <td>NaN</td>\n      <td>49949</td>\n      <td>49949</td>\n    </tr>\n    <tr>\n      <th>49949</th>\n      <td>49950</td>\n      <td>PTN</td>\n      <td>CODE OK</td>\n      <td>complete</td>\n      <td>NaN</td>\n      <td>2013-05-30 01:42:39</td>\n      <td>False</td>\n      <td>False</td>\n      <td>NaN</td>\n      <td>NaN</td>\n      <td>...</td>\n      <td>NaN</td>\n      <td>NaN</td>\n      <td>NaN</td>\n      <td>0.0</td>\n      <td>NaN</td>\n      <td>NaN</td>\n      <td>NaN</td>\n      <td>B</td>\n      <td>49950</td>\n      <td>49950</td>\n    </tr>\n    <tr>\n      <th>49950</th>\n      <td>49951</td>\n      <td>PTN</td>\n      <td>BILLED</td>\n      <td>complete</td>\n      <td>ResB</td>\n      <td>2013-08-27 13:13:01</td>\n      <td>NaN</td>\n      <td>NaN</td>\n      <td>NaN</td>\n      <td>NaN</td>\n      <td>...</td>\n      <td>NaN</td>\n      <td>NaN</td>\n      <td>NaN</td>\n      <td>NaN</td>\n      <td>NaN</td>\n      <td>NaN</td>\n      <td>Billed</td>\n      <td>NaN</td>\n      <td>49951</td>\n      <td>49951</td>\n    </tr>\n  </tbody>\n</table>\n<p>49951 rows × 26 columns</p>\n</div>"
     },
     "execution_count": 4,
     "metadata": {},
     "output_type": "execute_result"
    }
   ],
   "source": [
    "hospital_df = hospital_df.rename(columns={\"case_id\": \"caseid\", \"timestamp\":\"ts\"})\n",
    "hospital_df"
   ],
   "metadata": {
    "collapsed": false,
    "ExecuteTime": {
     "end_time": "2023-12-05T11:04:58.972779Z",
     "start_time": "2023-12-05T11:04:58.924659Z"
    }
   },
   "id": "6b4004940631c8bb"
  },
  {
   "cell_type": "markdown",
   "source": [
    "Create a new dataframe retaining only the caseid, activity and ts attributes"
   ],
   "metadata": {
    "collapsed": false
   },
   "id": "f49bd08c88cdf129"
  },
  {
   "cell_type": "code",
   "execution_count": 5,
   "outputs": [
    {
     "data": {
      "text/plain": "      caseid activity                  ts\n0          A      NEW 2012-12-16 19:33:10\n1          A      FIN 2013-12-15 19:00:37\n2          A  RELEASE 2013-12-16 03:53:38\n3          A  CODE OK 2013-12-17 12:56:29\n4          A   BILLED 2013-12-19 03:44:31\n...      ...      ...                 ...\n49946    PTN      NEW 2013-03-27 22:29:13\n49947    PTN      FIN 2013-05-27 00:43:02\n49948    PTN  RELEASE 2013-05-27 01:56:12\n49949    PTN  CODE OK 2013-05-30 01:42:39\n49950    PTN   BILLED 2013-08-27 13:13:01\n\n[49951 rows x 3 columns]",
      "text/html": "<div>\n<style scoped>\n    .dataframe tbody tr th:only-of-type {\n        vertical-align: middle;\n    }\n\n    .dataframe tbody tr th {\n        vertical-align: top;\n    }\n\n    .dataframe thead th {\n        text-align: right;\n    }\n</style>\n<table border=\"1\" class=\"dataframe\">\n  <thead>\n    <tr style=\"text-align: right;\">\n      <th></th>\n      <th>caseid</th>\n      <th>activity</th>\n      <th>ts</th>\n    </tr>\n  </thead>\n  <tbody>\n    <tr>\n      <th>0</th>\n      <td>A</td>\n      <td>NEW</td>\n      <td>2012-12-16 19:33:10</td>\n    </tr>\n    <tr>\n      <th>1</th>\n      <td>A</td>\n      <td>FIN</td>\n      <td>2013-12-15 19:00:37</td>\n    </tr>\n    <tr>\n      <th>2</th>\n      <td>A</td>\n      <td>RELEASE</td>\n      <td>2013-12-16 03:53:38</td>\n    </tr>\n    <tr>\n      <th>3</th>\n      <td>A</td>\n      <td>CODE OK</td>\n      <td>2013-12-17 12:56:29</td>\n    </tr>\n    <tr>\n      <th>4</th>\n      <td>A</td>\n      <td>BILLED</td>\n      <td>2013-12-19 03:44:31</td>\n    </tr>\n    <tr>\n      <th>...</th>\n      <td>...</td>\n      <td>...</td>\n      <td>...</td>\n    </tr>\n    <tr>\n      <th>49946</th>\n      <td>PTN</td>\n      <td>NEW</td>\n      <td>2013-03-27 22:29:13</td>\n    </tr>\n    <tr>\n      <th>49947</th>\n      <td>PTN</td>\n      <td>FIN</td>\n      <td>2013-05-27 00:43:02</td>\n    </tr>\n    <tr>\n      <th>49948</th>\n      <td>PTN</td>\n      <td>RELEASE</td>\n      <td>2013-05-27 01:56:12</td>\n    </tr>\n    <tr>\n      <th>49949</th>\n      <td>PTN</td>\n      <td>CODE OK</td>\n      <td>2013-05-30 01:42:39</td>\n    </tr>\n    <tr>\n      <th>49950</th>\n      <td>PTN</td>\n      <td>BILLED</td>\n      <td>2013-08-27 13:13:01</td>\n    </tr>\n  </tbody>\n</table>\n<p>49951 rows × 3 columns</p>\n</div>"
     },
     "execution_count": 5,
     "metadata": {},
     "output_type": "execute_result"
    }
   ],
   "source": [
    "df = hospital_df[[\"caseid\", \"activity\", \"ts\"]].copy()\n",
    "df[\"ts\"] = pd.to_datetime(df[\"ts\"])\n",
    "df"
   ],
   "metadata": {
    "collapsed": false,
    "ExecuteTime": {
     "end_time": "2023-12-05T11:05:10.003554Z",
     "start_time": "2023-12-05T11:05:09.987185Z"
    }
   },
   "id": "1205c93b871a2225"
  },
  {
   "cell_type": "markdown",
   "source": [
    "Create a new dataframe with columns caseid, list of events in a case (ordered by timestamp)"
   ],
   "metadata": {
    "collapsed": false
   },
   "id": "ec3e38f2937077e5"
  },
  {
   "cell_type": "code",
   "execution_count": 6,
   "outputs": [
    {
     "data": {
      "text/plain": "     caseid                                           activity\n0         A               [NEW, FIN, RELEASE, CODE OK, BILLED]\n1        AA  [NEW, CHANGE DIAGN, FIN, RELEASE, CODE OK, BIL...\n2       AAA                                              [NEW]\n3       AAB                                              [NEW]\n4       AAC  [NEW, CHANGE DIAGN, FIN, RELEASE, CODE OK, BIL...\n...     ...                                                ...\n9994    ZZI       [NEW, FIN, RELEASE, CODE OK, REOPEN, DELETE]\n9995    ZZJ                                              [NEW]\n9996    ZZK  [NEW, CHANGE DIAGN, FIN, RELEASE, CODE OK, BIL...\n9997    ZZL               [NEW, FIN, RELEASE, CODE OK, BILLED]\n9998    ZZM  [NEW, CHANGE DIAGN, FIN, RELEASE, CODE OK, BIL...\n\n[9999 rows x 2 columns]",
      "text/html": "<div>\n<style scoped>\n    .dataframe tbody tr th:only-of-type {\n        vertical-align: middle;\n    }\n\n    .dataframe tbody tr th {\n        vertical-align: top;\n    }\n\n    .dataframe thead th {\n        text-align: right;\n    }\n</style>\n<table border=\"1\" class=\"dataframe\">\n  <thead>\n    <tr style=\"text-align: right;\">\n      <th></th>\n      <th>caseid</th>\n      <th>activity</th>\n    </tr>\n  </thead>\n  <tbody>\n    <tr>\n      <th>0</th>\n      <td>A</td>\n      <td>[NEW, FIN, RELEASE, CODE OK, BILLED]</td>\n    </tr>\n    <tr>\n      <th>1</th>\n      <td>AA</td>\n      <td>[NEW, CHANGE DIAGN, FIN, RELEASE, CODE OK, BIL...</td>\n    </tr>\n    <tr>\n      <th>2</th>\n      <td>AAA</td>\n      <td>[NEW]</td>\n    </tr>\n    <tr>\n      <th>3</th>\n      <td>AAB</td>\n      <td>[NEW]</td>\n    </tr>\n    <tr>\n      <th>4</th>\n      <td>AAC</td>\n      <td>[NEW, CHANGE DIAGN, FIN, RELEASE, CODE OK, BIL...</td>\n    </tr>\n    <tr>\n      <th>...</th>\n      <td>...</td>\n      <td>...</td>\n    </tr>\n    <tr>\n      <th>9994</th>\n      <td>ZZI</td>\n      <td>[NEW, FIN, RELEASE, CODE OK, REOPEN, DELETE]</td>\n    </tr>\n    <tr>\n      <th>9995</th>\n      <td>ZZJ</td>\n      <td>[NEW]</td>\n    </tr>\n    <tr>\n      <th>9996</th>\n      <td>ZZK</td>\n      <td>[NEW, CHANGE DIAGN, FIN, RELEASE, CODE OK, BIL...</td>\n    </tr>\n    <tr>\n      <th>9997</th>\n      <td>ZZL</td>\n      <td>[NEW, FIN, RELEASE, CODE OK, BILLED]</td>\n    </tr>\n    <tr>\n      <th>9998</th>\n      <td>ZZM</td>\n      <td>[NEW, CHANGE DIAGN, FIN, RELEASE, CODE OK, BIL...</td>\n    </tr>\n  </tbody>\n</table>\n<p>9999 rows × 2 columns</p>\n</div>"
     },
     "execution_count": 6,
     "metadata": {},
     "output_type": "execute_result"
    }
   ],
   "source": [
    "res = df.sort_values(by=['caseid','ts']).groupby('caseid', as_index=False)['activity'].apply(list)\n",
    "res"
   ],
   "metadata": {
    "collapsed": false,
    "ExecuteTime": {
     "end_time": "2023-12-05T11:05:18.137720Z",
     "start_time": "2023-12-05T11:05:18.013656Z"
    }
   },
   "id": "2f13d2bbd243f854"
  },
  {
   "cell_type": "markdown",
   "source": [
    "Augment the event log just created with two new attributes: duration, event_number"
   ],
   "metadata": {
    "collapsed": false
   },
   "id": "145827b26117228e"
  },
  {
   "cell_type": "code",
   "execution_count": 7,
   "outputs": [
    {
     "data": {
      "text/plain": "     caseid                                           activity  \\\n0         A               [NEW, FIN, RELEASE, CODE OK, BILLED]   \n1        AA  [NEW, CHANGE DIAGN, FIN, RELEASE, CODE OK, BIL...   \n2       AAA                                              [NEW]   \n3       AAB                                              [NEW]   \n4       AAC  [NEW, CHANGE DIAGN, FIN, RELEASE, CODE OK, BIL...   \n...     ...                                                ...   \n9994    ZZI       [NEW, FIN, RELEASE, CODE OK, REOPEN, DELETE]   \n9995    ZZJ                                              [NEW]   \n9996    ZZK  [NEW, CHANGE DIAGN, FIN, RELEASE, CODE OK, BIL...   \n9997    ZZL               [NEW, FIN, RELEASE, CODE OK, BILLED]   \n9998    ZZM  [NEW, CHANGE DIAGN, FIN, RELEASE, CODE OK, BIL...   \n\n              duration  event_number  \n0    367 days 08:11:21             5  \n1    193 days 10:31:09             6  \n2      0 days 00:00:00             1  \n3      0 days 00:00:00             1  \n4    186 days 12:20:43             6  \n...                ...           ...  \n9994 117 days 18:41:22             6  \n9995   0 days 00:00:00             1  \n9996 116 days 11:07:50             6  \n9997 158 days 07:16:47             5  \n9998 158 days 10:52:19             6  \n\n[9999 rows x 4 columns]",
      "text/html": "<div>\n<style scoped>\n    .dataframe tbody tr th:only-of-type {\n        vertical-align: middle;\n    }\n\n    .dataframe tbody tr th {\n        vertical-align: top;\n    }\n\n    .dataframe thead th {\n        text-align: right;\n    }\n</style>\n<table border=\"1\" class=\"dataframe\">\n  <thead>\n    <tr style=\"text-align: right;\">\n      <th></th>\n      <th>caseid</th>\n      <th>activity</th>\n      <th>duration</th>\n      <th>event_number</th>\n    </tr>\n  </thead>\n  <tbody>\n    <tr>\n      <th>0</th>\n      <td>A</td>\n      <td>[NEW, FIN, RELEASE, CODE OK, BILLED]</td>\n      <td>367 days 08:11:21</td>\n      <td>5</td>\n    </tr>\n    <tr>\n      <th>1</th>\n      <td>AA</td>\n      <td>[NEW, CHANGE DIAGN, FIN, RELEASE, CODE OK, BIL...</td>\n      <td>193 days 10:31:09</td>\n      <td>6</td>\n    </tr>\n    <tr>\n      <th>2</th>\n      <td>AAA</td>\n      <td>[NEW]</td>\n      <td>0 days 00:00:00</td>\n      <td>1</td>\n    </tr>\n    <tr>\n      <th>3</th>\n      <td>AAB</td>\n      <td>[NEW]</td>\n      <td>0 days 00:00:00</td>\n      <td>1</td>\n    </tr>\n    <tr>\n      <th>4</th>\n      <td>AAC</td>\n      <td>[NEW, CHANGE DIAGN, FIN, RELEASE, CODE OK, BIL...</td>\n      <td>186 days 12:20:43</td>\n      <td>6</td>\n    </tr>\n    <tr>\n      <th>...</th>\n      <td>...</td>\n      <td>...</td>\n      <td>...</td>\n      <td>...</td>\n    </tr>\n    <tr>\n      <th>9994</th>\n      <td>ZZI</td>\n      <td>[NEW, FIN, RELEASE, CODE OK, REOPEN, DELETE]</td>\n      <td>117 days 18:41:22</td>\n      <td>6</td>\n    </tr>\n    <tr>\n      <th>9995</th>\n      <td>ZZJ</td>\n      <td>[NEW]</td>\n      <td>0 days 00:00:00</td>\n      <td>1</td>\n    </tr>\n    <tr>\n      <th>9996</th>\n      <td>ZZK</td>\n      <td>[NEW, CHANGE DIAGN, FIN, RELEASE, CODE OK, BIL...</td>\n      <td>116 days 11:07:50</td>\n      <td>6</td>\n    </tr>\n    <tr>\n      <th>9997</th>\n      <td>ZZL</td>\n      <td>[NEW, FIN, RELEASE, CODE OK, BILLED]</td>\n      <td>158 days 07:16:47</td>\n      <td>5</td>\n    </tr>\n    <tr>\n      <th>9998</th>\n      <td>ZZM</td>\n      <td>[NEW, CHANGE DIAGN, FIN, RELEASE, CODE OK, BIL...</td>\n      <td>158 days 10:52:19</td>\n      <td>6</td>\n    </tr>\n  </tbody>\n</table>\n<p>9999 rows × 4 columns</p>\n</div>"
     },
     "execution_count": 7,
     "metadata": {},
     "output_type": "execute_result"
    }
   ],
   "source": [
    "# Calculate duration of each caseid\n",
    "duration = (df.sort_values(by=['caseid', 'ts']).groupby('caseid')['ts'].last() - df.sort_values(by=['caseid', 'ts']).groupby('caseid')['ts'].first()).to_frame('duration')\n",
    "\n",
    "# Count occurrences of activity in each caseid\n",
    "event_num = df.groupby('caseid')['activity'].count().to_frame('event_number')\n",
    "\n",
    "# Merge df with calculated columns\n",
    "df_2 = pd.merge(pd.merge(res, duration, on=\"caseid\"), event_num, on=\"caseid\")\n",
    "df_2"
   ],
   "metadata": {
    "collapsed": false,
    "ExecuteTime": {
     "end_time": "2023-12-05T11:05:43.809779Z",
     "start_time": "2023-12-05T11:05:43.741994Z"
    }
   },
   "id": "d8b35df4e25624e1"
  },
  {
   "cell_type": "markdown",
   "source": [
    "Find the longest/shortest case by duration"
   ],
   "metadata": {
    "collapsed": false
   },
   "id": "90e3ab075d859d2"
  },
  {
   "cell_type": "code",
   "execution_count": 9,
   "outputs": [
    {
     "name": "stdout",
     "output_type": "stream",
     "text": [
      "The longest cases by duration are the following: GTC\n",
      "\n",
      "The shortest cases by duration are the following: AAA,AAB,AAD,AAK,ABK,ACF,ACG,ACH,ACL,ACN,ADL, AE,AEM,AFC,AFE,AFK,AFM,AGH,AGJ,AHD,AHJ,AHL,AJA,AJC,AJG,AKE,AKF,AKG,AKK,ALB,ALE,ALK,AMA,AML,ANL,AOC,AOH, AP,APC,APF,API,APK,AQB,AQG,ARG,ARL,ARN,ASF,ASM,ATC,ATE,ATF,ATN, AU,AUA,AUE,AUH,AUI,AUJ,AVH,AWD,AWG,AWM,AXB, AY,AYB,AZA,AZF,AZL,BAB,BAD,BAK,BBK,BCF,BCG,BCH,BCL,BCN,BDL,BEM,BFC,BFM,BGH,BGJ,BHD,BHI,BHJ,BJA,BJC,BJG,BJN,BKE,BKG,BKK,BLB,BLE,BLK,BMA,BML,BNL,BOC,BOF,BOH,BPC,BPF,BPI,BPK,BQG,BRG,BRL,BRN,BSG,BSM,BTA,BTE,BTF,BTJ,BTM,BTN, BU,BUA,BUH,BUI,BUJ,BVH,BWD,BWE,BWG,BWM,BXB,BXK, BY,BYB,BYL,BZA,BZF,BZL,CAB,CAD,CAK,CBK,CCF,CCG,CCH,CCL,CCN,CDL, CE,CEA,CEC,CEK,CEM,CFM,CGH,CGJ,CHD,CHI,CHJ,CHL,CJA,CJC,CJG,CKE,CKF,CKG,CKK,CLB,CLE,CLK,CMA,CML,CNJ,CNL,COC,COF,COH,COM, CP,CPC,CPF,CPI,CPK, CR,CRG,CRL,CSM,CTA,CTE,CTF,CTH,CTJ,CTM, CU,CUA,CUH,CUI,CUJ,CVH,CWD,CWM,CXB,CXK, CY,CYB,CYL,CZA,CZL,DAD,DAK,DBK,DCF,DCH,DCL,DCN,DDF,DDI,DDL, DE,DEA,DEC,DEK,DEM,DFC,DFM,DGH,DGJ,DHD,DHI,DHJ,DHL,DHN,DJA,DJG,DKE,DKF,DKG,DKK,DLB,DLE,DLK,DMA,DML,DNJ,DNL,DOC,DOF,DOH,DOM,DPC,DPF,DPI,DQG, DR,DRG,DRL,DRN,DSC,DSD,DSM,DSN,DTA,DTF,DTH,DTJ,DTM, DU,DUA,DUH,DUI,DVH,DWD,DWM,DXB,DXK, DY,DYB,DYL,DZA,DZL,EAD,EAK,ECH,ECL,EDF,EDI,EDL, EE,EEA,EEC,EEM,EFC,EFM,EGD,EGH,EGJ,EHD,EHI,EHJ,EHL,EHN,EJA,EJF,EJG,EKE,EKF,EKG,EKK,ELB,ELE,ELK,EMA,EML,ENJ,ENL,EOC,EOF,EOH,EPF,EPI,EPK,EQG, ER,ERG,ERL,ERN,ESC,ESD,ESM,ESN,ETA,ETE,ETF,ETH,ETJ,ETM, EU,EUA,EUH,EUI,EVH,EWB,EWD,EWM,EXB,EXK, EY,EYB,EYL,EZA,EZL,FAD,FAK,FCF,FCH,FCL,FCN,FDF,FDI,FDL, FE,FEA,FEC,FEE,FEM,FFC,FFM,FGD,FGJ,FHD,FHI,FHJ,FHL,FHN,FJA,FJF,FJG,FKE,FKF,FKG,FKK,FLB,FLE,FLJ,FLK,FMA,FML,FNL,FOC,FOF,FOH,FOM,FPF,FPI,FPK,FQG, FR,FRG,FRL,FRN,FSC,FSD,FSL,FSM,FSN,FTA,FTE,FTF,FTH,FTJ,FTM,FUA,FUH,FUI,FVH,FWB,FWD,FWM,FXB,FXK, FY,FYB,FYL, FZ,FZA,FZL,GAK,GBK,GCF,GCH,GCL,GCN,GDG,GDI,GDL, GE,GEE,GEM,GFM,GGB,GGD,GGJ,GHD,GJA,GJF,GJG,GKE,GKF,GKK,GLB,GLE,GLJ,GLK,GMA,GML,GNL,GOC,GOF,GOH,GOM,GPF,GPI,GPK, GQ, GR,GRG,GRL,GSC,GSD,GSL,GSM,GSN,GTA,GTE,GTF,GTH,GTJ,GUA,GUH,GUI,GUL,GVH,GWB,GWD,GWM,GXB,GXK, GY,GYL, GZ,GZA,GZL,HAD,HAK,HBK,HCF,HCH,HCL,HCN,HDG,HDI,HDL, HE,HEA,HEC,HEE,HEM,HFC,HFM,HGB,HGD,HGJ,HHD,HHJ,HJA,HJF,HJG,HKE,HKF,HKK,HLE,HLJ,HML,HNL,HOF,HOH,HOI,HOM,HPF,HPG,HPI,HPK, HQ,HQG,HQK, HR,HRG,HRL,HRN,HSC,HSD,HSL,HSM,HTA,HTE,HTH,HTJ,HUH,HUI,HVH,HWB,HWD,HWM,HXB, HY,HYF,HYL, HZ,HZA,HZL,IAD,IAK,IBK,ICF,ICH,ICL,ICN,IDG,IDI,IDL, IE,IEA,IEC,IEE,IEM,IFC,IFM,IGB,IGJ, IH,IHD,IHJ,IHN,IJA,IJG,IJM,IKE,IKK,ILE,ILJ, IM,IMA,IML,INL,IOC,IOF,IOH,IOI,IOM,IPB,IPF,IPG,IPI, IQ,IQK, IR,IRG,IRL,IRN,ISC,ISD,ISM,ITA,ITC,ITE,ITF,ITH,ITJ,IUA,IUH,IUI,IVH,IWB,IWD,IWM,IXB,IXK, IY,IYF,IYL, IZ,IZA,IZL,JAD,JAK,JBI,JBJ,JBK,JCF,JCH,JCL,JCN,JDG,JDI,JDL, JE,JEA,JEC,JEE,JEF,JEM,JFM,JGB,JGD,JGJ,JHD,JHJ,JHN,JIC,JJA,JJF,JJG,JJM,JKE,JKK,JLD,JLE,JLJ, JM,JML,JNL,JOB,JOC,JOF,JOH,JOI,JPB,JPF,JPG,JPI, JQ,JQG,JQK, JR,JRG,JRL,JRN,JSD,JTA,JTC,JTE,JTF,JTH,JTJ,JUA,JUH,JUI,JVH,JWB,JWD,JWM,JXB,JXK, JY,JYF,JYL, JZ,JZA,JZL,KAD,KAK,KBJ,KBK,KCF,KCL,KCN,KDG,KDI,KDL, KE,KEC,KEE,KEF,KEM,KFM,KGD,KGJ,KHD,KHJ,KHN,KIC,KIG,KJF,KJG,KJM,KKE,KKK,KLD,KLE, KM,KMG,KML,KMN,KOB,KOC,KOF,KOH,KOI,KOM,KPB,KPF,KPG,KPI,KQB,KQG,KQK, KR,KRG,KRL,KRN,KSC,KSD,KTA,KTC,KTE,KTF,KTH,KTJ,KUA,KUE,KUH,KUI,KVH,KWB,KWD,KWK,KWM,KXB,KXK, KY,KYA,KYF,KYL, KZ,KZA,KZC,KZL,LAD,LAK,LBJ,LBK,LCH,LCL,LCN,LDG,LDL, LE,LEC,LEE,LEF,LEM,LFM,LGD,LGJ,LHJ,LHN, LI,LIG,LJF,LJG,LJK,LJL,LJM,LKE,LKK,LLD,LLE,LLJ, LM,LML,LMN,LOB,LOC,LOF,LOH,LOI,LOM,LPB,LPF,LPG,LPI,LQB,LQG, LR,LRG,LRN,LSC,LTA,LTC,LTE,LTF,LTH,LTI,LTJ,LUE,LUH,LUI,LWB,LWK,LWM,LXB,LXK, LY,LYA,LYF,LYL, LZ,LZA,LZC,LZL,MAD,MAK,MBC,MBJ,MBK,MCF,MCH,MCL,MCN,MDG,MDL, ME,MEC,MEE,MEM,MFM,MGD,MGJ,MHJ, MI,MIC,MIG,MJF,MJG,MJK,MJM,MKB,MKE,MKK,MLD,MLE,MLJ, MM,MML,MMN,MOB,MOC,MOE,MOF,MOH,MOI,MOM,MPB,MPF,MPG,MPI,MQB,MQG, MR,MRN,MSC,MSD,MTA,MTC,MTE,MTH,MTI,MTJ,MUH,MUI,MWB,MWD,MWK,MWM,MXB,MXK, MY,MYA,MYF,MYL, MZ,MZA,MZC,MZH,MZL,NAK,NBC,NCH,NCL,NCN,NDL, NE,NEC,NEE,NEM,NFM,NGB,NGD,NGJ,NHJ,NIC,NIG,NJF,NJG,NJK,NKB,NKE,NKK,NLD,NLE,NLJ, NM,NML,NMN,NOB,NOC,NOE,NOF,NOH,NOI,NOM,NPB,NPF,NPG,NPI,NQG, NR,NRK,NRL,NRN,NTA,NTC,NTE,NTH,NTI,NTJ,NTL,NUH,NUI,NVM,NWB,NWD,NWK,NWM,NXB,NXK, NY,NYA,NYF,NYL, NZ,NZA,NZC,NZH,NZL,OAD,OAK,OBC,OBE,OBJ,OBK,OCH,OCL,OCN,ODL, OE,OEC,OEM,OFF,OFM,OGB,OGD,OGJ,OHH,OHJ, OI,OIG,OJF,OJK,OKE,OKK,OLA,OLJ, OM,OML,OMN,OOB,OOC,OOE,OOF,OOH,OOI,OOM,OPB,OPF,OPG,OPI, OR,ORK,ORL,ORN,OSC,OSD,OTA,OTC,OTE,OTI,OTJ,OUH,OUI,OVM,OWB,OWK,OWM,OXB,OXK,OYA,OYF,OYL, OZ,OZA,OZC,OZL,PAD,PAK,PBC,PBJ,PBN,PCH,PCL,PCN,PDL, PE,PEC,PEE,PEM,PFF,PFM,PGB,PGD,PHJ,PIC,PIG,PJE,PJF,PJG,PJK,PJM,PKE,PKK,PLA,PLJ, PM,PMN,PNC,POB,POC,POE,POF,POH,POI,PPB,PPG,PPI,PQD,PQG, PR,PRK,PSC,PSD,PSE,PTA,PTC,PTE,PTH,PTI,PTJ,PUH,PVM,PWB,PWK,PXB,PXK, PY,PYA,PYF,PYL, PZ,PZA,PZC,PZH,PZL,QAD,QAK,QBJ,QBN,QCH,QCL,QCN,QDL, QE,QEC,QEE,QEM,QFM,QGD,QGJ,QHI, QI,QIC,QIG,QII,QJE,QJF,QJG,QJK,QKE,QKK,QLA,QLD,QLL, QM,QML,QMN,QNC,QNH,QOB,QOC,QOE,QOF,QOH,QOI,QPG,QPI,QQG, QR,QRB,QRJ,QSC,QSD,QSE,QSF,QSJ,QTA,QTC,QTE,QTH,QTI,QTJ,QUH,QVM,QWB,QWK,QXB,QXK, QY,QYA,QYF,QYL, QZ,QZA,QZC,QZH,QZL,RAD,RAK,RBJ,RBK,RCL,RCN,RDL, RE,REC,REE,REM,RFM,RGB,RGD,RGI,RGJ,RHI, RI,RIC,RIG,RJE,RJG,RJH,RJK,RKE,RKK,RLA,RLD,RLJ,RLL, RM,RML,RMN,RNA,RNC,RNH,ROB,ROC,ROF,ROI,ROK,RPB,RPG,RPI,RPM,RQG,RRB,RSC,RSD,RSE,RSF,RSJ,RTA,RTC,RTE,RTH,RTI,RTJ,RUH,RVM,RWB,RWK,RXB,RXK, RY,RYA,RYF,RYL,RZA,RZC,RZH,RZL,SAD,SAK,SBJ,SBN,SCL,SCN,SDL, SE,SEC,SEE,SEM,SFH,SGB,SGD,SGI,SGJ, SI,SIC,SIG,SJE,SJF,SJG,SJK,SKE,SKK,SLA,SLD,SLJ,SLL, SM,SMN,SNA,SNC,SNH,SOB,SOC,SOF,SOI,SOK,SPB,SPI,SPM,SQG,SQL,SSC,SSD,SSF,SSJ,STA,STC,STE,STH,STI,STJ,SUH,SVM,SWB,SWK,SXB,SXK,SYA,SYF,SYL, SZ,SZA,SZC,SZH,SZL,TAD,TAK,TBJ,TBN,TCL,TCN,TDL, TE,TEC,TEM, TF,TFM,TGB,TGD,TGI, TI,TIC,TJE,TJF,TJG,TJK,TJM,TKB,TKE,TKK,TLA,TLJ,TLL, TM,TML, TN,TNA,TNC,TNH,TOB,TOC,TOF,TOI,TOK,TPB,TPG,TPI,TPM,TQG,TQL,TSC,TSE,TSF,TSJ, TT,TTA,TTC,TTE,TTH,TTI,TTJ,TUH,TVM,TWB,TWK,TXB,TYA,TYD,TYL, TZ,TZA,TZC,TZH,TZJ,TZL,  U,UAD,UAK,UBG,UBH,UBN,UCL,UCN,UDL, UE,UEC,UEE,UEM,UFH,UGB,UGI,UGJ,UGL,UIA,UIC,UIG,UJE,UJF,UJG,UJK,UJN,UKB,UKE,UKK,ULJ,ULL, UM,UML, UN,UNA,UNC,UNH,UOC,UOF,UOI,UOK,UPB,UPG,UPI,UQG,UQL,USC,USE,USJ, UT,UTA,UTC,UTE,UTH,UTI,UTJ,UUH,UVM,UWB,UWK,UXB,UYD,UYF,UYL, UZ,UZA,UZC,UZJ,UZL,  V,VAD,VAK,VBH,VBN,VCL,VCN, VE,VEC,VEE,VEM,VFH,VFJ,VGB,VGD,VGI,VGJ,VGL,VHH,VIA,VIC,VIG,VJE,VJF,VJG,VJK,VJM,VKE,VKK,VLA,VLJ,VLL, VM,VML, VN,VNA,VNC,VNH,VOC,VOF,VOI,VOK,VPB,VPG,VPI,VQG,VQL,VSA,VSC,VSE,VSF,VSJ, VT,VTA,VTC,VTE,VTH,VTI,VTJ,VUH,VVM,VWB,VWK,VXB,VYA,VYD,VYF,VYL, VZ,VZA,VZC,VZJ,VZL,WAD,WAK,WBG,WBH,WBN,WCL,WCN, WE,WEC,WEE,WEM,WFH,WFJ,WGD,WGI,WGJ,WGL,WHH,WIA,WIC,WIG,WJE,WJF,WJG,WJK,WJM,WJN,WKB,WKE,WKK,WLA,WLJ,WLL,WML, WN,WNC,WNH,WOC,WOF,WOI,WOK,WPB,WPG,WPI,WQG,WQL,WRM,WSA,WSC,WSE,WSF,WSJ, WT,WTA,WTE,WTH,WTI,WTJ,WUH,WVD,WVM,WWB,WWK,WXB,WYA,WYD,WYF,WYL, WZ,WZA,WZC,WZJ,WZL,XAK,XBG,XBN,XCL,XCN, XE,XEE,XEM,XFH,XGD,XGI,XGJ,XGL,XHH,XIA,XIC,XIE,XIG,XJE,XJF,XJG,XJM,XKB,XKE,XKK,XLL,XML, XN,XNC,XNH,XOF,XOI,XOK,XPB,XPG,XPI,XQG,XQL,XRM,XSA,XSC,XSE,XSJ, XT,XTA,XTE,XTH,XTI,XTJ,XUH,XVD,XVM,XWB,XWK,XXB,XXJ,XYA,XYF,XYL, XZ,XZA,XZC,XZL,YAK,YBG,YBH,YBL,YBN,YCL,YEC,YEE,YEK,YEM,YFH,YFJ,YGD,YGI,YGJ,YGL,YIA,YIC,YIE,YIG,YJE,YJF,YJG,YJK,YJM,YKE,YKK,YLA,YLL,YML,YNH,YOC,YOF,YOI,YOK,YPB,YPG,YQG,YQL,YRM,YSA,YSC,YSE,YSF,YSJ, YT,YTA,YTE,YTH,YTI,YTJ,YUH,YVD,YVM,YWB,YWK,YXB,YYA,YYB,YYF,YYL,YZA,YZC,YZJ,ZAK,ZBA,ZBH,ZBL,ZBN,ZCL, ZD,ZEC,ZEE,ZEK,ZEM,ZFH,ZFJ,ZGD,ZGI,ZGL,ZIA,ZIC,ZIG,ZIN,ZJE,ZJF,ZJG,ZJK,ZJM,ZKB,ZKE,ZKK,ZKM,ZLA,ZLL,ZML,ZNC,ZNH, ZO,ZOC,ZOF,ZOI,ZOK,ZPB,ZPG,ZQG,ZQL,ZRM, ZS,ZSA,ZSC,ZSE,ZSF,ZSJ, ZT,ZTA,ZTE,ZTH,ZTI,ZTJ,ZUH,ZVD,ZVG,ZVM,ZWB,ZWK, ZX,ZXB,ZXJ,ZYF,ZYL, ZZ,ZZA,ZZC,ZZJ\n"
     ]
    }
   ],
   "source": [
    "maxmax = df_2.loc[df_2.duration == df_2.duration.max()].caseid\n",
    "print(\"The longest cases by duration are the following: \" + maxmax.to_string(index=False).replace('\\n', ','))\n",
    "minmin = df_2.loc[df_2.duration == df_2.duration.min()].caseid\n",
    "print(\"\\nThe shortest cases by duration are the following: \" + minmin.to_string(index=False).replace('\\n', ','))\n"
   ],
   "metadata": {
    "collapsed": false,
    "ExecuteTime": {
     "end_time": "2023-12-05T11:06:18.556207Z",
     "start_time": "2023-12-05T11:06:18.532977Z"
    }
   },
   "id": "e5b974fdcbc48cf8"
  },
  {
   "cell_type": "markdown",
   "source": [
    "Find the longest case(s) by number of events"
   ],
   "metadata": {
    "collapsed": false
   },
   "id": "9e2153227778d64"
  },
  {
   "cell_type": "code",
   "execution_count": 10,
   "outputs": [
    {
     "name": "stdout",
     "output_type": "stream",
     "text": [
      "The longest cases by event_number are the following: MBL\n"
     ]
    }
   ],
   "source": [
    "max_number = df_2.loc[df_2.event_number == df_2.event_number.max()].caseid\n",
    "print(\"The longest cases by event_number are the following: \" + max_number.to_string(index=False).replace('\\n', ','))\n"
   ],
   "metadata": {
    "collapsed": false,
    "ExecuteTime": {
     "end_time": "2023-12-05T11:06:26.774181Z",
     "start_time": "2023-12-05T11:06:26.765845Z"
    }
   },
   "id": "7d0caf1867bf869b"
  }
 ],
 "metadata": {
  "kernelspec": {
   "display_name": "Python 3",
   "language": "python",
   "name": "python3"
  },
  "language_info": {
   "codemirror_mode": {
    "name": "ipython",
    "version": 2
   },
   "file_extension": ".py",
   "mimetype": "text/x-python",
   "name": "python",
   "nbconvert_exporter": "python",
   "pygments_lexer": "ipython2",
   "version": "2.7.6"
  }
 },
 "nbformat": 4,
 "nbformat_minor": 5
}
